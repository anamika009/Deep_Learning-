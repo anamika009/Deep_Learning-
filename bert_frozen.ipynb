{
 "cells": [
  {
   "cell_type": "code",
   "execution_count": null,
   "id": "cebd0f49",
   "metadata": {
    "id": "Oc1zr4Bk1lor",
    "outputId": "f259c202-f0c0-4167-f95a-9df7743bc8e0",
    "papermill": {
     "duration": 0.021983,
     "end_time": "2024-04-01T15:07:24.280250",
     "exception": false,
     "start_time": "2024-04-01T15:07:24.258267",
     "status": "completed"
    },
    "tags": []
   },
   "outputs": [],
   "source": []
  },
  {
   "cell_type": "code",
   "execution_count": 1,
   "id": "89bd0bb9",
   "metadata": {
    "execution": {
     "iopub.execute_input": "2024-04-01T15:07:24.315206Z",
     "iopub.status.busy": "2024-04-01T15:07:24.314407Z",
     "iopub.status.idle": "2024-04-01T15:07:26.120948Z",
     "shell.execute_reply": "2024-04-01T15:07:26.119840Z"
    },
    "id": "WYunQycl2bu0",
    "outputId": "24032f72-6d54-4dcc-b666-3e6625595bb5",
    "papermill": {
     "duration": 1.826209,
     "end_time": "2024-04-01T15:07:26.122970",
     "exception": false,
     "start_time": "2024-04-01T15:07:24.296761",
     "status": "completed"
    },
    "tags": []
   },
   "outputs": [
    {
     "name": "stdout",
     "output_type": "stream",
     "text": [
      "[nltk_data] Downloading package punkt to /usr/share/nltk_data...\n",
      "[nltk_data]   Package punkt is already up-to-date!\n"
     ]
    },
    {
     "data": {
      "text/plain": [
       "True"
      ]
     },
     "execution_count": 1,
     "metadata": {},
     "output_type": "execute_result"
    }
   ],
   "source": [
    "import nltk\n",
    "nltk.download('punkt')"
   ]
  },
  {
   "cell_type": "code",
   "execution_count": 1,
   "id": "9ebf6930",
   "metadata": {
    "execution": {
     "iopub.execute_input": "2024-04-01T15:07:26.157600Z",
     "iopub.status.busy": "2024-04-01T15:07:26.157178Z",
     "iopub.status.idle": "2024-04-01T15:07:26.161582Z",
     "shell.execute_reply": "2024-04-01T15:07:26.160734Z"
    },
    "id": "UI6YBtA72muW",
    "papermill": {
     "duration": 0.023743,
     "end_time": "2024-04-01T15:07:26.163479",
     "exception": false,
     "start_time": "2024-04-01T15:07:26.139736",
     "status": "completed"
    },
    "tags": []
   },
   "outputs": [],
   "source": [
    "train_data_path = \"G:/PARAG_S/A1_part2/data/data/train.json\"\n",
    "test_data_path = \"G:/PARAG_S/A1_part2/data/data/test.json\"\n",
    "val_data_path = \"G:/PARAG_S/A1_part2/data/data/dev.json\"\n",
    "glove_path = \"G:/NLP_assignment_2/glove.6B.100d.txt\"\n"
   ]
  },
  {
   "cell_type": "markdown",
   "id": "514ff582",
   "metadata": {
    "id": "nrUqIkcs-ZkV",
    "papermill": {
     "duration": 0.017193,
     "end_time": "2024-04-01T15:07:26.197847",
     "exception": false,
     "start_time": "2024-04-01T15:07:26.180654",
     "status": "completed"
    },
    "tags": []
   },
   "source": []
  },
  {
   "cell_type": "code",
   "execution_count": 2,
   "id": "77f8833c",
   "metadata": {
    "execution": {
     "iopub.execute_input": "2024-04-01T15:07:26.231793Z",
     "iopub.status.busy": "2024-04-01T15:07:26.231506Z",
     "iopub.status.idle": "2024-04-01T15:08:42.326782Z",
     "shell.execute_reply": "2024-04-01T15:08:42.325941Z"
    },
    "id": "ozOdOqZRVHrO",
    "outputId": "7a2c2025-7835-4423-cbc7-27403e27cbe5",
    "papermill": {
     "duration": 76.115275,
     "end_time": "2024-04-01T15:08:42.329176",
     "exception": false,
     "start_time": "2024-04-01T15:07:26.213901",
     "status": "completed"
    },
    "tags": []
   },
   "outputs": [
    {
     "name": "stderr",
     "output_type": "stream",
     "text": [
      "c:\\Users\\ANAND\\AppData\\Local\\Programs\\Python\\Python310\\lib\\site-packages\\tqdm\\auto.py:21: TqdmWarning: IProgress not found. Please update jupyter and ipywidgets. See https://ipywidgets.readthedocs.io/en/stable/user_install.html\n",
      "  from .autonotebook import tqdm as notebook_tqdm\n"
     ]
    }
   ],
   "source": [
    "\n",
    "import nltk\n",
    "import torch.nn.functional as F\n",
    "from nltk.tokenize import word_tokenize\n",
    "import json\n",
    "# nltk.download('punkt')\n",
    "# Load data from JSON file\n",
    "# Loading  training_data from JSON file\n",
    "with open(train_data_path, 'r') as file:\n",
    "    data = json.load(file)\n",
    "\n",
    "\n",
    "#loading validation_data from json file\n",
    "with open(val_data_path, 'r') as file:\n",
    "    val_data = json.load(file)\n",
    "\n",
    "\n",
    "\n",
    "#loading test_data from json file\n",
    "with open(test_data_path, 'r') as file:\n",
    "    test_data = json.load(file)\n",
    "\n",
    "\n",
    "\n",
    "# Iterate through each problem\n",
    "for problem_data in data:\n",
    "    problem = problem_data[\"Problem\"]\n",
    "    linear_formula = problem_data[\"linear_formula\"]\n",
    "    answer = problem_data[\"answer\"]\n",
    "from transformers import BertTokenizer\n",
    "import torch\n",
    "\n",
    "tokenizer = BertTokenizer.from_pretrained('bert-base-cased')\n",
    "\n",
    "def prepare_data_for_bert(data, tokenizer, max_length=256):\n",
    "   \n",
    "    input_ids = []\n",
    "    attention_masks = []\n",
    "\n",
    "    for item in data:\n",
    "        encoded_dict = tokenizer.encode_plus(\n",
    "            item,                      # Problem text to encode.\n",
    "            add_special_tokens=True,   # Add '[CLS]' and '[SEP]'.\n",
    "            max_length=max_length,     # Pad & truncate all texts.\n",
    "            padding='max_length',      # Pad all to max_length.\n",
    "            truncation=True,           # Truncate to max_length.\n",
    "            return_attention_mask=True,# Construct attention masks.\n",
    "            return_tensors='pt',       # Return pytorch tensors.\n",
    "       )\n",
    "\n",
    "        input_ids.append(encoded_dict['input_ids'])\n",
    "        attention_masks.append(encoded_dict['attention_mask'])\n",
    "\n",
    "\n",
    "    input_ids = torch.cat(input_ids, dim=0)\n",
    "    attention_masks = torch.cat(attention_masks, dim=0)\n",
    "\n",
    "    return input_ids, attention_masks\n",
    "\n",
    "\n",
    "\n",
    "problem_texts = [item[\"Problem\"].lower() for item in data]  \n",
    "input_ids, attention_masks = prepare_data_for_bert(problem_texts, tokenizer)\n",
    "\n",
    "val_problem_texts = [item[\"Problem\"].lower() for item in val_data] \n",
    "val_input_ids, val_attention_masks = prepare_data_for_bert(val_problem_texts, tokenizer)\n",
    "\n",
    "test_problem_texts = [item[\"Problem\"].lower() for item in test_data]  \n",
    "test_input_ids, test_attention_masks = prepare_data_for_bert(test_problem_texts, tokenizer)\n",
    "\n",
    "\n",
    "\n",
    "for problem_data in data:\n",
    "    problem = problem_data[\"Problem\"]\n",
    "    linear_formula = problem_data[\"linear_formula\"]\n",
    "    answer = problem_data[\"answer\"]\n",
    "\n",
    "\n",
    "\n",
    "from nltk.tokenize import word_tokenize\n",
    "\n",
    "import re\n",
    "from nltk.tokenize import word_tokenize\n",
    "\n",
    "def tokenize_formula(formula):\n",
    "    \n",
    "    parts = formula.split('|')\n",
    "\n",
    "   \n",
    "    tokens = ['<sos>']\n",
    "    for part in parts:\n",
    "        if part: \n",
    "            \n",
    "            open_parenthesis_index = part.find('(')\n",
    "            if open_parenthesis_index != -1:\n",
    "                function = part[:open_parenthesis_index]\n",
    "                arguments = part[open_parenthesis_index+1:-1]  \n",
    "                arguments_tokens = arguments.split(',')\n",
    "                # print(arguments_tokens)\n",
    "                arguments_token_new=[]\n",
    "                for tok in arguments_tokens:\n",
    "                    arguments_token_new.append(tok)\n",
    "                    arguments_token_new.append(',')\n",
    "                    \n",
    "                tokens.extend([function, '('] + arguments_token_new[:-1] + [')'])\n",
    "            else:\n",
    "                tokens.append(part)\n",
    "        if tokens[-1] != '|':\n",
    "            tokens.append('|')\n",
    "    tokens.append(\"<eos>\")\n",
    "\n",
    "    return tokens\n",
    "\n",
    "\n",
    "from collections import Counter\n",
    "from nltk.tokenize import word_tokenize\n",
    "\n",
    "def build_vocab(texts, is_formula=False):\n",
    "    counter = Counter()\n",
    "    for text in texts:\n",
    "        if is_formula:\n",
    "            tokens = tokenize_formula(text.lower())  \n",
    "        else:\n",
    "            tokens = word_tokenize(text.lower())  \n",
    "        counter.update(tokens)\n",
    "\n",
    "    \n",
    "    vocab = {\"<pad>\": 0, \"<unk>\": 1, \"<sos>\": 2, \"<eos>\":3, \"<digit>\": 4}\n",
    "\n",
    "\n",
    "    \n",
    "    for word in counter:\n",
    "        if word not in vocab:\n",
    "            vocab[word] = len(vocab)\n",
    "\n",
    "    return vocab, counter\n",
    "\n",
    "\n",
    "\n",
    "import numpy as np\n",
    "problem_texts = [item[\"Problem\"].lower() for item in data]\n",
    "linear_formulas = [item[\"linear_formula\"].lower() for item in data]\n",
    "\n",
    "# Build vocabularies\n",
    "problem_vocab, _ = build_vocab(problem_texts)\n",
    "formula_vocab, _ = build_vocab(linear_formulas, is_formula=True)\n",
    "\n",
    "\n",
    "\n",
    "\n",
    "\n",
    "\n",
    "def text_to_indices(text, vocab):\n",
    "    tokens = word_tokenize(text.lower()) + ['<eos>']  # Appending <eos> directly\n",
    "    return [vocab.get(token, vocab[\"<unk>\"]) for token in tokens if not token.isdigit()]\n",
    "\n",
    "\n",
    "# def text_to_indices(text, vocab):\n",
    "#     return [vocab.get(token, vocab[\"<unk>\"]) for token in word_tokenize(text.lower()) if not token.isdigit()]\n",
    "def text_to_indices_formula(text, vocab):\n",
    "    return [vocab.get(token, vocab[\"<unk>\"]) for token in tokenize_formula(text.lower())]\n",
    "# def text_to_indices(text, vocab):\n",
    "#     for token in word_tokenize(text.lower()):\n",
    "#         if not token.isdigit():\n",
    "#             return [vocab.get(token, vocab[\"<unk>\"])]\n",
    "\n",
    "\n",
    "\n",
    "\n",
    "tokenized_problems = [text_to_indices(item[\"Problem\"], problem_vocab) for item in data]\n",
    "tokenized_formulas = [text_to_indices_formula(item[\"linear_formula\"], formula_vocab) for item in data]\n",
    "from torch.utils.data import Dataset, DataLoader\n",
    "from torch.nn.utils.rnn import pad_sequence\n",
    "\n",
    "class MathProblemDataset(Dataset):\n",
    "    def __init__(self, problems, attention_masks, formulas):\n",
    "        self.problems = problems\n",
    "        self.attention_masks = attention_masks\n",
    "        self.formulas = formulas\n",
    "\n",
    "    def __len__(self):\n",
    "        return len(self.problems)\n",
    "\n",
    "    def __getitem__(self, idx):\n",
    "        problem = self.problems[idx]\n",
    "        attention_mask = self.attention_masks[idx]\n",
    "        formula = torch.tensor(self.formulas[idx], dtype=torch.long)\n",
    "        return {\n",
    "            \"problem\": problem,\n",
    "            \"attention_mask\": attention_mask,\n",
    "            \"formula\": formula\n",
    "        }\n",
    "\n",
    "def collate_fn(batch):\n",
    "    \n",
    "    problems = [item[\"problem\"] for item in batch]\n",
    "    attention_masks = [item[\"attention_mask\"] for item in batch]\n",
    "    formulas = [item[\"formula\"] for item in batch]\n",
    "\n",
    "    # Stacking problems and attention\n",
    "    problems = torch.stack(problems)\n",
    "    attention_masks = torch.stack(attention_masks)\n",
    "\n",
    "    # Padding the formulas sequences \n",
    "    formulas_padded = pad_sequence(formulas, batch_first=True, padding_value=formula_vocab[\"<pad>\"])\n",
    "\n",
    "    return {\n",
    "        \"problem\": problems,\n",
    "        \"attention_mask\": attention_masks,\n",
    "        \"formula\": formulas_padded\n",
    "    }\n",
    "\n",
    "\n",
    "\n",
    "tokenized_problems = [text_to_indices(item[\"Problem\"], problem_vocab) for item in data]\n",
    "tokenized_formulas = [text_to_indices_formula(item[\"linear_formula\"], formula_vocab) for item in data]\n",
    "\n",
    "#tokenizing validation data\n",
    "\n",
    "tokenized_val_problems = [text_to_indices(item[\"Problem\"], problem_vocab) for item in val_data]\n",
    "tokenized_val_formulas = [text_to_indices_formula(item[\"linear_formula\"], formula_vocab) for item in val_data]\n",
    "\n",
    "\n",
    "#tokenizing test data\n",
    "tokenized_test_problems = [text_to_indices(item[\"Problem\"], problem_vocab) for item in test_data]\n",
    "tokenized_test_formulas = [text_to_indices_formula(item[\"linear_formula\"], formula_vocab) for item in test_data]\n",
    "\n",
    "\n",
    "dataset = MathProblemDataset(input_ids, attention_masks, tokenized_formulas)\n",
    "\n",
    "val_dataset = MathProblemDataset(val_input_ids, val_attention_masks, tokenized_val_formulas)\n",
    "\n",
    "test_dataset = MathProblemDataset(test_input_ids, test_attention_masks, tokenized_test_formulas)\n",
    "\n",
    "# Creating DataLoader\n",
    "data_loader = DataLoader(dataset, batch_size=50 ,shuffle=True, collate_fn=collate_fn)\n",
    "val_data_loader = DataLoader(val_dataset, batch_size=30, shuffle=True, collate_fn=collate_fn)\n",
    "test_data_loader = DataLoader(test_dataset, batch_size=30, shuffle=True, collate_fn=collate_fn)\n",
    "\n",
    "\n",
    "# sample_batch = next(iter(data_loader))\n",
    "# sample_batch['formula']\n",
    "# formula_vocab\n",
    "from transformers import BertModel\n",
    "import torch.nn as nn\n",
    "import random\n",
    "\n",
    "class Attention(nn.Module):\n",
    "    def __init__(self, enc_hid_dim, dec_hid_dim):\n",
    "        super().__init__()\n",
    "        # print(f'enc dim {enc_hid_dim} | dec dim {dec_hid_dim}')\n",
    "        self.attn = nn.Linear((enc_hid_dim * 2) + dec_hid_dim, dec_hid_dim)\n",
    "        self.v = nn.Linear(dec_hid_dim, 1, bias=False)\n",
    "\n",
    "    def forward(self, hidden, encoder_outputs):\n",
    "        # hidden: [batch size, dec hid dim]\n",
    "\n",
    "\n",
    "        # print(f'initial hidden {hidden.shape}')\n",
    "        # print(f'encoder_output {encoder_outputs.shape}')\n",
    "        # encoder_outputs: [src len, batch size, enc hid dim * 2]\n",
    "        # encoder_outputs = encoder_outputs.permute(1, 0, 2)\n",
    "        # print(encoder_outputs.shape)\n",
    "        batch_size = encoder_outputs.shape[0]\n",
    "        src_len = encoder_outputs.shape[1]\n",
    "        # print(src_len)\n",
    "\n",
    "        # repeat decoder hidden state src_len times\n",
    "        hidden = hidden.unsqueeze(1).repeat(1, src_len, 1)\n",
    "\n",
    "\n",
    "\n",
    "        # print(f'inside attention | hidden : {hidden.shape} | encoder_outputs : {encoder_outputs.shape}')\n",
    "        # print(f'concat {torch.cat((hidden, encoder_outputs), dim=2).shape}')\n",
    "\n",
    "        # Calculate energy\n",
    "        energy = torch.tanh(self.attn(torch.cat((hidden, encoder_outputs), dim=2)))\n",
    "        # print(f'energy {energy.shape}')\n",
    "        attention = self.v(energy).squeeze(2)\n",
    "        # print(f'attention {attention.shape}')\n",
    "\n",
    "        return F.softmax(attention, dim=1)\n",
    "\n",
    "\n",
    "class BERT_Encoder(nn.Module):\n",
    "    def __init__(self, bert_model_name='bert-base-cased'):\n",
    "        super().__init__()\n",
    "        self.bert = BertModel.from_pretrained(bert_model_name)\n",
    "\n",
    "        # Freeze BERT parameters to prevent them from being updated during training\n",
    "        for param in self.bert.parameters():\n",
    "            param.requires_grad = False\n",
    "        self.reduce_dim=nn.Linear(768,256)\n",
    "\n",
    "    def forward(self, input_ids, attention_mask):\n",
    "        # BERT returns a tuple, where the first element is the last hidden state\n",
    "        outputs = self.bert(input_ids, attention_mask=attention_mask)\n",
    "        last_hidden_state = outputs.last_hidden_state\n",
    "        # last_hidden_state shape: [batch_size, sequence_length, hidden_size]\n",
    "        # For BERT-base-cased, hidden_size is 768\n",
    "        # print(f'inside encoder | outputs : {outputs} | last_hidden_state : {last_hidden_state}')\n",
    "        reduced_state=self.reduce_dim(last_hidden_state)\n",
    "        return reduced_state\n",
    "\n",
    "\n",
    "class Decoder(nn.Module):\n",
    "    def __init__(self, output_dim, emb_dim, enc_hid_dim, dec_hid_dim, dropout, attention):\n",
    "        super().__init__()\n",
    "\n",
    "        self.output_dim = output_dim\n",
    "        self.attention = attention\n",
    "\n",
    "        self.embedding = nn.Embedding(output_dim, emb_dim)\n",
    "        self.rnn = nn.LSTM((enc_hid_dim * 2) + emb_dim, dec_hid_dim)\n",
    "        self.fc_out = nn.Linear((enc_hid_dim * 2) + dec_hid_dim + emb_dim, output_dim)\n",
    "        self.dropout = nn.Dropout(dropout)\n",
    "\n",
    "    def forward(self, input, hidden, cell, encoder_outputs):\n",
    "        # input = [batch size]\n",
    "        # hidden = [batch size, dec hid dim]\n",
    "        # cell = [batch size, dec hid dim]\n",
    "        # encoder_outputs = [src len, batch size, enc hid dim * 2]\n",
    "        input = input.unsqueeze(0)  # input = [1, batch size]\n",
    "\n",
    "        embedded = self.dropout(self.embedding(input))  # embedded = [1, batch size, emb dim]\n",
    "\n",
    "        # Calculating attention weights and applying to encoder outputs\n",
    "        a = self.attention(hidden, encoder_outputs)\n",
    "        a = a.unsqueeze(1)  # a = [batch size, 1, src len]\n",
    "\n",
    "        encoder_outputs = encoder_outputs  # encoder_outputs = [batch size, src len, enc hid dim * 2]\n",
    "        # print(f'encoder_outputs {encoder_outputs.shape}')\n",
    "        weighted = torch.bmm(a, encoder_outputs)  # weighted = [batch size, 1, enc hid dim * 2]\n",
    "        weighted = weighted.permute(1, 0, 2)  # weighted = [1, batch size, enc hid dim * 2]\n",
    "\n",
    "        # Combining embedded input word and weighted context, and pass to LSTM\n",
    "        rnn_input = torch.cat((embedded, weighted), dim=2)\n",
    "        output, (hidden, cell) = self.rnn(rnn_input, (hidden.unsqueeze(0), cell.unsqueeze(0)))\n",
    "\n",
    "       \n",
    "        embedded = embedded.squeeze(0)\n",
    "        output = output.squeeze(0)\n",
    "        weighted = weighted.squeeze(0)\n",
    "        prediction = self.fc_out(torch.cat((output, weighted, embedded), dim=1))\n",
    "\n",
    "        return prediction, hidden.squeeze(0), cell.squeeze(0), a.squeeze(1)\n",
    "\n",
    "\n",
    "class Seq2Seq(nn.Module):\n",
    "    def __init__(self, encoder, decoder, device,  bert_output_dim=256, dec_hid_dim=256):\n",
    "        super().__init__()\n",
    "        self.encoder = encoder\n",
    "        self.decoder = decoder\n",
    "        self.device = device\n",
    "\n",
    "        # Initializing hidden and cell state transformation layers\n",
    "        self.fc_hidden = nn.Linear(bert_output_dim,dec_hid_dim)\n",
    "        self.fc_cell = nn.Linear(bert_output_dim, dec_hid_dim)\n",
    "\n",
    "    def forward(self, input_ids, attention_mask, trg, teacher_forcing_ratio=0.6):\n",
    "        # input_ids = [batch size, src len]\n",
    "        # trg = [batch size, trg len]\n",
    "        batch_size = trg.shape[0]\n",
    "        trg_len = trg.shape[1]\n",
    "        trg_vocab_size = self.decoder.output_dim\n",
    "\n",
    "        # tensor to store decoder outputs\n",
    "        outputs = torch.zeros(trg_len-1, batch_size, trg_vocab_size).to(self.device)\n",
    "\n",
    "        # last hidden state of the encoder is used as the initial hidden state of the decoder\n",
    "        encoder_outputs = self.encoder(input_ids, attention_mask)\n",
    "\n",
    "       \n",
    "        hidden = torch.tanh(self.fc_hidden(encoder_outputs[:, 0]))\n",
    "        cell = torch.tanh(self.fc_cell(encoder_outputs[:, 0]))\n",
    "\n",
    "        # first input to the decoder is the <sos> tokens\n",
    "        input = trg[:, 0]\n",
    "\n",
    "        for t in range(0, trg_len-1):\n",
    "            output, hidden, cell, _ = self.decoder(input, hidden, cell, encoder_outputs)\n",
    "            outputs[t] = output\n",
    "            teacher_force = random.random() < teacher_forcing_ratio\n",
    "            top1 = output.argmax(1)\n",
    "            input = trg[:, t+1] if teacher_force else top1\n",
    "\n",
    "        return outputs\n",
    "\n",
    "device = torch.device('cuda' if torch.cuda.is_available() else 'cpu')\n",
    "\n",
    "\n",
    "DEC_EMB_DIM = 100  # Embedding dimension for decoder\n",
    "ENC_HID_DIM = 128  # Hidden dimension for encoder\n",
    "DEC_HID_DIM = 256  # Hidden dimension for decoder (\n",
    "# ENC_DROPOUT = 0.5  # Dropout rate for encoder\n",
    "DEC_DROPOUT = 0.5  # Dropout rate for decoder\n",
    "OUTPUT_DIM = len(formula_vocab)\n",
    "# Assuming your LSTM decoder is defined as `decoder`\n",
    "encoder = BERT_Encoder().to(device)\n",
    "attention = Attention(ENC_HID_DIM, DEC_HID_DIM)\n",
    "\n",
    "decoder = Decoder(OUTPUT_DIM, DEC_EMB_DIM, ENC_HID_DIM, DEC_HID_DIM, DEC_DROPOUT, attention)\n",
    "model = Seq2Seq(encoder, decoder, device).to(device)\n",
    "\n",
    "from torch.nn.utils.rnn import pack_padded_sequence, pad_packed_sequence\n",
    "import torch.optim as optim\n",
    "from tqdm.auto import tqdm\n",
    "from transformers import AdamW\n",
    "\n",
    "\n",
    "\n",
    "device = torch.device('cuda' if torch.cuda.is_available() else 'cpu')\n",
    "\n",
    "encoder_params = list(model.encoder.bert.named_parameters())\n",
    "other_params = [p for n, p in model.named_parameters() if not n.startswith('encoder.bert')]\n",
    "\n",
    "learning_rate = 0.001\n",
    "optimizer = optim.Adam(model.parameters(), lr=learning_rate, weight_decay=1e-4)\n",
    "\n",
    "\n",
    "PAD_IDX = formula_vocab[\"<pad>\"] \n",
    "criterion = nn.CrossEntropyLoss(ignore_index=PAD_IDX).to(device)\n",
    "\n",
    "# # Define a training function\n",
    "# def train(model, iterator, optimizer, criterion, clip):\n",
    "#     model.train()  # Set the model to training mode\n",
    "#     epoch_loss = 0\n",
    "\n",
    "#     for i, batch in enumerate(tqdm(iterator)):\n",
    "#         input_ids = batch['problem'].to(device)\n",
    "#         attention_mask = batch['attention_mask'].to(device)\n",
    "#         trg = batch['formula'].to(device)\n",
    "#         # print(f'target {trg}')\n",
    "\n",
    "#         # Adjust target tensor to fit expected output structure, shifting it by one to ignore <sos> token for loss calculation\n",
    "#         trg_input = trg\n",
    "#         trg_output = trg[:, 1:]\n",
    "#         # trg_new = trg[:, 1:]\n",
    "#         # print(f'trg_out : {trg_output.shape}')\n",
    "#         # print(f'trg_output : {trg_output}')\n",
    "\n",
    "#         optimizer.zero_grad()  # Clear any previously calculated gradients\n",
    "\n",
    "#         output = model(input_ids, attention_mask, trg_input)\n",
    "#         # print(f'output {output.shape}')\n",
    "\n",
    "#         # Reshape output and target tensors to compute loss\n",
    "#         output_dim = output.shape[-1]\n",
    "#         # output = output.contiguous().view(-1, output_dim)\n",
    "#         # trg_output = trg_output.contiguous().view(-1)\n",
    "#         output=output.permute(1,2,0)\n",
    "#         # Calculate loss\n",
    "#         loss = criterion(output, trg_output)\n",
    "#         loss.backward()  # Backpropagate the loss\n",
    "\n",
    "#         torch.nn.utils.clip_grad_norm_(model.parameters(), clip)  # Gradient clipping\n",
    "\n",
    "#         optimizer.step()  # Update model parameters\n",
    "\n",
    "#         epoch_loss += loss.item()\n",
    "\n",
    "#     return epoch_loss / len(iterator)\n",
    "\n",
    "\n",
    "def train(model, iterator, optimizer, criterion, clip):\n",
    "    model.train()  # Set the model to training mode\n",
    "    epoch_loss = 0\n",
    "    optimizer.zero_grad()  # Clear gradients at the beginning of each epoch\n",
    "\n",
    "    for i, batch in enumerate(tqdm(iterator)):\n",
    "        input_ids = batch['problem'].to(device)\n",
    "        attention_mask = batch['attention_mask'].to(device)\n",
    "        trg = batch['formula'].to(device)\n",
    "\n",
    "        # Adjusting target tensor to fit expected output structure, shifting it by one to ignore <sos> token for loss calculation\n",
    "        trg_input = trg\n",
    "        trg_output = trg[:, 1:]\n",
    "\n",
    "        output = model(input_ids, attention_mask, trg_input)\n",
    "\n",
    "        # Reshaping output and target tensors to compute loss\n",
    "        output = output.permute(1, 2, 0)\n",
    "        output_dim = output.shape[-1]\n",
    "\n",
    "        # Calculating loss\n",
    "        loss = criterion(output, trg_output)\n",
    "        epoch_loss += loss.item()\n",
    "\n",
    "        # Backpropagation\n",
    "        loss.backward()\n",
    "\n",
    "        # Gradient clipping\n",
    "        torch.nn.utils.clip_grad_norm_(model.parameters(), clip)\n",
    "\n",
    "        \n",
    "        optimizer.step()\n",
    "        \n",
    "\n",
    "    return epoch_loss / len(iterator)\n",
    "\n",
    "\n",
    "import torch\n",
    "from tqdm import tqdm\n",
    "\n",
    "def evaluate(model, iterator, criterion):\n",
    "    model.eval()  \n",
    "    epoch_loss = 0\n",
    "\n",
    "    with torch.no_grad():\n",
    "        for batch in tqdm(iterator):\n",
    "            input_ids = batch['problem'].to(device)\n",
    "            attention_mask = batch['attention_mask'].to(device)\n",
    "            trg = batch['formula'].to(device)\n",
    "\n",
    "            # shifting it by one to ignore <sos> token for loss calculation\n",
    "            trg_input = trg\n",
    "            trg_output = trg[:, 1:]\n",
    "\n",
    "            output = model(input_ids, attention_mask, trg_input)\n",
    "\n",
    "            # Reshape output and target tensors to compute loss\n",
    "            output = output.permute(1, 2, 0)\n",
    "            output_dim = output.shape[-1]\n",
    "\n",
    "            # Calculate loss\n",
    "            loss = criterion(output, trg_output)\n",
    "            epoch_loss += loss.item()\n",
    "\n",
    "    return epoch_loss / len(iterator)"
   ]
  },
  {
   "cell_type": "code",
   "execution_count": 4,
   "id": "3eaa4199",
   "metadata": {
    "execution": {
     "iopub.execute_input": "2024-04-01T15:08:42.365290Z",
     "iopub.status.busy": "2024-04-01T15:08:42.364795Z",
     "iopub.status.idle": "2024-04-01T15:08:42.370938Z",
     "shell.execute_reply": "2024-04-01T15:08:42.370008Z"
    },
    "id": "rhDPV8NNB6A4",
    "outputId": "089bd3b7-8da2-4f10-defe-a6cf24e506df",
    "papermill": {
     "duration": 0.026312,
     "end_time": "2024-04-01T15:08:42.372808",
     "exception": false,
     "start_time": "2024-04-01T15:08:42.346496",
     "status": "completed"
    },
    "tags": []
   },
   "outputs": [
    {
     "data": {
      "text/plain": [
       "145"
      ]
     },
     "execution_count": 4,
     "metadata": {},
     "output_type": "execute_result"
    }
   ],
   "source": [
    "len(formula_vocab)"
   ]
  },
  {
   "cell_type": "code",
   "execution_count": 5,
   "id": "26ae4e80",
   "metadata": {
    "execution": {
     "iopub.execute_input": "2024-04-01T15:08:42.408514Z",
     "iopub.status.busy": "2024-04-01T15:08:42.408178Z",
     "iopub.status.idle": "2024-04-01T19:09:52.988912Z",
     "shell.execute_reply": "2024-04-01T19:09:52.988088Z"
    },
    "id": "IYP7L4vy19fq",
    "outputId": "f850c877-6550-4af1-b7e9-6821166a7392",
    "papermill": {
     "duration": 14470.601242,
     "end_time": "2024-04-01T19:09:52.991235",
     "exception": false,
     "start_time": "2024-04-01T15:08:42.389993",
     "status": "completed"
    },
    "tags": []
   },
   "outputs": [
    {
     "name": "stderr",
     "output_type": "stream",
     "text": [
      "100%|██████████| 396/396 [04:22<00:00,  1.51it/s]\n",
      "100%|██████████| 99/99 [00:28<00:00,  3.43it/s]\n"
     ]
    },
    {
     "name": "stdout",
     "output_type": "stream",
     "text": [
      "Epoch: 1, Train Loss: 1.1590, Val Loss: 0.8993\n"
     ]
    },
    {
     "name": "stderr",
     "output_type": "stream",
     "text": [
      "100%|██████████| 396/396 [04:20<00:00,  1.52it/s]\n",
      "100%|██████████| 99/99 [00:28<00:00,  3.44it/s]\n"
     ]
    },
    {
     "name": "stdout",
     "output_type": "stream",
     "text": [
      "Epoch: 2, Train Loss: 0.8966, Val Loss: 0.8716\n"
     ]
    },
    {
     "name": "stderr",
     "output_type": "stream",
     "text": [
      "100%|██████████| 396/396 [04:21<00:00,  1.51it/s]\n",
      "100%|██████████| 99/99 [00:28<00:00,  3.44it/s]\n"
     ]
    },
    {
     "name": "stdout",
     "output_type": "stream",
     "text": [
      "Epoch: 3, Train Loss: 0.8542, Val Loss: 0.8447\n"
     ]
    },
    {
     "name": "stderr",
     "output_type": "stream",
     "text": [
      "100%|██████████| 396/396 [04:19<00:00,  1.52it/s]\n",
      "100%|██████████| 99/99 [00:28<00:00,  3.45it/s]\n"
     ]
    },
    {
     "name": "stdout",
     "output_type": "stream",
     "text": [
      "Epoch: 4, Train Loss: 0.8297, Val Loss: 0.8114\n"
     ]
    },
    {
     "name": "stderr",
     "output_type": "stream",
     "text": [
      "100%|██████████| 396/396 [04:19<00:00,  1.53it/s]\n",
      "100%|██████████| 99/99 [00:28<00:00,  3.45it/s]\n"
     ]
    },
    {
     "name": "stdout",
     "output_type": "stream",
     "text": [
      "Epoch: 5, Train Loss: 0.8191, Val Loss: 0.8093\n"
     ]
    },
    {
     "name": "stderr",
     "output_type": "stream",
     "text": [
      "100%|██████████| 396/396 [04:19<00:00,  1.53it/s]\n",
      "100%|██████████| 99/99 [00:28<00:00,  3.46it/s]\n"
     ]
    },
    {
     "name": "stdout",
     "output_type": "stream",
     "text": [
      "Epoch: 6, Train Loss: 0.8082, Val Loss: 0.7799\n"
     ]
    },
    {
     "name": "stderr",
     "output_type": "stream",
     "text": [
      "100%|██████████| 396/396 [04:20<00:00,  1.52it/s]\n",
      "100%|██████████| 99/99 [00:28<00:00,  3.45it/s]\n"
     ]
    },
    {
     "name": "stdout",
     "output_type": "stream",
     "text": [
      "Epoch: 7, Train Loss: 0.7873, Val Loss: 0.7730\n"
     ]
    },
    {
     "name": "stderr",
     "output_type": "stream",
     "text": [
      "100%|██████████| 396/396 [04:20<00:00,  1.52it/s]\n",
      "100%|██████████| 99/99 [00:28<00:00,  3.44it/s]\n"
     ]
    },
    {
     "name": "stdout",
     "output_type": "stream",
     "text": [
      "Epoch: 8, Train Loss: 0.7849, Val Loss: 0.7804\n"
     ]
    },
    {
     "name": "stderr",
     "output_type": "stream",
     "text": [
      "100%|██████████| 396/396 [04:20<00:00,  1.52it/s]\n",
      "100%|██████████| 99/99 [00:28<00:00,  3.45it/s]\n"
     ]
    },
    {
     "name": "stdout",
     "output_type": "stream",
     "text": [
      "Epoch: 9, Train Loss: 0.7711, Val Loss: 0.7549\n"
     ]
    },
    {
     "name": "stderr",
     "output_type": "stream",
     "text": [
      "100%|██████████| 396/396 [04:20<00:00,  1.52it/s]\n",
      "100%|██████████| 99/99 [00:28<00:00,  3.43it/s]\n"
     ]
    },
    {
     "name": "stdout",
     "output_type": "stream",
     "text": [
      "Epoch: 10, Train Loss: 0.7600, Val Loss: 0.7636\n"
     ]
    },
    {
     "name": "stderr",
     "output_type": "stream",
     "text": [
      "100%|██████████| 396/396 [04:20<00:00,  1.52it/s]\n",
      "100%|██████████| 99/99 [00:28<00:00,  3.45it/s]\n"
     ]
    },
    {
     "name": "stdout",
     "output_type": "stream",
     "text": [
      "Epoch: 11, Train Loss: 0.7560, Val Loss: 0.7547\n"
     ]
    },
    {
     "name": "stderr",
     "output_type": "stream",
     "text": [
      "100%|██████████| 396/396 [04:20<00:00,  1.52it/s]\n",
      "100%|██████████| 99/99 [00:28<00:00,  3.44it/s]\n"
     ]
    },
    {
     "name": "stdout",
     "output_type": "stream",
     "text": [
      "Epoch: 12, Train Loss: 0.7466, Val Loss: 0.7575\n"
     ]
    },
    {
     "name": "stderr",
     "output_type": "stream",
     "text": [
      "100%|██████████| 396/396 [04:20<00:00,  1.52it/s]\n",
      "100%|██████████| 99/99 [00:28<00:00,  3.43it/s]\n"
     ]
    },
    {
     "name": "stdout",
     "output_type": "stream",
     "text": [
      "Epoch: 13, Train Loss: 0.7400, Val Loss: 0.7263\n"
     ]
    },
    {
     "name": "stderr",
     "output_type": "stream",
     "text": [
      "100%|██████████| 396/396 [04:20<00:00,  1.52it/s]\n",
      "100%|██████████| 99/99 [00:28<00:00,  3.45it/s]\n"
     ]
    },
    {
     "name": "stdout",
     "output_type": "stream",
     "text": [
      "Epoch: 14, Train Loss: 0.7319, Val Loss: 0.7220\n"
     ]
    },
    {
     "name": "stderr",
     "output_type": "stream",
     "text": [
      "100%|██████████| 396/396 [04:20<00:00,  1.52it/s]\n",
      "100%|██████████| 99/99 [00:28<00:00,  3.44it/s]\n"
     ]
    },
    {
     "name": "stdout",
     "output_type": "stream",
     "text": [
      "Epoch: 15, Train Loss: 0.7229, Val Loss: 0.7243\n"
     ]
    },
    {
     "name": "stderr",
     "output_type": "stream",
     "text": [
      "100%|██████████| 396/396 [04:20<00:00,  1.52it/s]\n",
      "100%|██████████| 99/99 [00:28<00:00,  3.45it/s]\n"
     ]
    },
    {
     "name": "stdout",
     "output_type": "stream",
     "text": [
      "Epoch: 16, Train Loss: 0.7177, Val Loss: 0.7296\n"
     ]
    },
    {
     "name": "stderr",
     "output_type": "stream",
     "text": [
      "100%|██████████| 396/396 [04:21<00:00,  1.52it/s]\n",
      "100%|██████████| 99/99 [00:28<00:00,  3.44it/s]\n"
     ]
    },
    {
     "name": "stdout",
     "output_type": "stream",
     "text": [
      "Epoch: 17, Train Loss: 0.7089, Val Loss: 0.7206\n"
     ]
    },
    {
     "name": "stderr",
     "output_type": "stream",
     "text": [
      "100%|██████████| 396/396 [04:20<00:00,  1.52it/s]\n",
      "100%|██████████| 99/99 [00:28<00:00,  3.44it/s]\n"
     ]
    },
    {
     "name": "stdout",
     "output_type": "stream",
     "text": [
      "Epoch: 18, Train Loss: 0.7059, Val Loss: 0.7031\n"
     ]
    },
    {
     "name": "stderr",
     "output_type": "stream",
     "text": [
      "100%|██████████| 396/396 [04:19<00:00,  1.52it/s]\n",
      "100%|██████████| 99/99 [00:28<00:00,  3.45it/s]\n"
     ]
    },
    {
     "name": "stdout",
     "output_type": "stream",
     "text": [
      "Epoch: 19, Train Loss: 0.6936, Val Loss: 0.6873\n"
     ]
    },
    {
     "name": "stderr",
     "output_type": "stream",
     "text": [
      "100%|██████████| 396/396 [04:19<00:00,  1.53it/s]\n",
      "100%|██████████| 99/99 [00:28<00:00,  3.44it/s]\n"
     ]
    },
    {
     "name": "stdout",
     "output_type": "stream",
     "text": [
      "Epoch: 20, Train Loss: 0.6881, Val Loss: 0.6849\n"
     ]
    },
    {
     "name": "stderr",
     "output_type": "stream",
     "text": [
      "100%|██████████| 396/396 [04:19<00:00,  1.53it/s]\n",
      "100%|██████████| 99/99 [00:28<00:00,  3.46it/s]\n"
     ]
    },
    {
     "name": "stdout",
     "output_type": "stream",
     "text": [
      "Epoch: 21, Train Loss: 0.6877, Val Loss: 0.7079\n"
     ]
    },
    {
     "name": "stderr",
     "output_type": "stream",
     "text": [
      "100%|██████████| 396/396 [04:19<00:00,  1.53it/s]\n",
      "100%|██████████| 99/99 [00:28<00:00,  3.44it/s]\n"
     ]
    },
    {
     "name": "stdout",
     "output_type": "stream",
     "text": [
      "Epoch: 22, Train Loss: 0.6749, Val Loss: 0.6767\n"
     ]
    },
    {
     "name": "stderr",
     "output_type": "stream",
     "text": [
      "100%|██████████| 396/396 [04:20<00:00,  1.52it/s]\n",
      "100%|██████████| 99/99 [00:28<00:00,  3.44it/s]\n"
     ]
    },
    {
     "name": "stdout",
     "output_type": "stream",
     "text": [
      "Epoch: 23, Train Loss: 0.6717, Val Loss: 0.6688\n"
     ]
    },
    {
     "name": "stderr",
     "output_type": "stream",
     "text": [
      "100%|██████████| 396/396 [04:20<00:00,  1.52it/s]\n",
      "100%|██████████| 99/99 [00:28<00:00,  3.44it/s]\n"
     ]
    },
    {
     "name": "stdout",
     "output_type": "stream",
     "text": [
      "Epoch: 24, Train Loss: 0.6606, Val Loss: 0.6663\n"
     ]
    },
    {
     "name": "stderr",
     "output_type": "stream",
     "text": [
      "100%|██████████| 396/396 [04:19<00:00,  1.53it/s]\n",
      "100%|██████████| 99/99 [00:28<00:00,  3.45it/s]\n"
     ]
    },
    {
     "name": "stdout",
     "output_type": "stream",
     "text": [
      "Epoch: 25, Train Loss: 0.6615, Val Loss: 0.6468\n"
     ]
    },
    {
     "name": "stderr",
     "output_type": "stream",
     "text": [
      "100%|██████████| 396/396 [04:19<00:00,  1.53it/s]\n",
      "100%|██████████| 99/99 [00:28<00:00,  3.45it/s]\n"
     ]
    },
    {
     "name": "stdout",
     "output_type": "stream",
     "text": [
      "Epoch: 26, Train Loss: 0.6516, Val Loss: 0.6505\n"
     ]
    },
    {
     "name": "stderr",
     "output_type": "stream",
     "text": [
      "100%|██████████| 396/396 [04:20<00:00,  1.52it/s]\n",
      "100%|██████████| 99/99 [00:28<00:00,  3.44it/s]\n"
     ]
    },
    {
     "name": "stdout",
     "output_type": "stream",
     "text": [
      "Epoch: 27, Train Loss: 0.6494, Val Loss: 0.6649\n"
     ]
    },
    {
     "name": "stderr",
     "output_type": "stream",
     "text": [
      "100%|██████████| 396/396 [04:20<00:00,  1.52it/s]\n",
      "100%|██████████| 99/99 [00:28<00:00,  3.44it/s]\n"
     ]
    },
    {
     "name": "stdout",
     "output_type": "stream",
     "text": [
      "Epoch: 28, Train Loss: 0.6457, Val Loss: 0.6506\n"
     ]
    },
    {
     "name": "stderr",
     "output_type": "stream",
     "text": [
      "100%|██████████| 396/396 [04:20<00:00,  1.52it/s]\n",
      "100%|██████████| 99/99 [00:28<00:00,  3.45it/s]\n"
     ]
    },
    {
     "name": "stdout",
     "output_type": "stream",
     "text": [
      "Epoch: 29, Train Loss: 0.6391, Val Loss: 0.6662\n"
     ]
    },
    {
     "name": "stderr",
     "output_type": "stream",
     "text": [
      "100%|██████████| 396/396 [04:20<00:00,  1.52it/s]\n",
      "100%|██████████| 99/99 [00:28<00:00,  3.44it/s]\n"
     ]
    },
    {
     "name": "stdout",
     "output_type": "stream",
     "text": [
      "Epoch: 30, Train Loss: 0.6341, Val Loss: 0.6289\n"
     ]
    },
    {
     "name": "stderr",
     "output_type": "stream",
     "text": [
      "100%|██████████| 396/396 [04:20<00:00,  1.52it/s]\n",
      "100%|██████████| 99/99 [00:28<00:00,  3.44it/s]\n"
     ]
    },
    {
     "name": "stdout",
     "output_type": "stream",
     "text": [
      "Epoch: 31, Train Loss: 0.6268, Val Loss: 0.6212\n"
     ]
    },
    {
     "name": "stderr",
     "output_type": "stream",
     "text": [
      "100%|██████████| 396/396 [04:20<00:00,  1.52it/s]\n",
      "100%|██████████| 99/99 [00:28<00:00,  3.44it/s]\n"
     ]
    },
    {
     "name": "stdout",
     "output_type": "stream",
     "text": [
      "Epoch: 32, Train Loss: 0.6205, Val Loss: 0.6334\n"
     ]
    },
    {
     "name": "stderr",
     "output_type": "stream",
     "text": [
      "100%|██████████| 396/396 [04:19<00:00,  1.53it/s]\n",
      "100%|██████████| 99/99 [00:28<00:00,  3.44it/s]\n"
     ]
    },
    {
     "name": "stdout",
     "output_type": "stream",
     "text": [
      "Epoch: 33, Train Loss: 0.6156, Val Loss: 0.6329\n"
     ]
    },
    {
     "name": "stderr",
     "output_type": "stream",
     "text": [
      "100%|██████████| 396/396 [04:19<00:00,  1.52it/s]\n",
      "100%|██████████| 99/99 [00:28<00:00,  3.45it/s]\n"
     ]
    },
    {
     "name": "stdout",
     "output_type": "stream",
     "text": [
      "Epoch: 34, Train Loss: 0.6141, Val Loss: 0.6407\n"
     ]
    },
    {
     "name": "stderr",
     "output_type": "stream",
     "text": [
      "100%|██████████| 396/396 [04:20<00:00,  1.52it/s]\n",
      "100%|██████████| 99/99 [00:28<00:00,  3.46it/s]\n"
     ]
    },
    {
     "name": "stdout",
     "output_type": "stream",
     "text": [
      "Epoch: 35, Train Loss: 0.6125, Val Loss: 0.6257\n"
     ]
    },
    {
     "name": "stderr",
     "output_type": "stream",
     "text": [
      "100%|██████████| 396/396 [04:19<00:00,  1.52it/s]\n",
      "100%|██████████| 99/99 [00:28<00:00,  3.45it/s]\n"
     ]
    },
    {
     "name": "stdout",
     "output_type": "stream",
     "text": [
      "Epoch: 36, Train Loss: 0.6084, Val Loss: 0.6091\n"
     ]
    },
    {
     "name": "stderr",
     "output_type": "stream",
     "text": [
      "100%|██████████| 396/396 [04:19<00:00,  1.53it/s]\n",
      "100%|██████████| 99/99 [00:28<00:00,  3.45it/s]\n"
     ]
    },
    {
     "name": "stdout",
     "output_type": "stream",
     "text": [
      "Epoch: 37, Train Loss: 0.6038, Val Loss: 0.6075\n"
     ]
    },
    {
     "name": "stderr",
     "output_type": "stream",
     "text": [
      "100%|██████████| 396/396 [04:21<00:00,  1.52it/s]\n",
      "100%|██████████| 99/99 [00:28<00:00,  3.46it/s]\n"
     ]
    },
    {
     "name": "stdout",
     "output_type": "stream",
     "text": [
      "Epoch: 38, Train Loss: 0.6035, Val Loss: 0.6228\n"
     ]
    },
    {
     "name": "stderr",
     "output_type": "stream",
     "text": [
      "100%|██████████| 396/396 [04:19<00:00,  1.53it/s]\n",
      "100%|██████████| 99/99 [00:28<00:00,  3.45it/s]\n"
     ]
    },
    {
     "name": "stdout",
     "output_type": "stream",
     "text": [
      "Epoch: 39, Train Loss: 0.5925, Val Loss: 0.6031\n"
     ]
    },
    {
     "name": "stderr",
     "output_type": "stream",
     "text": [
      "100%|██████████| 396/396 [04:19<00:00,  1.53it/s]\n",
      "100%|██████████| 99/99 [00:28<00:00,  3.46it/s]\n"
     ]
    },
    {
     "name": "stdout",
     "output_type": "stream",
     "text": [
      "Epoch: 40, Train Loss: 0.5881, Val Loss: 0.6123\n"
     ]
    },
    {
     "name": "stderr",
     "output_type": "stream",
     "text": [
      "100%|██████████| 396/396 [04:18<00:00,  1.53it/s]\n",
      "100%|██████████| 99/99 [00:28<00:00,  3.46it/s]\n"
     ]
    },
    {
     "name": "stdout",
     "output_type": "stream",
     "text": [
      "Epoch: 41, Train Loss: 0.5895, Val Loss: 0.5969\n"
     ]
    },
    {
     "name": "stderr",
     "output_type": "stream",
     "text": [
      "100%|██████████| 396/396 [04:19<00:00,  1.52it/s]\n",
      "100%|██████████| 99/99 [00:28<00:00,  3.45it/s]\n"
     ]
    },
    {
     "name": "stdout",
     "output_type": "stream",
     "text": [
      "Epoch: 42, Train Loss: 0.5832, Val Loss: 0.5963\n"
     ]
    },
    {
     "name": "stderr",
     "output_type": "stream",
     "text": [
      "100%|██████████| 396/396 [04:19<00:00,  1.53it/s]\n",
      "100%|██████████| 99/99 [00:28<00:00,  3.46it/s]\n"
     ]
    },
    {
     "name": "stdout",
     "output_type": "stream",
     "text": [
      "Epoch: 43, Train Loss: 0.5800, Val Loss: 0.6011\n"
     ]
    },
    {
     "name": "stderr",
     "output_type": "stream",
     "text": [
      "100%|██████████| 396/396 [04:19<00:00,  1.53it/s]\n",
      "100%|██████████| 99/99 [00:28<00:00,  3.45it/s]\n"
     ]
    },
    {
     "name": "stdout",
     "output_type": "stream",
     "text": [
      "Epoch: 44, Train Loss: 0.5715, Val Loss: 0.5921\n"
     ]
    },
    {
     "name": "stderr",
     "output_type": "stream",
     "text": [
      "100%|██████████| 396/396 [04:19<00:00,  1.53it/s]\n",
      "100%|██████████| 99/99 [00:28<00:00,  3.46it/s]\n"
     ]
    },
    {
     "name": "stdout",
     "output_type": "stream",
     "text": [
      "Epoch: 45, Train Loss: 0.5721, Val Loss: 0.5825\n"
     ]
    },
    {
     "name": "stderr",
     "output_type": "stream",
     "text": [
      "100%|██████████| 396/396 [04:19<00:00,  1.53it/s]\n",
      "100%|██████████| 99/99 [00:28<00:00,  3.46it/s]\n"
     ]
    },
    {
     "name": "stdout",
     "output_type": "stream",
     "text": [
      "Epoch: 46, Train Loss: 0.5714, Val Loss: 0.6006\n"
     ]
    },
    {
     "name": "stderr",
     "output_type": "stream",
     "text": [
      "100%|██████████| 396/396 [04:19<00:00,  1.52it/s]\n",
      "100%|██████████| 99/99 [00:28<00:00,  3.47it/s]\n"
     ]
    },
    {
     "name": "stdout",
     "output_type": "stream",
     "text": [
      "Epoch: 47, Train Loss: 0.5671, Val Loss: 0.5746\n"
     ]
    },
    {
     "name": "stderr",
     "output_type": "stream",
     "text": [
      "100%|██████████| 396/396 [04:18<00:00,  1.53it/s]\n",
      "100%|██████████| 99/99 [00:28<00:00,  3.46it/s]\n"
     ]
    },
    {
     "name": "stdout",
     "output_type": "stream",
     "text": [
      "Epoch: 48, Train Loss: 0.5637, Val Loss: 0.5837\n"
     ]
    },
    {
     "name": "stderr",
     "output_type": "stream",
     "text": [
      "100%|██████████| 396/396 [04:19<00:00,  1.53it/s]\n",
      "100%|██████████| 99/99 [00:28<00:00,  3.46it/s]\n"
     ]
    },
    {
     "name": "stdout",
     "output_type": "stream",
     "text": [
      "Epoch: 49, Train Loss: 0.5622, Val Loss: 0.5849\n"
     ]
    },
    {
     "name": "stderr",
     "output_type": "stream",
     "text": [
      "100%|██████████| 396/396 [04:19<00:00,  1.53it/s]\n",
      "100%|██████████| 99/99 [00:28<00:00,  3.46it/s]\n"
     ]
    },
    {
     "name": "stdout",
     "output_type": "stream",
     "text": [
      "Epoch: 50, Train Loss: 0.5600, Val Loss: 0.5802\n"
     ]
    }
   ],
   "source": [
    "\n",
    "\n",
    "def save_checkpoint(model, optimizer, train_losses, val_losses, epoch, checkpoint_path):\n",
    "    checkpoint = {\n",
    "        'epoch': epoch,\n",
    "        'model_state_dict': model.state_dict(),\n",
    "        'optimizer_state_dict': optimizer.state_dict(),\n",
    "        'train_losses': train_losses,\n",
    "        'val_losses': val_losses\n",
    "    }\n",
    "    torch.save(checkpoint, checkpoint_path)\n",
    "\n",
    "# Example usage:\n",
    "clip = 1  # Gradient clipping value\n",
    "num_epochs = 50  # Number of epochs to train\n",
    "best_val_loss = float('inf')\n",
    "checkpoint_path = '/kaggle/working//model_BERT_checkpoint.pt'\n",
    "\n",
    "\n",
    "clip = 1  # Gradient clipping value\n",
    "num_epochs = 50  # Number of epochs to train\n",
    "\n",
    "train_losses = []\n",
    "val_losses = []\n",
    "\n",
    "for epoch in range(num_epochs):\n",
    "    train_loss = train(model, data_loader, optimizer, criterion, clip)\n",
    "    val_loss = evaluate(model, val_data_loader, criterion)\n",
    "    print(f'Epoch: {epoch+1}, Train Loss: {train_loss:.4f}, Val Loss: {val_loss:.4f}')\n",
    "\n",
    "    train_losses.append(train_loss)\n",
    "    val_losses.append(val_loss)\n",
    "\n",
    "    if val_loss < best_val_loss:\n",
    "        best_val_loss = val_loss\n",
    "        save_checkpoint(model, optimizer, train_losses, val_losses, epoch, checkpoint_path)\n",
    "\n",
    "torch.save(model.state_dict(), '/kaggle/working/final_model_BERT.pt')\n",
    "\n",
    "\n",
    "# for epoch in range(num_epochs):\n",
    "#     train_loss = train(model, data_loader, optimizer, criterion, clip)\n",
    "#     val_loss = evaluate(model, val_data_loader, criterion)\n",
    "#     print(f'Epoch: {epoch+1}, Train Loss: {train_loss:.4f}, Val Loss: {val_loss:.4f}')\n",
    "\n",
    "#     train_losses.append(train_loss)\n",
    "#     val_losses.append(val_loss)\n",
    "\n",
    "#     if val_loss < best_val_loss:\n",
    "#         best_val_loss = val_loss\n",
    "#         save_checkpoint(model, optimizer, train_losses, val_losses, epoch, checkpoint_path)\n"
   ]
  },
  {
   "cell_type": "code",
   "execution_count": 6,
   "id": "685e9187",
   "metadata": {
    "execution": {
     "iopub.execute_input": "2024-04-01T19:09:57.101121Z",
     "iopub.status.busy": "2024-04-01T19:09:57.100777Z",
     "iopub.status.idle": "2024-04-01T19:09:57.106099Z",
     "shell.execute_reply": "2024-04-01T19:09:57.105432Z"
    },
    "id": "NdBdnZgBSFaP",
    "papermill": {
     "duration": 2.079578,
     "end_time": "2024-04-01T19:09:57.107968",
     "exception": false,
     "start_time": "2024-04-01T19:09:55.028390",
     "status": "completed"
    },
    "tags": []
   },
   "outputs": [],
   "source": [
    "loss_data = {\n",
    "    'train_losses': train_losses,\n",
    "    'valid_losses': val_losses\n",
    "}\n",
    "\n",
    "with open('/kaggle/working/loss_data_model_BERT.json', 'w') as f:\n",
    "    json.dump(loss_data, f)\n"
   ]
  },
  {
   "cell_type": "code",
   "execution_count": 7,
   "id": "96d6d331",
   "metadata": {
    "execution": {
     "iopub.execute_input": "2024-04-01T19:10:01.163664Z",
     "iopub.status.busy": "2024-04-01T19:10:01.162663Z",
     "iopub.status.idle": "2024-04-01T19:10:01.561300Z",
     "shell.execute_reply": "2024-04-01T19:10:01.560312Z"
    },
    "id": "EYUQco3cupo6",
    "outputId": "3074da87-ef3e-4223-b4fc-1e21ea27802c",
    "papermill": {
     "duration": 2.491987,
     "end_time": "2024-04-01T19:10:01.563607",
     "exception": false,
     "start_time": "2024-04-01T19:09:59.071620",
     "status": "completed"
    },
    "tags": []
   },
   "outputs": [
    {
     "data": {
      "text/plain": [
       "<matplotlib.legend.Legend at 0x7b511d905e70>"
      ]
     },
     "execution_count": 7,
     "metadata": {},
     "output_type": "execute_result"
    },
    {
     "data": {
      "image/png": "[encoded data removed]",
      "text/plain": [
       "<Figure size 640x480 with 1 Axes>"
      ]
     },
     "metadata": {},
     "output_type": "display_data"
    }
   ],
   "source": [
    "import matplotlib.pyplot as plt\n",
    "\n",
    "plt.plot(range(1, num_epochs+1), train_losses, label='Train Loss')\n",
    "plt.plot(range(1, num_epochs+1), val_losses, label='Valid Loss')\n",
    "plt.xlabel('Epochs')\n",
    "plt.ylabel('Loss')\n",
    "plt.title('Training and Validation Loss')\n",
    "plt.legend()\n"
   ]
  },
  {
   "cell_type": "code",
   "execution_count": 8,
   "id": "ed7a5e6d",
   "metadata": {
    "execution": {
     "iopub.execute_input": "2024-04-01T19:10:05.640096Z",
     "iopub.status.busy": "2024-04-01T19:10:05.639741Z",
     "iopub.status.idle": "2024-04-01T19:10:06.842582Z",
     "shell.execute_reply": "2024-04-01T19:10:06.841696Z"
    },
    "id": "YMzcC4VaupUX",
    "outputId": "b43bb19b-cce1-4a24-e418-d85897def80d",
    "papermill": {
     "duration": 3.1817,
     "end_time": "2024-04-01T19:10:06.844741",
     "exception": false,
     "start_time": "2024-04-01T19:10:03.663041",
     "status": "completed"
    },
    "tags": []
   },
   "outputs": [
    {
     "name": "stdout",
     "output_type": "stream",
     "text": [
      "divide(n0,const_100)|add(#0,n1)|\n"
     ]
    }
   ],
   "source": [
    "\n",
    "\n",
    "\n",
    "\n",
    "\n",
    "import torch\n",
    "import torch.nn.functional as F\n",
    "from transformers import BertTokenizer\n",
    "\n",
    "\n",
    "device = torch.device('cuda' if torch.cuda.is_available() else 'cpu')\n",
    "tokenizer = BertTokenizer.from_pretrained('bert-base-cased')\n",
    "\n",
    "class BeamSearchNode(object):\n",
    "    def __init__(self, hidden, previousNode, wordId, logProb, length):\n",
    "        self.hidden = hidden\n",
    "        self.prevNode = previousNode\n",
    "        self.wordid = wordId\n",
    "        self.logp = logProb\n",
    "        self.length = length\n",
    "\n",
    "    def eval(self, alpha=1.0):\n",
    "        reward = 0\n",
    "        \n",
    "        return self.logp / float(self.length - 1 + 1e-6) + alpha * reward\n",
    "\n",
    "def beam_search(model, input_ids, attention_mask, beam_width=10, max_len=50):\n",
    "    input_ids = input_ids.to(device)\n",
    "    attention_mask = attention_mask.to(device)\n",
    "\n",
    "    with torch.no_grad():\n",
    "        encoder_outputs = model.encoder(input_ids, attention_mask=attention_mask)\n",
    "        # Initializing decoder's hidden and cell states from BERT's [CLS] token output\n",
    "        hidden = torch.tanh(model.fc_hidden(encoder_outputs[:, 0]))\n",
    "        cell = torch.tanh(model.fc_cell(encoder_outputs[:, 0]))\n",
    "\n",
    "    start_node = BeamSearchNode((hidden, cell), None, formula_vocab[\"<sos>\"], 0, 1)\n",
    "    nodes = [start_node]\n",
    "\n",
    "    # Beam search loop\n",
    "    for _ in range(max_len):\n",
    "        new_nodes = []\n",
    "        for node in nodes:\n",
    "            input = torch.LongTensor([node.wordid]).to(device)\n",
    "            hidden, cell = node.hidden\n",
    "\n",
    "            with torch.no_grad():\n",
    "                \n",
    "                output, hidden, cell, _ = model.decoder(input, hidden, cell, encoder_outputs)\n",
    "                log_probs = F.log_softmax(output, dim=1)\n",
    "\n",
    "            top_log_probs, top_idx = log_probs.topk(beam_width)\n",
    "            for i in range(beam_width):\n",
    "                word_idx = top_idx[0][i].item()\n",
    "                log_prob = top_log_probs[0][i].item()\n",
    "\n",
    "                new_node = BeamSearchNode((hidden, cell), node, word_idx, node.logp + log_prob, node.length + 1)\n",
    "                new_nodes.append(new_node)\n",
    "\n",
    "        # Sorting nodes by score\n",
    "        nodes = sorted(new_nodes, key=lambda node: node.eval(), reverse=True)[:beam_width]\n",
    "\n",
    "    # Retrieving the highest scoring end node\n",
    "    end_node = nodes[0]\n",
    "    output_sequence = [end_node.wordid]\n",
    "\n",
    "    # Tracing back through parents to construct the full output sequence\n",
    "    while end_node.prevNode:\n",
    "        end_node = end_node.prevNode\n",
    "        output_sequence.append(end_node.wordid)\n",
    "\n",
    "    output_sequence = output_sequence[::-1]  # Reversing to get correct order\n",
    "\n",
    "    \n",
    "    output_tokens = []\n",
    "    for i in output_sequence:\n",
    "        if i == formula_vocab[\"<eos>\"]:  \n",
    "            break\n",
    "        elif i == formula_vocab[\"<sos>\"]:\n",
    "            continue\n",
    "        else:\n",
    "            output_tokens.append(list(formula_vocab.keys())[list(formula_vocab.values()).index(i)])\n",
    "\n",
    "    return output_tokens\n",
    "\n",
    "\n",
    "\n",
    "\n",
    "problem_text =\"find the compound interest on $ 1200 for 6 years at 20 % p . a . if ci is component yearly ?\"\n",
    "encoded_input = tokenizer.encode_plus(problem_text, return_tensors='pt', max_length=256, padding='max_length', truncation=True)\n",
    "input_ids = encoded_input['input_ids']\n",
    "attention_mask = encoded_input['attention_mask']\n",
    "\n",
    "\n",
    "output_tokens = beam_search(model, input_ids, attention_mask)\n",
    "\n",
    "string_out = ''\n",
    "for tok in output_tokens :\n",
    "    string_out += tok\n",
    "print(string_out)\n"
   ]
  },
  {
   "cell_type": "code",
   "execution_count": null,
   "id": "8984e1ee",
   "metadata": {
    "id": "a4Z6hbqhAINB",
    "papermill": {
     "duration": 1.984567,
     "end_time": "2024-04-01T19:10:10.915746",
     "exception": false,
     "start_time": "2024-04-01T19:10:08.931179",
     "status": "completed"
    },
    "tags": []
   },
   "outputs": [],
   "source": []
  },
  {
   "cell_type": "code",
   "execution_count": 4,
   "id": "f09bf8e2",
   "metadata": {
    "execution": {
     "iopub.execute_input": "2024-04-01T19:10:15.034850Z",
     "iopub.status.busy": "2024-04-01T19:10:15.034490Z",
     "iopub.status.idle": "2024-04-01T19:10:15.587295Z",
     "shell.execute_reply": "2024-04-01T19:10:15.586061Z"
    },
    "id": "v797cPcAAlh2",
    "papermill": {
     "duration": 2.608298,
     "end_time": "2024-04-01T19:10:15.588692",
     "exception": true,
     "start_time": "2024-04-01T19:10:12.980394",
     "status": "failed"
    },
    "tags": []
   },
   "outputs": [
    {
     "data": {
      "text/plain": [
       "Seq2Seq(\n",
       "  (encoder): BERT_Encoder(\n",
       "    (bert): BertModel(\n",
       "      (embeddings): BertEmbeddings(\n",
       "        (word_embeddings): Embedding(28996, 768, padding_idx=0)\n",
       "        (position_embeddings): Embedding(512, 768)\n",
       "        (token_type_embeddings): Embedding(2, 768)\n",
       "        (LayerNorm): LayerNorm((768,), eps=1e-12, elementwise_affine=True)\n",
       "        (dropout): Dropout(p=0.1, inplace=False)\n",
       "      )\n",
       "      (encoder): BertEncoder(\n",
       "        (layer): ModuleList(\n",
       "          (0-11): 12 x BertLayer(\n",
       "            (attention): BertAttention(\n",
       "              (self): BertSelfAttention(\n",
       "                (query): Linear(in_features=768, out_features=768, bias=True)\n",
       "                (key): Linear(in_features=768, out_features=768, bias=True)\n",
       "                (value): Linear(in_features=768, out_features=768, bias=True)\n",
       "                (dropout): Dropout(p=0.1, inplace=False)\n",
       "              )\n",
       "              (output): BertSelfOutput(\n",
       "                (dense): Linear(in_features=768, out_features=768, bias=True)\n",
       "                (LayerNorm): LayerNorm((768,), eps=1e-12, elementwise_affine=True)\n",
       "                (dropout): Dropout(p=0.1, inplace=False)\n",
       "              )\n",
       "            )\n",
       "            (intermediate): BertIntermediate(\n",
       "              (dense): Linear(in_features=768, out_features=3072, bias=True)\n",
       "              (intermediate_act_fn): GELUActivation()\n",
       "            )\n",
       "            (output): BertOutput(\n",
       "              (dense): Linear(in_features=3072, out_features=768, bias=True)\n",
       "              (LayerNorm): LayerNorm((768,), eps=1e-12, elementwise_affine=True)\n",
       "              (dropout): Dropout(p=0.1, inplace=False)\n",
       "            )\n",
       "          )\n",
       "        )\n",
       "      )\n",
       "      (pooler): BertPooler(\n",
       "        (dense): Linear(in_features=768, out_features=768, bias=True)\n",
       "        (activation): Tanh()\n",
       "      )\n",
       "    )\n",
       "    (reduce_dim): Linear(in_features=768, out_features=256, bias=True)\n",
       "  )\n",
       "  (decoder): Decoder(\n",
       "    (attention): Attention(\n",
       "      (attn): Linear(in_features=512, out_features=256, bias=True)\n",
       "      (v): Linear(in_features=256, out_features=1, bias=False)\n",
       "    )\n",
       "    (embedding): Embedding(145, 100)\n",
       "    (rnn): LSTM(356, 256)\n",
       "    (fc_out): Linear(in_features=612, out_features=145, bias=True)\n",
       "    (dropout): Dropout(p=0.5, inplace=False)\n",
       "  )\n",
       "  (fc_hidden): Linear(in_features=256, out_features=256, bias=True)\n",
       "  (fc_cell): Linear(in_features=256, out_features=256, bias=True)\n",
       ")"
      ]
     },
     "execution_count": 4,
     "metadata": {},
     "output_type": "execute_result"
    }
   ],
   "source": [
    "checkpoint_path = \"G:/final_part_2/lstm_bert_frozen/model_BERT_checkpoint.pt\"\n",
    "\n",
    "# Load the checkpoint\n",
    "checkpoint = torch.load(checkpoint_path, map_location='cpu')  # or 'cuda' if you're using GPU\n",
    "\n",
    "# Extract the model's state dictionary from the checkpoint\n",
    "model_state_dict = checkpoint['model_state_dict']\n",
    "\n",
    "# Load the model state dictionary into your model\n",
    "model.load_state_dict(model_state_dict)\n",
    "\n",
    "# Make sure to call model.eval() if you're in inference mode\n",
    "model.eval()"
   ]
  },
  {
   "cell_type": "code",
   "execution_count": null,
   "id": "41d43c87",
   "metadata": {
    "id": "aOLSj94CSw1Y",
    "papermill": {
     "duration": null,
     "end_time": null,
     "exception": null,
     "start_time": null,
     "status": "pending"
    },
    "tags": []
   },
   "outputs": [],
   "source": [
    "# Load the model\n",
    "# model= torch.load('/content/drive/MyDrive/Colab_Notebooks/final_model.pt')\n",
    "# model = model.to(device)\n",
    "# import torch\n",
    "\n",
    "model = model.to(device)  \n",
    "\n",
    "\n",
    "\n",
    "\n",
    "for entry in val_data:\n",
    "   \n",
    "    problem_text = entry[\"Problem\"] \n",
    "\n",
    "    # tokenized_problems = [text_to_indices(item[\"Problem\"], problem_vocab) for item in data]\n",
    "\n",
    "    encoded_input = tokenizer.encode_plus(problem_text, return_tensors='pt', max_length=256, padding='max_length', truncation=True)\n",
    "    input_ids = encoded_input['input_ids']\n",
    "    attention_mask = encoded_input['attention_mask']\n",
    "\n",
    "    # Beam search with BERT model\n",
    "    output_tokens = beam_search(model, input_ids, attention_mask, beam_width=10,max_len=80)\n",
    "\n",
    "    string_out=\"\"\n",
    "    for tok in output_tokens:\n",
    "      string_out+=tok\n",
    "    entry[\"predicted\"] = string_out\n",
    "\n",
    "    with open('validation_predictions_BERT_BEAM_1.json', 'w') as f_out:\n",
    "        json.dump(val_data, f_out, indent=4)  "
   ]
  },
  {
   "cell_type": "code",
   "execution_count": null,
   "id": "e689f6a3",
   "metadata": {
    "id": "vrlvCed9SwyG",
    "papermill": {
     "duration": null,
     "end_time": null,
     "exception": null,
     "start_time": null,
     "status": "pending"
    },
    "tags": []
   },
   "outputs": [],
   "source": []
  },
  {
   "cell_type": "code",
   "execution_count": null,
   "id": "c5e49f00",
   "metadata": {
    "id": "TYUiRQqm80OT",
    "papermill": {
     "duration": null,
     "end_time": null,
     "exception": null,
     "start_time": null,
     "status": "pending"
    },
    "tags": []
   },
   "outputs": [],
   "source": [
    "# Load the model\n",
    "# model= torch.load('/content/drive/MyDrive/Colab_Notebooks/final_model.pt')\n",
    "# model = model.to(device)\n",
    "# import torch\n",
    "\n",
    "model = model.to(device)  # Move the model to the appropriate device\n",
    "\n",
    "\n",
    "for entry in test_data:\n",
    "    \n",
    "    problem_text = entry[\"Problem\"]  \n",
    "\n",
    "    # tokenized_problems = [text_to_indices(item[\"Problem\"], problem_vocab) for item in data]\n",
    "\n",
    "    encoded_input = tokenizer.encode_plus(problem_text, return_tensors='pt', max_length=256, padding='max_length', truncation=True)\n",
    "    input_ids = encoded_input['input_ids']\n",
    "    attention_mask = encoded_input['attention_mask']\n",
    "\n",
    "    # Beam search with BERT model\n",
    "    output_tokens = beam_search(model, input_ids, attention_mask, beam_width=1,max_len=80)\n",
    "\n",
    "    str=\"\"\n",
    "    for tok in output_tokens:\n",
    "      str+=tok\n",
    "    entry[\"predicted\"] = str\n",
    "\n",
    "    with open('test_predictions_BERT_BEAM_1.json', 'w') as f_out:\n",
    "        json.dump(test_data, f_out, indent=4)  "
   ]
  },
  {
   "cell_type": "code",
   "execution_count": null,
   "id": "c9dd40c7",
   "metadata": {
    "id": "2Q1dIajT-dVh",
    "outputId": "10c707f9-5cb9-4fbd-fffa-62f1bdff5f36",
    "papermill": {
     "duration": null,
     "end_time": null,
     "exception": null,
     "start_time": null,
     "status": "pending"
    },
    "tags": []
   },
   "outputs": [],
   "source": [
    "# Load the model\n",
    "# model= torch.load('/content/drive/MyDrive/Colab_Notebooks/final_model.pt')\n",
    "# model = model.to(device)\n",
    "# import torch\n",
    "\n",
    "model = model.to(device) \n",
    "for entry in test_data:\n",
    "    \n",
    "    problem_text = entry[\"Problem\"]  \n",
    "\n",
    "    # tokenized_problems = [text_to_indices(item[\"Problem\"], problem_vocab) for item in data]\n",
    "\n",
    "    encoded_input = tokenizer.encode_plus(problem_text, return_tensors='pt', max_length=256, padding='max_length', truncation=True)\n",
    "    input_ids = encoded_input['input_ids']\n",
    "    attention_mask = encoded_input['attention_mask']\n",
    "\n",
    "    # Beam search with BERT model\n",
    "    output_tokens = beam_search(model, input_ids, attention_mask, beam_width=10,max_len=80)\n",
    "\n",
    "    str=\"\"\n",
    "    for tok in output_tokens:\n",
    "      str+=tok\n",
    "    entry[\"predicted\"] = str\n",
    "\n",
    "    with open('test_predictions_BERT_BEAM_10.json', 'w') as f_out:\n",
    "        json.dump(test_data, f_out, indent=4)  "
   ]
  },
  {
   "cell_type": "code",
   "execution_count": null,
   "id": "9ff5cc31",
   "metadata": {
    "id": "0HrZCPsPXHZa",
    "papermill": {
     "duration": null,
     "end_time": null,
     "exception": null,
     "start_time": null,
     "status": "pending"
    },
    "tags": []
   },
   "outputs": [],
   "source": [
    "\n",
    "\n",
    "model = model.to(device)  \n",
    "\n",
    "\n",
    "for entry in test_data:\n",
    "  \n",
    "    problem_text = entry[\"Problem\"]  # This might need processing depending on your model's input format\n",
    "\n",
    "    # tokenized_problems = [text_to_indices(item[\"Problem\"], problem_vocab) for item in data]\n",
    "\n",
    "    encoded_input = tokenizer.encode_plus(problem_text, return_tensors='pt', max_length=256, padding='max_length', truncation=True)\n",
    "    input_ids = encoded_input['input_ids']\n",
    "    attention_mask = encoded_input['attention_mask']\n",
    "\n",
    "    # Beam search with BERT model\n",
    "    output_tokens = beam_search(model, input_ids, attention_mask, beam_width=20,max_len=80)\n",
    "\n",
    "    str=\"\"\n",
    "    for tok in output_tokens:\n",
    "      str+=tok\n",
    "    entry[\"predicted\"] = str\n",
    "\n",
    "    with open('/content/drive/MyDrive/DL_part_2/test_predictions_BERT_BEAM_20.json', 'w') as f_out:\n",
    "        json.dump(test_data, f_out, indent=4) "
   ]
  }
 ],
 "metadata": {
  "accelerator": "GPU",
  "colab": {
   "gpuType": "T4",
   "provenance": []
  },
  "kaggle": {
   "accelerator": "gpu",
   "dataSources": [
    {
     "datasetId": 715814,
     "sourceId": 1246668,
     "sourceType": "datasetVersion"
    },
    {
     "datasetId": 4705930,
     "sourceId": 7993376,
     "sourceType": "datasetVersion"
    }
   ],
   "dockerImageVersionId": 30673,
   "isGpuEnabled": true,
   "isInternetEnabled": true,
   "language": "python",
   "sourceType": "notebook"
  },
  "kernelspec": {
   "display_name": "Python 3",
   "language": "python",
   "name": "python3"
  },
  "language_info": {
   "codemirror_mode": {
    "name": "ipython",
    "version": 3
   },
   "file_extension": ".py",
   "mimetype": "text/x-python",
   "name": "python",
   "nbconvert_exporter": "python",
   "pygments_lexer": "ipython3",
   "version": "3.10.6"
  },
  "papermill": {
   "default_parameters": {},
   "duration": 14578.505398,
   "end_time": "2024-04-01T19:10:19.926221",
   "environment_variables": {},
   "exception": true,
   "input_path": "__notebook__.ipynb",
   "output_path": "__notebook__.ipynb",
   "parameters": {},
   "start_time": "2024-04-01T15:07:21.420823",
   "version": "2.5.0"
  },
  "widgets": {
   "application/vnd.jupyter.widget-state+json": {
    "state": {
     "0371855d8acb4c8aabf07dc0adad594a": {
      "model_module": "@jupyter-widgets/base",
      "model_module_version": "1.2.0",
      "model_name": "LayoutModel",
      "state": {
       "_model_module": "@jupyter-widgets/base",
       "_model_module_version": "1.2.0",
       "_model_name": "LayoutModel",
       "_view_count": null,
       "_view_module": "@jupyter-widgets/base",
       "_view_module_version": "1.2.0",
       "_view_name": "LayoutView",
       "align_content": null,
       "align_items": null,
       "align_self": null,
       "border": null,
       "bottom": null,
       "display": null,
       "flex": null,
       "flex_flow": null,
       "grid_area": null,
       "grid_auto_columns": null,
       "grid_auto_flow": null,
       "grid_auto_rows": null,
       "grid_column": null,
       "grid_gap": null,
       "grid_row": null,
       "grid_template_areas": null,
       "grid_template_columns": null,
       "grid_template_rows": null,
       "height": null,
       "justify_content": null,
       "justify_items": null,
       "left": null,
       "margin": null,
       "max_height": null,
       "max_width": null,
       "min_height": null,
       "min_width": null,
       "object_fit": null,
       "object_position": null,
       "order": null,
       "overflow": null,
       "overflow_x": null,
       "overflow_y": null,
       "padding": null,
       "right": null,
       "top": null,
       "visibility": null,
       "width": null
      }
     },
     "061cc982eec34b918eaa56aec25ac88a": {
      "model_module": "@jupyter-widgets/base",
      "model_module_version": "1.2.0",
      "model_name": "LayoutModel",
      "state": {
       "_model_module": "@jupyter-widgets/base",
       "_model_module_version": "1.2.0",
       "_model_name": "LayoutModel",
       "_view_count": null,
       "_view_module": "@jupyter-widgets/base",
       "_view_module_version": "1.2.0",
       "_view_name": "LayoutView",
       "align_content": null,
       "align_items": null,
       "align_self": null,
       "border": null,
       "bottom": null,
       "display": null,
       "flex": null,
       "flex_flow": null,
       "grid_area": null,
       "grid_auto_columns": null,
       "grid_auto_flow": null,
       "grid_auto_rows": null,
       "grid_column": null,
       "grid_gap": null,
       "grid_row": null,
       "grid_template_areas": null,
       "grid_template_columns": null,
       "grid_template_rows": null,
       "height": null,
       "justify_content": null,
       "justify_items": null,
       "left": null,
       "margin": null,
       "max_height": null,
       "max_width": null,
       "min_height": null,
       "min_width": null,
       "object_fit": null,
       "object_position": null,
       "order": null,
       "overflow": null,
       "overflow_x": null,
       "overflow_y": null,
       "padding": null,
       "right": null,
       "top": null,
       "visibility": null,
       "width": null
      }
     },
     "0995c241a5db4f7d9fa0f4b2bac36a1a": {
      "model_module": "@jupyter-widgets/controls",
      "model_module_version": "1.5.0",
      "model_name": "ProgressStyleModel",
      "state": {
       "_model_module": "@jupyter-widgets/controls",
       "_model_module_version": "1.5.0",
       "_model_name": "ProgressStyleModel",
       "_view_count": null,
       "_view_module": "@jupyter-widgets/base",
       "_view_module_version": "1.2.0",
       "_view_name": "StyleView",
       "bar_color": null,
       "description_width": ""
      }
     },
     "0e3eddb4058d487ea3d970cee1851cc8": {
      "model_module": "@jupyter-widgets/controls",
      "model_module_version": "1.5.0",
      "model_name": "HTMLModel",
      "state": {
       "_dom_classes": [],
       "_model_module": "@jupyter-widgets/controls",
       "_model_module_version": "1.5.0",
       "_model_name": "HTMLModel",
       "_view_count": null,
       "_view_module": "@jupyter-widgets/controls",
       "_view_module_version": "1.5.0",
       "_view_name": "HTMLView",
       "description": "",
       "description_tooltip": null,
       "layout": "IPY_MODEL_d3e73c3758ab4696a0a6f4d46aed7c5c",
       "placeholder": "​",
       "style": "IPY_MODEL_49967e2cb26241618e0addc75dd1b8ac",
       "value": " 213k/213k [00:00&lt;00:00, 1.26MB/s]"
      }
     },
     "1aef9e86fb074428b4dc2841daa8bf47": {
      "model_module": "@jupyter-widgets/base",
      "model_module_version": "1.2.0",
      "model_name": "LayoutModel",
      "state": {
       "_model_module": "@jupyter-widgets/base",
       "_model_module_version": "1.2.0",
       "_model_name": "LayoutModel",
       "_view_count": null,
       "_view_module": "@jupyter-widgets/base",
       "_view_module_version": "1.2.0",
       "_view_name": "LayoutView",
       "align_content": null,
       "align_items": null,
       "align_self": null,
       "border": null,
       "bottom": null,
       "display": null,
       "flex": null,
       "flex_flow": null,
       "grid_area": null,
       "grid_auto_columns": null,
       "grid_auto_flow": null,
       "grid_auto_rows": null,
       "grid_column": null,
       "grid_gap": null,
       "grid_row": null,
       "grid_template_areas": null,
       "grid_template_columns": null,
       "grid_template_rows": null,
       "height": null,
       "justify_content": null,
       "justify_items": null,
       "left": null,
       "margin": null,
       "max_height": null,
       "max_width": null,
       "min_height": null,
       "min_width": null,
       "object_fit": null,
       "object_position": null,
       "order": null,
       "overflow": null,
       "overflow_x": null,
       "overflow_y": null,
       "padding": null,
       "right": null,
       "top": null,
       "visibility": null,
       "width": null
      }
     },
     "24d55a59175b4999ac3eaf32d787ecf9": {
      "model_module": "@jupyter-widgets/base",
      "model_module_version": "1.2.0",
      "model_name": "LayoutModel",
      "state": {
       "_model_module": "@jupyter-widgets/base",
       "_model_module_version": "1.2.0",
       "_model_name": "LayoutModel",
       "_view_count": null,
       "_view_module": "@jupyter-widgets/base",
       "_view_module_version": "1.2.0",
       "_view_name": "LayoutView",
       "align_content": null,
       "align_items": null,
       "align_self": null,
       "border": null,
       "bottom": null,
       "display": null,
       "flex": null,
       "flex_flow": null,
       "grid_area": null,
       "grid_auto_columns": null,
       "grid_auto_flow": null,
       "grid_auto_rows": null,
       "grid_column": null,
       "grid_gap": null,
       "grid_row": null,
       "grid_template_areas": null,
       "grid_template_columns": null,
       "grid_template_rows": null,
       "height": null,
       "justify_content": null,
       "justify_items": null,
       "left": null,
       "margin": null,
       "max_height": null,
       "max_width": null,
       "min_height": null,
       "min_width": null,
       "object_fit": null,
       "object_position": null,
       "order": null,
       "overflow": null,
       "overflow_x": null,
       "overflow_y": null,
       "padding": null,
       "right": null,
       "top": null,
       "visibility": null,
       "width": null
      }
     },
     "2e53b72426b545e989d45f574c46890c": {
      "model_module": "@jupyter-widgets/base",
      "model_module_version": "1.2.0",
      "model_name": "LayoutModel",
      "state": {
       "_model_module": "@jupyter-widgets/base",
       "_model_module_version": "1.2.0",
       "_model_name": "LayoutModel",
       "_view_count": null,
       "_view_module": "@jupyter-widgets/base",
       "_view_module_version": "1.2.0",
       "_view_name": "LayoutView",
       "align_content": null,
       "align_items": null,
       "align_self": null,
       "border": null,
       "bottom": null,
       "display": null,
       "flex": null,
       "flex_flow": null,
       "grid_area": null,
       "grid_auto_columns": null,
       "grid_auto_flow": null,
       "grid_auto_rows": null,
       "grid_column": null,
       "grid_gap": null,
       "grid_row": null,
       "grid_template_areas": null,
       "grid_template_columns": null,
       "grid_template_rows": null,
       "height": null,
       "justify_content": null,
       "justify_items": null,
       "left": null,
       "margin": null,
       "max_height": null,
       "max_width": null,
       "min_height": null,
       "min_width": null,
       "object_fit": null,
       "object_position": null,
       "order": null,
       "overflow": null,
       "overflow_x": null,
       "overflow_y": null,
       "padding": null,
       "right": null,
       "top": null,
       "visibility": null,
       "width": null
      }
     },
     "31670c69c8b545329ec03c29ce50cb6c": {
      "model_module": "@jupyter-widgets/controls",
      "model_module_version": "1.5.0",
      "model_name": "ProgressStyleModel",
      "state": {
       "_model_module": "@jupyter-widgets/controls",
       "_model_module_version": "1.5.0",
       "_model_name": "ProgressStyleModel",
       "_view_count": null,
       "_view_module": "@jupyter-widgets/base",
       "_view_module_version": "1.2.0",
       "_view_name": "StyleView",
       "bar_color": null,
       "description_width": ""
      }
     },
     "3487eca543854e3ca39d33dd8f590abe": {
      "model_module": "@jupyter-widgets/controls",
      "model_module_version": "1.5.0",
      "model_name": "DescriptionStyleModel",
      "state": {
       "_model_module": "@jupyter-widgets/controls",
       "_model_module_version": "1.5.0",
       "_model_name": "DescriptionStyleModel",
       "_view_count": null,
       "_view_module": "@jupyter-widgets/base",
       "_view_module_version": "1.2.0",
       "_view_name": "StyleView",
       "description_width": ""
      }
     },
     "35814eca4c9a441a8304e50769d92a50": {
      "model_module": "@jupyter-widgets/base",
      "model_module_version": "1.2.0",
      "model_name": "LayoutModel",
      "state": {
       "_model_module": "@jupyter-widgets/base",
       "_model_module_version": "1.2.0",
       "_model_name": "LayoutModel",
       "_view_count": null,
       "_view_module": "@jupyter-widgets/base",
       "_view_module_version": "1.2.0",
       "_view_name": "LayoutView",
       "align_content": null,
       "align_items": null,
       "align_self": null,
       "border": null,
       "bottom": null,
       "display": null,
       "flex": null,
       "flex_flow": null,
       "grid_area": null,
       "grid_auto_columns": null,
       "grid_auto_flow": null,
       "grid_auto_rows": null,
       "grid_column": null,
       "grid_gap": null,
       "grid_row": null,
       "grid_template_areas": null,
       "grid_template_columns": null,
       "grid_template_rows": null,
       "height": null,
       "justify_content": null,
       "justify_items": null,
       "left": null,
       "margin": null,
       "max_height": null,
       "max_width": null,
       "min_height": null,
       "min_width": null,
       "object_fit": null,
       "object_position": null,
       "order": null,
       "overflow": null,
       "overflow_x": null,
       "overflow_y": null,
       "padding": null,
       "right": null,
       "top": null,
       "visibility": null,
       "width": null
      }
     },
     "37b9b2b2e7f447ebb20b23f4daf7752a": {
      "model_module": "@jupyter-widgets/controls",
      "model_module_version": "1.5.0",
      "model_name": "DescriptionStyleModel",
      "state": {
       "_model_module": "@jupyter-widgets/controls",
       "_model_module_version": "1.5.0",
       "_model_name": "DescriptionStyleModel",
       "_view_count": null,
       "_view_module": "@jupyter-widgets/base",
       "_view_module_version": "1.2.0",
       "_view_name": "StyleView",
       "description_width": ""
      }
     },
     "3987a5049f924af3bfdd57d45188bbab": {
      "model_module": "@jupyter-widgets/controls",
      "model_module_version": "1.5.0",
      "model_name": "DescriptionStyleModel",
      "state": {
       "_model_module": "@jupyter-widgets/controls",
       "_model_module_version": "1.5.0",
       "_model_name": "DescriptionStyleModel",
       "_view_count": null,
       "_view_module": "@jupyter-widgets/base",
       "_view_module_version": "1.2.0",
       "_view_name": "StyleView",
       "description_width": ""
      }
     },
     "3ada05f9f9854f599d82834f3c917321": {
      "model_module": "@jupyter-widgets/controls",
      "model_module_version": "1.5.0",
      "model_name": "FloatProgressModel",
      "state": {
       "_dom_classes": [],
       "_model_module": "@jupyter-widgets/controls",
       "_model_module_version": "1.5.0",
       "_model_name": "FloatProgressModel",
       "_view_count": null,
       "_view_module": "@jupyter-widgets/controls",
       "_view_module_version": "1.5.0",
       "_view_name": "ProgressView",
       "bar_style": "success",
       "description": "",
       "description_tooltip": null,
       "layout": "IPY_MODEL_1aef9e86fb074428b4dc2841daa8bf47",
       "max": 49,
       "min": 0,
       "orientation": "horizontal",
       "style": "IPY_MODEL_31670c69c8b545329ec03c29ce50cb6c",
       "value": 49
      }
     },
     "3bf3bcaaccb94a019d266109a58812ec": {
      "model_module": "@jupyter-widgets/controls",
      "model_module_version": "1.5.0",
      "model_name": "HTMLModel",
      "state": {
       "_dom_classes": [],
       "_model_module": "@jupyter-widgets/controls",
       "_model_module_version": "1.5.0",
       "_model_name": "HTMLModel",
       "_view_count": null,
       "_view_module": "@jupyter-widgets/controls",
       "_view_module_version": "1.5.0",
       "_view_name": "HTMLView",
       "description": "",
       "description_tooltip": null,
       "layout": "IPY_MODEL_6304302933d241429411c103d31547bf",
       "placeholder": "​",
       "style": "IPY_MODEL_af284d4a9f8c4062abafb055f6638a9a",
       "value": " 570/570 [00:00&lt;00:00, 50.1kB/s]"
      }
     },
     "3c630b13ca734e0385797eeddc6e563c": {
      "model_module": "@jupyter-widgets/controls",
      "model_module_version": "1.5.0",
      "model_name": "ProgressStyleModel",
      "state": {
       "_model_module": "@jupyter-widgets/controls",
       "_model_module_version": "1.5.0",
       "_model_name": "ProgressStyleModel",
       "_view_count": null,
       "_view_module": "@jupyter-widgets/base",
       "_view_module_version": "1.2.0",
       "_view_name": "StyleView",
       "bar_color": null,
       "description_width": ""
      }
     },
     "3fffd227acbb48baa8c708b3fafcefb2": {
      "model_module": "@jupyter-widgets/controls",
      "model_module_version": "1.5.0",
      "model_name": "DescriptionStyleModel",
      "state": {
       "_model_module": "@jupyter-widgets/controls",
       "_model_module_version": "1.5.0",
       "_model_name": "DescriptionStyleModel",
       "_view_count": null,
       "_view_module": "@jupyter-widgets/base",
       "_view_module_version": "1.2.0",
       "_view_name": "StyleView",
       "description_width": ""
      }
     },
     "403e43c935f74852b43948404929a907": {
      "model_module": "@jupyter-widgets/base",
      "model_module_version": "1.2.0",
      "model_name": "LayoutModel",
      "state": {
       "_model_module": "@jupyter-widgets/base",
       "_model_module_version": "1.2.0",
       "_model_name": "LayoutModel",
       "_view_count": null,
       "_view_module": "@jupyter-widgets/base",
       "_view_module_version": "1.2.0",
       "_view_name": "LayoutView",
       "align_content": null,
       "align_items": null,
       "align_self": null,
       "border": null,
       "bottom": null,
       "display": null,
       "flex": null,
       "flex_flow": null,
       "grid_area": null,
       "grid_auto_columns": null,
       "grid_auto_flow": null,
       "grid_auto_rows": null,
       "grid_column": null,
       "grid_gap": null,
       "grid_row": null,
       "grid_template_areas": null,
       "grid_template_columns": null,
       "grid_template_rows": null,
       "height": null,
       "justify_content": null,
       "justify_items": null,
       "left": null,
       "margin": null,
       "max_height": null,
       "max_width": null,
       "min_height": null,
       "min_width": null,
       "object_fit": null,
       "object_position": null,
       "order": null,
       "overflow": null,
       "overflow_x": null,
       "overflow_y": null,
       "padding": null,
       "right": null,
       "top": null,
       "visibility": null,
       "width": null
      }
     },
     "42a1f11eddeb487c98164d9ac04f7415": {
      "model_module": "@jupyter-widgets/base",
      "model_module_version": "1.2.0",
      "model_name": "LayoutModel",
      "state": {
       "_model_module": "@jupyter-widgets/base",
       "_model_module_version": "1.2.0",
       "_model_name": "LayoutModel",
       "_view_count": null,
       "_view_module": "@jupyter-widgets/base",
       "_view_module_version": "1.2.0",
       "_view_name": "LayoutView",
       "align_content": null,
       "align_items": null,
       "align_self": null,
       "border": null,
       "bottom": null,
       "display": null,
       "flex": null,
       "flex_flow": null,
       "grid_area": null,
       "grid_auto_columns": null,
       "grid_auto_flow": null,
       "grid_auto_rows": null,
       "grid_column": null,
       "grid_gap": null,
       "grid_row": null,
       "grid_template_areas": null,
       "grid_template_columns": null,
       "grid_template_rows": null,
       "height": null,
       "justify_content": null,
       "justify_items": null,
       "left": null,
       "margin": null,
       "max_height": null,
       "max_width": null,
       "min_height": null,
       "min_width": null,
       "object_fit": null,
       "object_position": null,
       "order": null,
       "overflow": null,
       "overflow_x": null,
       "overflow_y": null,
       "padding": null,
       "right": null,
       "top": null,
       "visibility": null,
       "width": null
      }
     },
     "43357f5f654d452581baeea957989293": {
      "model_module": "@jupyter-widgets/controls",
      "model_module_version": "1.5.0",
      "model_name": "HTMLModel",
      "state": {
       "_dom_classes": [],
       "_model_module": "@jupyter-widgets/controls",
       "_model_module_version": "1.5.0",
       "_model_name": "HTMLModel",
       "_view_count": null,
       "_view_module": "@jupyter-widgets/controls",
       "_view_module_version": "1.5.0",
       "_view_name": "HTMLView",
       "description": "",
       "description_tooltip": null,
       "layout": "IPY_MODEL_e070b58b36f54ce6ae18823c8dc26026",
       "placeholder": "​",
       "style": "IPY_MODEL_3fffd227acbb48baa8c708b3fafcefb2",
       "value": " 49.0/49.0 [00:00&lt;00:00, 3.95kB/s]"
      }
     },
     "497ab86a02174dda9686cf9f0b18e84c": {
      "model_module": "@jupyter-widgets/controls",
      "model_module_version": "1.5.0",
      "model_name": "FloatProgressModel",
      "state": {
       "_dom_classes": [],
       "_model_module": "@jupyter-widgets/controls",
       "_model_module_version": "1.5.0",
       "_model_name": "FloatProgressModel",
       "_view_count": null,
       "_view_module": "@jupyter-widgets/controls",
       "_view_module_version": "1.5.0",
       "_view_name": "ProgressView",
       "bar_style": "success",
       "description": "",
       "description_tooltip": null,
       "layout": "IPY_MODEL_061cc982eec34b918eaa56aec25ac88a",
       "max": 570,
       "min": 0,
       "orientation": "horizontal",
       "style": "IPY_MODEL_3c630b13ca734e0385797eeddc6e563c",
       "value": 570
      }
     },
     "49967e2cb26241618e0addc75dd1b8ac": {
      "model_module": "@jupyter-widgets/controls",
      "model_module_version": "1.5.0",
      "model_name": "DescriptionStyleModel",
      "state": {
       "_model_module": "@jupyter-widgets/controls",
       "_model_module_version": "1.5.0",
       "_model_name": "DescriptionStyleModel",
       "_view_count": null,
       "_view_module": "@jupyter-widgets/base",
       "_view_module_version": "1.2.0",
       "_view_name": "StyleView",
       "description_width": ""
      }
     },
     "49a3863e22c74ea0bac2771b254c70a4": {
      "model_module": "@jupyter-widgets/controls",
      "model_module_version": "1.5.0",
      "model_name": "DescriptionStyleModel",
      "state": {
       "_model_module": "@jupyter-widgets/controls",
       "_model_module_version": "1.5.0",
       "_model_name": "DescriptionStyleModel",
       "_view_count": null,
       "_view_module": "@jupyter-widgets/base",
       "_view_module_version": "1.2.0",
       "_view_name": "StyleView",
       "description_width": ""
      }
     },
     "545963e8bd0e4184b2c65883b54851b3": {
      "model_module": "@jupyter-widgets/controls",
      "model_module_version": "1.5.0",
      "model_name": "HBoxModel",
      "state": {
       "_dom_classes": [],
       "_model_module": "@jupyter-widgets/controls",
       "_model_module_version": "1.5.0",
       "_model_name": "HBoxModel",
       "_view_count": null,
       "_view_module": "@jupyter-widgets/controls",
       "_view_module_version": "1.5.0",
       "_view_name": "HBoxView",
       "box_style": "",
       "children": [
        "IPY_MODEL_d97f432dbe2443c5a62accba2b8cca1e",
        "IPY_MODEL_497ab86a02174dda9686cf9f0b18e84c",
        "IPY_MODEL_3bf3bcaaccb94a019d266109a58812ec"
       ],
       "layout": "IPY_MODEL_24d55a59175b4999ac3eaf32d787ecf9"
      }
     },
     "565f98b722bb4a2e989ca6b38cfb50b4": {
      "model_module": "@jupyter-widgets/controls",
      "model_module_version": "1.5.0",
      "model_name": "HBoxModel",
      "state": {
       "_dom_classes": [],
       "_model_module": "@jupyter-widgets/controls",
       "_model_module_version": "1.5.0",
       "_model_name": "HBoxModel",
       "_view_count": null,
       "_view_module": "@jupyter-widgets/controls",
       "_view_module_version": "1.5.0",
       "_view_name": "HBoxView",
       "box_style": "",
       "children": [
        "IPY_MODEL_7d90e0f3db924a86a7e30377e127e82e",
        "IPY_MODEL_3ada05f9f9854f599d82834f3c917321",
        "IPY_MODEL_43357f5f654d452581baeea957989293"
       ],
       "layout": "IPY_MODEL_a3c33a0e46184e2dba60a960be09b0a0"
      }
     },
     "56e4344b90e94e35a1a90bab65942460": {
      "model_module": "@jupyter-widgets/controls",
      "model_module_version": "1.5.0",
      "model_name": "DescriptionStyleModel",
      "state": {
       "_model_module": "@jupyter-widgets/controls",
       "_model_module_version": "1.5.0",
       "_model_name": "DescriptionStyleModel",
       "_view_count": null,
       "_view_module": "@jupyter-widgets/base",
       "_view_module_version": "1.2.0",
       "_view_name": "StyleView",
       "description_width": ""
      }
     },
     "5e4f909c9da048b5b8ee067f374eaf21": {
      "model_module": "@jupyter-widgets/controls",
      "model_module_version": "1.5.0",
      "model_name": "HBoxModel",
      "state": {
       "_dom_classes": [],
       "_model_module": "@jupyter-widgets/controls",
       "_model_module_version": "1.5.0",
       "_model_name": "HBoxModel",
       "_view_count": null,
       "_view_module": "@jupyter-widgets/controls",
       "_view_module_version": "1.5.0",
       "_view_name": "HBoxView",
       "box_style": "",
       "children": [
        "IPY_MODEL_852b7789898b41a78132858f15025b72",
        "IPY_MODEL_f932b5449fce4c35aba8257c8c0f63d5",
        "IPY_MODEL_647f8eb08b09476b9c3bdfbf6ef37b3c"
       ],
       "layout": "IPY_MODEL_0371855d8acb4c8aabf07dc0adad594a"
      }
     },
     "600d4b128a194421a4c125197b3fab51": {
      "model_module": "@jupyter-widgets/controls",
      "model_module_version": "1.5.0",
      "model_name": "HBoxModel",
      "state": {
       "_dom_classes": [],
       "_model_module": "@jupyter-widgets/controls",
       "_model_module_version": "1.5.0",
       "_model_name": "HBoxModel",
       "_view_count": null,
       "_view_module": "@jupyter-widgets/controls",
       "_view_module_version": "1.5.0",
       "_view_name": "HBoxView",
       "box_style": "",
       "children": [
        "IPY_MODEL_f6432f210d1947d59801d1fe3e0f01b6",
        "IPY_MODEL_d7ca15ab4ec8467f88b95cae7e32697d",
        "IPY_MODEL_c1ac957c9ddc42b49e9c879cded6f5f0"
       ],
       "layout": "IPY_MODEL_ed3db5c88bfd493d8fbbc07a545ffcde"
      }
     },
     "6304302933d241429411c103d31547bf": {
      "model_module": "@jupyter-widgets/base",
      "model_module_version": "1.2.0",
      "model_name": "LayoutModel",
      "state": {
       "_model_module": "@jupyter-widgets/base",
       "_model_module_version": "1.2.0",
       "_model_name": "LayoutModel",
       "_view_count": null,
       "_view_module": "@jupyter-widgets/base",
       "_view_module_version": "1.2.0",
       "_view_name": "LayoutView",
       "align_content": null,
       "align_items": null,
       "align_self": null,
       "border": null,
       "bottom": null,
       "display": null,
       "flex": null,
       "flex_flow": null,
       "grid_area": null,
       "grid_auto_columns": null,
       "grid_auto_flow": null,
       "grid_auto_rows": null,
       "grid_column": null,
       "grid_gap": null,
       "grid_row": null,
       "grid_template_areas": null,
       "grid_template_columns": null,
       "grid_template_rows": null,
       "height": null,
       "justify_content": null,
       "justify_items": null,
       "left": null,
       "margin": null,
       "max_height": null,
       "max_width": null,
       "min_height": null,
       "min_width": null,
       "object_fit": null,
       "object_position": null,
       "order": null,
       "overflow": null,
       "overflow_x": null,
       "overflow_y": null,
       "padding": null,
       "right": null,
       "top": null,
       "visibility": null,
       "width": null
      }
     },
     "647f8eb08b09476b9c3bdfbf6ef37b3c": {
      "model_module": "@jupyter-widgets/controls",
      "model_module_version": "1.5.0",
      "model_name": "HTMLModel",
      "state": {
       "_dom_classes": [],
       "_model_module": "@jupyter-widgets/controls",
       "_model_module_version": "1.5.0",
       "_model_name": "HTMLModel",
       "_view_count": null,
       "_view_module": "@jupyter-widgets/controls",
       "_view_module_version": "1.5.0",
       "_view_name": "HTMLView",
       "description": "",
       "description_tooltip": null,
       "layout": "IPY_MODEL_c3f19e140991436ba6f05414680444f9",
       "placeholder": "​",
       "style": "IPY_MODEL_56e4344b90e94e35a1a90bab65942460",
       "value": " 436k/436k [00:00&lt;00:00, 1.75MB/s]"
      }
     },
     "66860dc1f4244e41a4834510940e0976": {
      "model_module": "@jupyter-widgets/base",
      "model_module_version": "1.2.0",
      "model_name": "LayoutModel",
      "state": {
       "_model_module": "@jupyter-widgets/base",
       "_model_module_version": "1.2.0",
       "_model_name": "LayoutModel",
       "_view_count": null,
       "_view_module": "@jupyter-widgets/base",
       "_view_module_version": "1.2.0",
       "_view_name": "LayoutView",
       "align_content": null,
       "align_items": null,
       "align_self": null,
       "border": null,
       "bottom": null,
       "display": null,
       "flex": null,
       "flex_flow": null,
       "grid_area": null,
       "grid_auto_columns": null,
       "grid_auto_flow": null,
       "grid_auto_rows": null,
       "grid_column": null,
       "grid_gap": null,
       "grid_row": null,
       "grid_template_areas": null,
       "grid_template_columns": null,
       "grid_template_rows": null,
       "height": null,
       "justify_content": null,
       "justify_items": null,
       "left": null,
       "margin": null,
       "max_height": null,
       "max_width": null,
       "min_height": null,
       "min_width": null,
       "object_fit": null,
       "object_position": null,
       "order": null,
       "overflow": null,
       "overflow_x": null,
       "overflow_y": null,
       "padding": null,
       "right": null,
       "top": null,
       "visibility": null,
       "width": null
      }
     },
     "79eb81c11167458ba7bdcfffef40ab38": {
      "model_module": "@jupyter-widgets/controls",
      "model_module_version": "1.5.0",
      "model_name": "HBoxModel",
      "state": {
       "_dom_classes": [],
       "_model_module": "@jupyter-widgets/controls",
       "_model_module_version": "1.5.0",
       "_model_name": "HBoxModel",
       "_view_count": null,
       "_view_module": "@jupyter-widgets/controls",
       "_view_module_version": "1.5.0",
       "_view_name": "HBoxView",
       "box_style": "",
       "children": [
        "IPY_MODEL_ab4025256ee34853b29cd5f7ab6a9177",
        "IPY_MODEL_a9bf70187a444df6a990f9b8f2bc23cc",
        "IPY_MODEL_0e3eddb4058d487ea3d970cee1851cc8"
       ],
       "layout": "IPY_MODEL_d7973296bba441f3b17307e5493ef88b"
      }
     },
     "7d8920c4f6aa48f691e7c954a0cf097a": {
      "model_module": "@jupyter-widgets/base",
      "model_module_version": "1.2.0",
      "model_name": "LayoutModel",
      "state": {
       "_model_module": "@jupyter-widgets/base",
       "_model_module_version": "1.2.0",
       "_model_name": "LayoutModel",
       "_view_count": null,
       "_view_module": "@jupyter-widgets/base",
       "_view_module_version": "1.2.0",
       "_view_name": "LayoutView",
       "align_content": null,
       "align_items": null,
       "align_self": null,
       "border": null,
       "bottom": null,
       "display": null,
       "flex": null,
       "flex_flow": null,
       "grid_area": null,
       "grid_auto_columns": null,
       "grid_auto_flow": null,
       "grid_auto_rows": null,
       "grid_column": null,
       "grid_gap": null,
       "grid_row": null,
       "grid_template_areas": null,
       "grid_template_columns": null,
       "grid_template_rows": null,
       "height": null,
       "justify_content": null,
       "justify_items": null,
       "left": null,
       "margin": null,
       "max_height": null,
       "max_width": null,
       "min_height": null,
       "min_width": null,
       "object_fit": null,
       "object_position": null,
       "order": null,
       "overflow": null,
       "overflow_x": null,
       "overflow_y": null,
       "padding": null,
       "right": null,
       "top": null,
       "visibility": null,
       "width": null
      }
     },
     "7d90e0f3db924a86a7e30377e127e82e": {
      "model_module": "@jupyter-widgets/controls",
      "model_module_version": "1.5.0",
      "model_name": "HTMLModel",
      "state": {
       "_dom_classes": [],
       "_model_module": "@jupyter-widgets/controls",
       "_model_module_version": "1.5.0",
       "_model_name": "HTMLModel",
       "_view_count": null,
       "_view_module": "@jupyter-widgets/controls",
       "_view_module_version": "1.5.0",
       "_view_name": "HTMLView",
       "description": "",
       "description_tooltip": null,
       "layout": "IPY_MODEL_ad908de0522247afb9ad485aa48c9849",
       "placeholder": "​",
       "style": "IPY_MODEL_f7ad4461ffd241d29f9234686fa48f2f",
       "value": "tokenizer_config.json: 100%"
      }
     },
     "852b7789898b41a78132858f15025b72": {
      "model_module": "@jupyter-widgets/controls",
      "model_module_version": "1.5.0",
      "model_name": "HTMLModel",
      "state": {
       "_dom_classes": [],
       "_model_module": "@jupyter-widgets/controls",
       "_model_module_version": "1.5.0",
       "_model_name": "HTMLModel",
       "_view_count": null,
       "_view_module": "@jupyter-widgets/controls",
       "_view_module_version": "1.5.0",
       "_view_name": "HTMLView",
       "description": "",
       "description_tooltip": null,
       "layout": "IPY_MODEL_403e43c935f74852b43948404929a907",
       "placeholder": "​",
       "style": "IPY_MODEL_49a3863e22c74ea0bac2771b254c70a4",
       "value": "tokenizer.json: 100%"
      }
     },
     "8b14981c48a74c26ba0a50aed79a705c": {
      "model_module": "@jupyter-widgets/controls",
      "model_module_version": "1.5.0",
      "model_name": "DescriptionStyleModel",
      "state": {
       "_model_module": "@jupyter-widgets/controls",
       "_model_module_version": "1.5.0",
       "_model_name": "DescriptionStyleModel",
       "_view_count": null,
       "_view_module": "@jupyter-widgets/base",
       "_view_module_version": "1.2.0",
       "_view_name": "StyleView",
       "description_width": ""
      }
     },
     "8c051500b34b4ba7a1ca338679fc8014": {
      "model_module": "@jupyter-widgets/base",
      "model_module_version": "1.2.0",
      "model_name": "LayoutModel",
      "state": {
       "_model_module": "@jupyter-widgets/base",
       "_model_module_version": "1.2.0",
       "_model_name": "LayoutModel",
       "_view_count": null,
       "_view_module": "@jupyter-widgets/base",
       "_view_module_version": "1.2.0",
       "_view_name": "LayoutView",
       "align_content": null,
       "align_items": null,
       "align_self": null,
       "border": null,
       "bottom": null,
       "display": null,
       "flex": null,
       "flex_flow": null,
       "grid_area": null,
       "grid_auto_columns": null,
       "grid_auto_flow": null,
       "grid_auto_rows": null,
       "grid_column": null,
       "grid_gap": null,
       "grid_row": null,
       "grid_template_areas": null,
       "grid_template_columns": null,
       "grid_template_rows": null,
       "height": null,
       "justify_content": null,
       "justify_items": null,
       "left": null,
       "margin": null,
       "max_height": null,
       "max_width": null,
       "min_height": null,
       "min_width": null,
       "object_fit": null,
       "object_position": null,
       "order": null,
       "overflow": null,
       "overflow_x": null,
       "overflow_y": null,
       "padding": null,
       "right": null,
       "top": null,
       "visibility": null,
       "width": null
      }
     },
     "9ad5add788244400b52b723aa04f1f14": {
      "model_module": "@jupyter-widgets/controls",
      "model_module_version": "1.5.0",
      "model_name": "ProgressStyleModel",
      "state": {
       "_model_module": "@jupyter-widgets/controls",
       "_model_module_version": "1.5.0",
       "_model_name": "ProgressStyleModel",
       "_view_count": null,
       "_view_module": "@jupyter-widgets/base",
       "_view_module_version": "1.2.0",
       "_view_name": "StyleView",
       "bar_color": null,
       "description_width": ""
      }
     },
     "a3c33a0e46184e2dba60a960be09b0a0": {
      "model_module": "@jupyter-widgets/base",
      "model_module_version": "1.2.0",
      "model_name": "LayoutModel",
      "state": {
       "_model_module": "@jupyter-widgets/base",
       "_model_module_version": "1.2.0",
       "_model_name": "LayoutModel",
       "_view_count": null,
       "_view_module": "@jupyter-widgets/base",
       "_view_module_version": "1.2.0",
       "_view_name": "LayoutView",
       "align_content": null,
       "align_items": null,
       "align_self": null,
       "border": null,
       "bottom": null,
       "display": null,
       "flex": null,
       "flex_flow": null,
       "grid_area": null,
       "grid_auto_columns": null,
       "grid_auto_flow": null,
       "grid_auto_rows": null,
       "grid_column": null,
       "grid_gap": null,
       "grid_row": null,
       "grid_template_areas": null,
       "grid_template_columns": null,
       "grid_template_rows": null,
       "height": null,
       "justify_content": null,
       "justify_items": null,
       "left": null,
       "margin": null,
       "max_height": null,
       "max_width": null,
       "min_height": null,
       "min_width": null,
       "object_fit": null,
       "object_position": null,
       "order": null,
       "overflow": null,
       "overflow_x": null,
       "overflow_y": null,
       "padding": null,
       "right": null,
       "top": null,
       "visibility": null,
       "width": null
      }
     },
     "a9bf70187a444df6a990f9b8f2bc23cc": {
      "model_module": "@jupyter-widgets/controls",
      "model_module_version": "1.5.0",
      "model_name": "FloatProgressModel",
      "state": {
       "_dom_classes": [],
       "_model_module": "@jupyter-widgets/controls",
       "_model_module_version": "1.5.0",
       "_model_name": "FloatProgressModel",
       "_view_count": null,
       "_view_module": "@jupyter-widgets/controls",
       "_view_module_version": "1.5.0",
       "_view_name": "ProgressView",
       "bar_style": "success",
       "description": "",
       "description_tooltip": null,
       "layout": "IPY_MODEL_c5f47e81b91e42e7911a485725ff1f4d",
       "max": 213450,
       "min": 0,
       "orientation": "horizontal",
       "style": "IPY_MODEL_ada42a370d9847a885b3cf4cddceebec",
       "value": 213450
      }
     },
     "ab4025256ee34853b29cd5f7ab6a9177": {
      "model_module": "@jupyter-widgets/controls",
      "model_module_version": "1.5.0",
      "model_name": "HTMLModel",
      "state": {
       "_dom_classes": [],
       "_model_module": "@jupyter-widgets/controls",
       "_model_module_version": "1.5.0",
       "_model_name": "HTMLModel",
       "_view_count": null,
       "_view_module": "@jupyter-widgets/controls",
       "_view_module_version": "1.5.0",
       "_view_name": "HTMLView",
       "description": "",
       "description_tooltip": null,
       "layout": "IPY_MODEL_66860dc1f4244e41a4834510940e0976",
       "placeholder": "​",
       "style": "IPY_MODEL_3987a5049f924af3bfdd57d45188bbab",
       "value": "vocab.txt: 100%"
      }
     },
     "ad908de0522247afb9ad485aa48c9849": {
      "model_module": "@jupyter-widgets/base",
      "model_module_version": "1.2.0",
      "model_name": "LayoutModel",
      "state": {
       "_model_module": "@jupyter-widgets/base",
       "_model_module_version": "1.2.0",
       "_model_name": "LayoutModel",
       "_view_count": null,
       "_view_module": "@jupyter-widgets/base",
       "_view_module_version": "1.2.0",
       "_view_name": "LayoutView",
       "align_content": null,
       "align_items": null,
       "align_self": null,
       "border": null,
       "bottom": null,
       "display": null,
       "flex": null,
       "flex_flow": null,
       "grid_area": null,
       "grid_auto_columns": null,
       "grid_auto_flow": null,
       "grid_auto_rows": null,
       "grid_column": null,
       "grid_gap": null,
       "grid_row": null,
       "grid_template_areas": null,
       "grid_template_columns": null,
       "grid_template_rows": null,
       "height": null,
       "justify_content": null,
       "justify_items": null,
       "left": null,
       "margin": null,
       "max_height": null,
       "max_width": null,
       "min_height": null,
       "min_width": null,
       "object_fit": null,
       "object_position": null,
       "order": null,
       "overflow": null,
       "overflow_x": null,
       "overflow_y": null,
       "padding": null,
       "right": null,
       "top": null,
       "visibility": null,
       "width": null
      }
     },
     "ada42a370d9847a885b3cf4cddceebec": {
      "model_module": "@jupyter-widgets/controls",
      "model_module_version": "1.5.0",
      "model_name": "ProgressStyleModel",
      "state": {
       "_model_module": "@jupyter-widgets/controls",
       "_model_module_version": "1.5.0",
       "_model_name": "ProgressStyleModel",
       "_view_count": null,
       "_view_module": "@jupyter-widgets/base",
       "_view_module_version": "1.2.0",
       "_view_name": "StyleView",
       "bar_color": null,
       "description_width": ""
      }
     },
     "af284d4a9f8c4062abafb055f6638a9a": {
      "model_module": "@jupyter-widgets/controls",
      "model_module_version": "1.5.0",
      "model_name": "DescriptionStyleModel",
      "state": {
       "_model_module": "@jupyter-widgets/controls",
       "_model_module_version": "1.5.0",
       "_model_name": "DescriptionStyleModel",
       "_view_count": null,
       "_view_module": "@jupyter-widgets/base",
       "_view_module_version": "1.2.0",
       "_view_name": "StyleView",
       "description_width": ""
      }
     },
     "c1ac957c9ddc42b49e9c879cded6f5f0": {
      "model_module": "@jupyter-widgets/controls",
      "model_module_version": "1.5.0",
      "model_name": "HTMLModel",
      "state": {
       "_dom_classes": [],
       "_model_module": "@jupyter-widgets/controls",
       "_model_module_version": "1.5.0",
       "_model_name": "HTMLModel",
       "_view_count": null,
       "_view_module": "@jupyter-widgets/controls",
       "_view_module_version": "1.5.0",
       "_view_name": "HTMLView",
       "description": "",
       "description_tooltip": null,
       "layout": "IPY_MODEL_42a1f11eddeb487c98164d9ac04f7415",
       "placeholder": "​",
       "style": "IPY_MODEL_37b9b2b2e7f447ebb20b23f4daf7752a",
       "value": " 436M/436M [00:01&lt;00:00, 326MB/s]"
      }
     },
     "c3f19e140991436ba6f05414680444f9": {
      "model_module": "@jupyter-widgets/base",
      "model_module_version": "1.2.0",
      "model_name": "LayoutModel",
      "state": {
       "_model_module": "@jupyter-widgets/base",
       "_model_module_version": "1.2.0",
       "_model_name": "LayoutModel",
       "_view_count": null,
       "_view_module": "@jupyter-widgets/base",
       "_view_module_version": "1.2.0",
       "_view_name": "LayoutView",
       "align_content": null,
       "align_items": null,
       "align_self": null,
       "border": null,
       "bottom": null,
       "display": null,
       "flex": null,
       "flex_flow": null,
       "grid_area": null,
       "grid_auto_columns": null,
       "grid_auto_flow": null,
       "grid_auto_rows": null,
       "grid_column": null,
       "grid_gap": null,
       "grid_row": null,
       "grid_template_areas": null,
       "grid_template_columns": null,
       "grid_template_rows": null,
       "height": null,
       "justify_content": null,
       "justify_items": null,
       "left": null,
       "margin": null,
       "max_height": null,
       "max_width": null,
       "min_height": null,
       "min_width": null,
       "object_fit": null,
       "object_position": null,
       "order": null,
       "overflow": null,
       "overflow_x": null,
       "overflow_y": null,
       "padding": null,
       "right": null,
       "top": null,
       "visibility": null,
       "width": null
      }
     },
     "c5f47e81b91e42e7911a485725ff1f4d": {
      "model_module": "@jupyter-widgets/base",
      "model_module_version": "1.2.0",
      "model_name": "LayoutModel",
      "state": {
       "_model_module": "@jupyter-widgets/base",
       "_model_module_version": "1.2.0",
       "_model_name": "LayoutModel",
       "_view_count": null,
       "_view_module": "@jupyter-widgets/base",
       "_view_module_version": "1.2.0",
       "_view_name": "LayoutView",
       "align_content": null,
       "align_items": null,
       "align_self": null,
       "border": null,
       "bottom": null,
       "display": null,
       "flex": null,
       "flex_flow": null,
       "grid_area": null,
       "grid_auto_columns": null,
       "grid_auto_flow": null,
       "grid_auto_rows": null,
       "grid_column": null,
       "grid_gap": null,
       "grid_row": null,
       "grid_template_areas": null,
       "grid_template_columns": null,
       "grid_template_rows": null,
       "height": null,
       "justify_content": null,
       "justify_items": null,
       "left": null,
       "margin": null,
       "max_height": null,
       "max_width": null,
       "min_height": null,
       "min_width": null,
       "object_fit": null,
       "object_position": null,
       "order": null,
       "overflow": null,
       "overflow_x": null,
       "overflow_y": null,
       "padding": null,
       "right": null,
       "top": null,
       "visibility": null,
       "width": null
      }
     },
     "d3e73c3758ab4696a0a6f4d46aed7c5c": {
      "model_module": "@jupyter-widgets/base",
      "model_module_version": "1.2.0",
      "model_name": "LayoutModel",
      "state": {
       "_model_module": "@jupyter-widgets/base",
       "_model_module_version": "1.2.0",
       "_model_name": "LayoutModel",
       "_view_count": null,
       "_view_module": "@jupyter-widgets/base",
       "_view_module_version": "1.2.0",
       "_view_name": "LayoutView",
       "align_content": null,
       "align_items": null,
       "align_self": null,
       "border": null,
       "bottom": null,
       "display": null,
       "flex": null,
       "flex_flow": null,
       "grid_area": null,
       "grid_auto_columns": null,
       "grid_auto_flow": null,
       "grid_auto_rows": null,
       "grid_column": null,
       "grid_gap": null,
       "grid_row": null,
       "grid_template_areas": null,
       "grid_template_columns": null,
       "grid_template_rows": null,
       "height": null,
       "justify_content": null,
       "justify_items": null,
       "left": null,
       "margin": null,
       "max_height": null,
       "max_width": null,
       "min_height": null,
       "min_width": null,
       "object_fit": null,
       "object_position": null,
       "order": null,
       "overflow": null,
       "overflow_x": null,
       "overflow_y": null,
       "padding": null,
       "right": null,
       "top": null,
       "visibility": null,
       "width": null
      }
     },
     "d7973296bba441f3b17307e5493ef88b": {
      "model_module": "@jupyter-widgets/base",
      "model_module_version": "1.2.0",
      "model_name": "LayoutModel",
      "state": {
       "_model_module": "@jupyter-widgets/base",
       "_model_module_version": "1.2.0",
       "_model_name": "LayoutModel",
       "_view_count": null,
       "_view_module": "@jupyter-widgets/base",
       "_view_module_version": "1.2.0",
       "_view_name": "LayoutView",
       "align_content": null,
       "align_items": null,
       "align_self": null,
       "border": null,
       "bottom": null,
       "display": null,
       "flex": null,
       "flex_flow": null,
       "grid_area": null,
       "grid_auto_columns": null,
       "grid_auto_flow": null,
       "grid_auto_rows": null,
       "grid_column": null,
       "grid_gap": null,
       "grid_row": null,
       "grid_template_areas": null,
       "grid_template_columns": null,
       "grid_template_rows": null,
       "height": null,
       "justify_content": null,
       "justify_items": null,
       "left": null,
       "margin": null,
       "max_height": null,
       "max_width": null,
       "min_height": null,
       "min_width": null,
       "object_fit": null,
       "object_position": null,
       "order": null,
       "overflow": null,
       "overflow_x": null,
       "overflow_y": null,
       "padding": null,
       "right": null,
       "top": null,
       "visibility": null,
       "width": null
      }
     },
     "d7ca15ab4ec8467f88b95cae7e32697d": {
      "model_module": "@jupyter-widgets/controls",
      "model_module_version": "1.5.0",
      "model_name": "FloatProgressModel",
      "state": {
       "_dom_classes": [],
       "_model_module": "@jupyter-widgets/controls",
       "_model_module_version": "1.5.0",
       "_model_name": "FloatProgressModel",
       "_view_count": null,
       "_view_module": "@jupyter-widgets/controls",
       "_view_module_version": "1.5.0",
       "_view_name": "ProgressView",
       "bar_style": "success",
       "description": "",
       "description_tooltip": null,
       "layout": "IPY_MODEL_35814eca4c9a441a8304e50769d92a50",
       "max": 435755784,
       "min": 0,
       "orientation": "horizontal",
       "style": "IPY_MODEL_0995c241a5db4f7d9fa0f4b2bac36a1a",
       "value": 435755784
      }
     },
     "d97f432dbe2443c5a62accba2b8cca1e": {
      "model_module": "@jupyter-widgets/controls",
      "model_module_version": "1.5.0",
      "model_name": "HTMLModel",
      "state": {
       "_dom_classes": [],
       "_model_module": "@jupyter-widgets/controls",
       "_model_module_version": "1.5.0",
       "_model_name": "HTMLModel",
       "_view_count": null,
       "_view_module": "@jupyter-widgets/controls",
       "_view_module_version": "1.5.0",
       "_view_name": "HTMLView",
       "description": "",
       "description_tooltip": null,
       "layout": "IPY_MODEL_7d8920c4f6aa48f691e7c954a0cf097a",
       "placeholder": "​",
       "style": "IPY_MODEL_8b14981c48a74c26ba0a50aed79a705c",
       "value": "config.json: 100%"
      }
     },
     "e070b58b36f54ce6ae18823c8dc26026": {
      "model_module": "@jupyter-widgets/base",
      "model_module_version": "1.2.0",
      "model_name": "LayoutModel",
      "state": {
       "_model_module": "@jupyter-widgets/base",
       "_model_module_version": "1.2.0",
       "_model_name": "LayoutModel",
       "_view_count": null,
       "_view_module": "@jupyter-widgets/base",
       "_view_module_version": "1.2.0",
       "_view_name": "LayoutView",
       "align_content": null,
       "align_items": null,
       "align_self": null,
       "border": null,
       "bottom": null,
       "display": null,
       "flex": null,
       "flex_flow": null,
       "grid_area": null,
       "grid_auto_columns": null,
       "grid_auto_flow": null,
       "grid_auto_rows": null,
       "grid_column": null,
       "grid_gap": null,
       "grid_row": null,
       "grid_template_areas": null,
       "grid_template_columns": null,
       "grid_template_rows": null,
       "height": null,
       "justify_content": null,
       "justify_items": null,
       "left": null,
       "margin": null,
       "max_height": null,
       "max_width": null,
       "min_height": null,
       "min_width": null,
       "object_fit": null,
       "object_position": null,
       "order": null,
       "overflow": null,
       "overflow_x": null,
       "overflow_y": null,
       "padding": null,
       "right": null,
       "top": null,
       "visibility": null,
       "width": null
      }
     },
     "ed3db5c88bfd493d8fbbc07a545ffcde": {
      "model_module": "@jupyter-widgets/base",
      "model_module_version": "1.2.0",
      "model_name": "LayoutModel",
      "state": {
       "_model_module": "@jupyter-widgets/base",
       "_model_module_version": "1.2.0",
       "_model_name": "LayoutModel",
       "_view_count": null,
       "_view_module": "@jupyter-widgets/base",
       "_view_module_version": "1.2.0",
       "_view_name": "LayoutView",
       "align_content": null,
       "align_items": null,
       "align_self": null,
       "border": null,
       "bottom": null,
       "display": null,
       "flex": null,
       "flex_flow": null,
       "grid_area": null,
       "grid_auto_columns": null,
       "grid_auto_flow": null,
       "grid_auto_rows": null,
       "grid_column": null,
       "grid_gap": null,
       "grid_row": null,
       "grid_template_areas": null,
       "grid_template_columns": null,
       "grid_template_rows": null,
       "height": null,
       "justify_content": null,
       "justify_items": null,
       "left": null,
       "margin": null,
       "max_height": null,
       "max_width": null,
       "min_height": null,
       "min_width": null,
       "object_fit": null,
       "object_position": null,
       "order": null,
       "overflow": null,
       "overflow_x": null,
       "overflow_y": null,
       "padding": null,
       "right": null,
       "top": null,
       "visibility": null,
       "width": null
      }
     },
     "f6432f210d1947d59801d1fe3e0f01b6": {
      "model_module": "@jupyter-widgets/controls",
      "model_module_version": "1.5.0",
      "model_name": "HTMLModel",
      "state": {
       "_dom_classes": [],
       "_model_module": "@jupyter-widgets/controls",
       "_model_module_version": "1.5.0",
       "_model_name": "HTMLModel",
       "_view_count": null,
       "_view_module": "@jupyter-widgets/controls",
       "_view_module_version": "1.5.0",
       "_view_name": "HTMLView",
       "description": "",
       "description_tooltip": null,
       "layout": "IPY_MODEL_8c051500b34b4ba7a1ca338679fc8014",
       "placeholder": "​",
       "style": "IPY_MODEL_3487eca543854e3ca39d33dd8f590abe",
       "value": "model.safetensors: 100%"
      }
     },
     "f7ad4461ffd241d29f9234686fa48f2f": {
      "model_module": "@jupyter-widgets/controls",
      "model_module_version": "1.5.0",
      "model_name": "DescriptionStyleModel",
      "state": {
       "_model_module": "@jupyter-widgets/controls",
       "_model_module_version": "1.5.0",
       "_model_name": "DescriptionStyleModel",
       "_view_count": null,
       "_view_module": "@jupyter-widgets/base",
       "_view_module_version": "1.2.0",
       "_view_name": "StyleView",
       "description_width": ""
      }
     },
     "f932b5449fce4c35aba8257c8c0f63d5": {
      "model_module": "@jupyter-widgets/controls",
      "model_module_version": "1.5.0",
      "model_name": "FloatProgressModel",
      "state": {
       "_dom_classes": [],
       "_model_module": "@jupyter-widgets/controls",
       "_model_module_version": "1.5.0",
       "_model_name": "FloatProgressModel",
       "_view_count": null,
       "_view_module": "@jupyter-widgets/controls",
       "_view_module_version": "1.5.0",
       "_view_name": "ProgressView",
       "bar_style": "success",
       "description": "",
       "description_tooltip": null,
       "layout": "IPY_MODEL_2e53b72426b545e989d45f574c46890c",
       "max": 435797,
       "min": 0,
       "orientation": "horizontal",
       "style": "IPY_MODEL_9ad5add788244400b52b723aa04f1f14",
       "value": 435797
      }
     }
    },
    "version_major": 2,
    "version_minor": 0
   }
  }
 },
 "nbformat": 4,
 "nbformat_minor": 5
}
