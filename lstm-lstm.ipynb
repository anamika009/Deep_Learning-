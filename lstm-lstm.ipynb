{
  "cells": [
    {
      "cell_type": "code",
      "execution_count": 1,
      "metadata": {
        "colab": {
          "base_uri": "https://localhost:8080/"
        },
        "id": "HelURfGrNeQB",
        "outputId": "b3307601-9b50-443c-c2d9-0eee4ac76f02"
      },
      "outputs": [
        {
          "name": "stdout",
          "output_type": "stream",
          "text": [
            "Mounted at /content/drive\n"
          ]
        }
      ],
      "source": [
        "from google.colab import drive\n",
        "drive.mount('/content/drive')"
      ]
    },
    {
      "cell_type": "code",
      "execution_count": 1,
      "metadata": {
        "id": "7w_OO2cBhE26"
      },
      "outputs": [],
      "source": [
        "\n",
        "train_data_path = \"G:/PARAG_S/A1_part2/data/data/train.json\"\n",
        "test_data_path = \"G:/PARAG_S/A1_part2/data/data/test.json\"\n",
        "val_data_path = \"G:/PARAG_S/A1_part2/data/data/dev.json\"\n",
        "glove_path = \"G:/NLP_assignment_2/glove.6B.100d.txt\"\n"
      ]
    },
    {
      "cell_type": "markdown",
      "metadata": {
        "id": "LJqA4q0G7ec_"
      },
      "source": []
    },
    {
      "cell_type": "code",
      "execution_count": 3,
      "metadata": {
        "colab": {
          "base_uri": "https://localhost:8080/"
        },
        "id": "EJAZxsOcaYCm",
        "outputId": "1ee457c9-8978-4d70-bd8a-9372b98ca2a8"
      },
      "outputs": [
        {
          "name": "stderr",
          "output_type": "stream",
          "text": [
            "[nltk_data] Downloading package punkt to /root/nltk_data...\n",
            "[nltk_data]   Unzipping tokenizers/punkt.zip.\n"
          ]
        },
        {
          "data": {
            "text/plain": [
              "True"
            ]
          },
          "execution_count": 3,
          "metadata": {},
          "output_type": "execute_result"
        }
      ],
      "source": [
        "\n",
        "import nltk\n",
        "nltk.download('punkt')"
      ]
    },
    {
      "cell_type": "markdown",
      "metadata": {
        "id": "fvONi28z72sX"
      },
      "source": []
    },
    {
      "cell_type": "code",
      "execution_count": 2,
      "metadata": {
        "colab": {
          "base_uri": "https://localhost:8080/"
        },
        "id": "TjAvu1whuMRN",
        "outputId": "03350860-b9b6-46f6-ff6a-e5bda8e89d76"
      },
      "outputs": [
        {
          "name": "stdout",
          "output_type": "stream",
          "text": [
            "(8316, 100)\n"
          ]
        },
        {
          "name": "stderr",
          "output_type": "stream",
          "text": [
            "c:\\Users\\ANAND\\AppData\\Local\\Programs\\Python\\Python310\\lib\\site-packages\\torch\\nn\\modules\\rnn.py:82: UserWarning: dropout option adds dropout after all but last recurrent layer, so non-zero dropout expects num_layers greater than 1, but got dropout=0.5 and num_layers=1\n",
            "  warnings.warn(\"dropout option adds dropout after all but last \"\n",
            "c:\\Users\\ANAND\\AppData\\Local\\Programs\\Python\\Python310\\lib\\site-packages\\tqdm\\auto.py:21: TqdmWarning: IProgress not found. Please update jupyter and ipywidgets. See https://ipywidgets.readthedocs.io/en/stable/user_install.html\n",
            "  from .autonotebook import tqdm as notebook_tqdm\n"
          ]
        }
      ],
      "source": [
        "import nltk\n",
        "from nltk.tokenize import word_tokenize\n",
        "import json\n",
        "import torch\n",
        "# nltk.download('punkt')\n",
        "\n",
        "\n",
        "with open(train_data_path, 'r') as file:\n",
        "    data = json.load(file)\n",
        "\n",
        "\n",
        "with open(val_data_path, 'r') as file:\n",
        "    val_data = json.load(file)\n",
        "\n",
        "\n",
        "\n",
        "with open(test_data_path, 'r') as file:\n",
        "    test_data = json.load(file)\n",
        "\n",
        "for problem_data in data:\n",
        "    problem = problem_data[\"Problem\"]\n",
        "    linear_formula = problem_data[\"linear_formula\"]\n",
        "    answer = problem_data[\"answer\"]\n",
        "\n",
        "\n",
        "\n",
        "from nltk.tokenize import word_tokenize\n",
        "\n",
        "import re\n",
        "from nltk.tokenize import word_tokenize\n",
        "\n",
        "\n",
        "\n",
        "def tokenize_formula(formula):\n",
        "    # Split the formula by '|'\n",
        "    parts = formula.split('|')\n",
        "\n",
        "    # Tokenize each part\n",
        "    tokens = ['<sos>']\n",
        "    for part in parts:\n",
        "        if part: \n",
        "            open_parenthesis_index = part.find('(')\n",
        "            if open_parenthesis_index != -1:\n",
        "                function = part[:open_parenthesis_index]\n",
        "                arguments = part[open_parenthesis_index+1:-1] \n",
        "                arguments_tokens = arguments.split(',')\n",
        "                # print(arguments_tokens)\n",
        "                arguments_token_new=[]\n",
        "                for tok in arguments_tokens:\n",
        "                    arguments_token_new.append(tok)\n",
        "                    arguments_token_new.append(',')\n",
        "                    #split the arguments by comma\n",
        "                tokens.extend([function, '('] + arguments_token_new[:-1] + [')'])\n",
        "            else:\n",
        "                tokens.append(part)\n",
        "        if tokens[-1] != '|':\n",
        "            tokens.append('|')\n",
        "    tokens.append(\"<eos>\")\n",
        "\n",
        "    return tokens\n",
        "\n",
        "\n",
        "\n",
        "\n",
        "\n",
        "\n",
        "from collections import Counter\n",
        "from nltk.tokenize import word_tokenize\n",
        "\n",
        "def build_vocab(texts, is_formula=False):\n",
        "    counter = Counter()\n",
        "    for text in texts:\n",
        "        if is_formula:\n",
        "            tokens = tokenize_formula(text.lower())  \n",
        "        else:\n",
        "            tokens = word_tokenize(text.lower()) \n",
        "        counter.update(tokens)\n",
        "\n",
        "    # Start the vocab with special tokens\n",
        "    vocab = {\"<pad>\": 0, \"<unk>\": 1 , \"<sos>\":2, \"<eos>\":3 ,'<digit>':4}\n",
        "\n",
        "    # If it's a formula, include <sos> and <eos> tokens\n",
        "    # if is_formula:\n",
        "    #     vocab[\"<sos>\"] = len(vocab)\n",
        "    #     vocab[\"<eos>\"] = len(vocab)\n",
        "\n",
        "   \n",
        "    for word in counter:\n",
        "        if word.isdigit():\n",
        "          continue\n",
        "        if word not in vocab:\n",
        "            vocab[word] = len(vocab)\n",
        "\n",
        "    return vocab, counter\n",
        "\n",
        "\n",
        "# Separate problem texts and linear formulas\n",
        "import numpy as np\n",
        "problem_texts = [item[\"Problem\"].lower() for item in data]\n",
        "linear_formulas = [item[\"linear_formula\"].lower() for item in data]\n",
        "\n",
        "# Build vocabularies\n",
        "problem_vocab, _ = build_vocab(problem_texts)\n",
        "formula_vocab, _ = build_vocab(linear_formulas, is_formula=True)\n",
        "\n",
        "\n",
        "# # Adding special tokens\n",
        "# for vocab in (problem_vocab, formula_vocab):\n",
        "#     vocab[\"<pad>\"] = 0\n",
        "#     vocab[\"<unk>\"] = 1\n",
        "\n",
        "# problem_vocab['<eos>'] = len(problem_vocab)\n",
        "# formula_vocab = {key: value for key, value in formula_vocab.items() if not key.isdigit()}\n",
        "# problem_vocab = {key: value for key, value in problem_vocab.items() if not key.isdigit()}\n",
        "\n",
        "# def reindex_vocab(vocab):\n",
        "#     \"\"\"Reindex the vocabulary.\"\"\"\n",
        "#     new_vocab = {}\n",
        "#     new_index = 0\n",
        "#     for key in vocab.keys():\n",
        "#         new_vocab[key] = new_index\n",
        "#         new_index += 1\n",
        "#     return new_vocab\n",
        "\n",
        "# # Reindex vocabularies after filtering out digit keys\n",
        "# problem_vocab = reindex_vocab(problem_vocab)\n",
        "# formula_vocab = reindex_vocab(formula_vocab)\n",
        "\n",
        "#     tokens = word_tokenize(text.lower())\n",
        "#     return [vocab.get(token, vocab[\"<unk>\"]) for token in tokens]\n",
        "\n",
        "# tokenized_problems = [text_to_indices(problem, problem_vocab) for problem in problem_texts]\n",
        "# tokenized_formulas = [text_to_indices(formula, formula_vocab) for formula in linear_formulas]\n",
        "\n",
        "\n",
        "\n",
        "def load_glove_embeddings(glove_file):\n",
        "    embeddings = {}\n",
        "    with open(glove_file, 'r', encoding='utf8') as file:\n",
        "        for line in file:\n",
        "            values = line.split()\n",
        "            word = values[0]\n",
        "            vector = np.asarray(values[1:], dtype='float32')\n",
        "            embeddings[word] = vector\n",
        "    return embeddings\n",
        "\n",
        "# Load GloVe embeddings\n",
        "glove_path = glove_path # Update this path\n",
        "glove_embeddings = load_glove_embeddings(glove_path)\n",
        "\n",
        "embedding_dim = 100\n",
        "# embedding_matrix = np.zeros((len(problem_vocab)-1, embedding_dim))\n",
        "\n",
        "# for word, idx in problem_vocab.items():\n",
        "#     embedding_vector = glove_embeddings.get(word)\n",
        "#     if embedding_vector is not None:\n",
        "#         embedding_matrix[idx] = embedding_vector\n",
        "\n",
        "\n",
        "\n",
        "\n",
        "\n",
        "\n",
        "\n",
        "\n",
        "\n",
        "\n",
        "\n",
        "\n",
        "\n",
        "\n",
        "# def load_glove_embeddings(glove_file, word_to_index, embedding_dim=50):\n",
        "#     embeddings = {}\n",
        "#     with open(glove_file, 'r', encoding='utf8') as file:\n",
        "#         for line in file:\n",
        "#             parts = line.split()\n",
        "#             word = parts[0]\n",
        "#             vector = np.array(parts[1:], dtype=np.float32)\n",
        "#             embeddings[word] = vector\n",
        "\n",
        "#     # The +1 here ensures there is a row in the matrix for every index in word_to_index\n",
        "#     embedding_matrix = np.zeros((len(word_to_index)-1, embedding_dim))\n",
        "#     for word, index in word_to_index.items():\n",
        "#         if word in embeddings:\n",
        "#             embedding_matrix[index] = embeddings[word]\n",
        "#         else:\n",
        "#             # It's common to initialize embeddings for unknown words with zeros or small random numbers\n",
        "#             embedding_matrix[index] = np.random.normal(scale=0.6, size=(embedding_dim, ))\n",
        "\n",
        "#     return embedding_matrix\n",
        "\n",
        "\n",
        "# Adjust the path to your GloVe file and the embedding dimension you wish to use\n",
        "# glove_path = \"G:/NLP_assignment_2/glove.6B.100d.txt\"\n",
        "# embedding_matrix = load_glove_embeddings(glove_path, vocab, 50)\n",
        "\n",
        "embedding_dim = 100  # Assuming you're using GloVe 50-dimensional embeddings\n",
        "\n",
        "def create_embedding_matrix(vocab, embeddings, embedding_dim):\n",
        "    embedding_matrix = np.zeros((len(vocab), embedding_dim))\n",
        "    for word, idx in vocab.items():\n",
        "        if word in embeddings:\n",
        "            embedding_matrix[idx] = embeddings[word]\n",
        "        else:\n",
        "            embedding_matrix[idx] = np.random.rand(embedding_dim)  # Random embedding for unknown words\n",
        "    return embedding_matrix\n",
        "\n",
        "\n",
        "# Create embedding matrix for problem vocabulary\n",
        "problem_embedding_matrix = create_embedding_matrix(problem_vocab, glove_embeddings, embedding_dim)\n",
        "problem_embedding_matrix_tensor = torch.tensor(problem_embedding_matrix, dtype=torch.float)\n",
        "\n",
        "\n",
        "torch.save(problem_embedding_matrix_tensor, 'problem_embedding_matrix_lstm_lstm.pt')\n",
        "\n",
        "\n",
        "\n",
        "\n",
        "\n",
        "\n",
        "def text_to_indices(text, vocab):\n",
        "    tokens = ['<sos>'] + word_tokenize(text.lower()) + ['<eos>']   # Tokenize the text\n",
        "    indices = []\n",
        "    for token in tokens:\n",
        "        if token.isdigit():  # Check if the token is a digit\n",
        "            indices.append(vocab.get(\"<digit>\", vocab[\"<unk>\"]))  # Use <digit> token\n",
        "        else:\n",
        "            indices.append(vocab.get(token, vocab[\"<unk>\"]))  # Use the token itself\n",
        "    return indices\n",
        "def text_to_indices_formula(text, vocab):\n",
        "    return [vocab.get(token, vocab[\"<unk>\"]) for token in tokenize_formula(text.lower())]\n",
        "\n",
        "\n",
        "\n",
        "# Assuming `data` is your dataset containing problems and formulas\n",
        "tokenized_problems = [text_to_indices(item[\"Problem\"], problem_vocab) for item in data]\n",
        "tokenized_formulas = [text_to_indices_formula(item[\"linear_formula\"], formula_vocab) for item in data]\n",
        "\n",
        "#tokenizing validation data\n",
        "\n",
        "tokenized_val_problems = [text_to_indices(item[\"Problem\"], problem_vocab) for item in val_data]\n",
        "tokenized_val_formulas = [text_to_indices_formula(item[\"linear_formula\"], formula_vocab) for item in val_data]\n",
        "\n",
        "\n",
        "#tokenizing test data\n",
        "tokenized_test_problems = [text_to_indices(item[\"Problem\"], problem_vocab) for item in test_data]\n",
        "tokenized_test_formulas = [text_to_indices_formula(item[\"linear_formula\"], formula_vocab) for item in test_data]\n",
        "\n",
        "\n",
        "from torch.utils.data import Dataset, DataLoader\n",
        "import torch\n",
        "\n",
        "class MathProblemDataset(Dataset):\n",
        "    def __init__(self, problems, formulas):\n",
        "        self.problems = problems\n",
        "        self.formulas = formulas\n",
        "\n",
        "    def __len__(self):\n",
        "        return len(self.problems)\n",
        "\n",
        "    def __getitem__(self, idx):\n",
        "        problem = torch.tensor(self.problems[idx], dtype=torch.long)\n",
        "        formula = torch.tensor(self.formulas[idx], dtype=torch.long)\n",
        "        return {\"problem\": problem, \"formula\": formula}\n",
        "\n",
        "from torch.nn.utils.rnn import pad_sequence\n",
        "\n",
        "def collate_fn(batch):\n",
        "    problems = [item[\"problem\"] for item in batch]\n",
        "    formulas = [item[\"formula\"] for item in batch]\n",
        "\n",
        "    problems_padded = pad_sequence(problems, batch_first=True, padding_value=problem_vocab[\"<pad>\"])\n",
        "    formulas_padded = pad_sequence(formulas, batch_first=True, padding_value=formula_vocab[\"<pad>\"])\n",
        "\n",
        "    return {\"problem\": problems_padded, \"formula\": formulas_padded}\n",
        "\n",
        "# Initialize the dataset with tokenized and indexed problems and formulas\n",
        "dataset = MathProblemDataset(tokenized_problems, tokenized_formulas)\n",
        "\n",
        "val_dataset = MathProblemDataset(tokenized_val_problems, tokenized_val_formulas)\n",
        "\n",
        "test_dataset = MathProblemDataset(tokenized_test_problems, tokenized_test_formulas)\n",
        "\n",
        "\n",
        "# Create DataLoader\n",
        "data_loader = DataLoader(dataset, batch_size=64 ,shuffle=True, collate_fn=collate_fn)\n",
        "val_data_loader = DataLoader(val_dataset, batch_size=64, shuffle=True, collate_fn=collate_fn)\n",
        "test_data_loader = DataLoader(test_dataset, batch_size=64, shuffle=True, collate_fn=collate_fn)\n",
        "\n",
        "# embedding_matrix[0]\n",
        "import torch\n",
        "import torch.nn as nn\n",
        "import torch.optim as optim\n",
        "import random\n",
        "from tqdm import tqdm\n",
        "\n",
        "class Encoder(nn.Module):\n",
        "    def __init__(self, input_dim, emb_dim, enc_hid_dim, dec_hid_dim, dropout, embedding_matrix, n_layers=2):\n",
        "        super().__init__()\n",
        "        print(embedding_matrix.shape)\n",
        "        self.embedding = nn.Embedding.from_pretrained(torch.tensor(embedding_matrix, dtype=torch.float))\n",
        "        self.rnn = nn.LSTM(emb_dim, enc_hid_dim, num_layers=n_layers, bidirectional=True, dropout=dropout if n_layers > 1 else 0)\n",
        "        self.fc = nn.Linear(enc_hid_dim * 2, dec_hid_dim)\n",
        "        self.dropout = nn.Dropout(dropout)\n",
        "\n",
        "    def forward(self, src):\n",
        "        # print(\"******************encoder**********************\")\n",
        "        # src shape: [src_len, batch_size]\n",
        "        # print(f'inside encoder {src.shape}')\n",
        "        src = src.flip(dims=[0])\n",
        "\n",
        "        embedded = self.dropout(self.embedding(src))\n",
        "        # embedded shape: [src_len, batch_size, emb_dim]\n",
        "        # print(f'embedded shape {embedded.shape}')\n",
        "        # embedded_ = embedded.permute(1,0,2)\n",
        "        # print(f'embedded_shape {embedded_.shape}')\n",
        "\n",
        "        outputs, (hidden, cell) = self.rnn(embedded)\n",
        "        # outputs shape: [src_len, batch_size, enc_hid_dim * num_directions]\n",
        "        # hidden, cell shape: [num_layers * num_directions, batch_size, enc_hid_dim]\n",
        "        # print(f'encoder_hidden_shape {hidden.shape} | encoder_cell_shape {cell.shape} | outputs {outputs.shape}')\n",
        "\n",
        "        # Concatenate the hidden states from both directions\n",
        "        hidden = torch.cat((hidden[0], hidden[1]), dim=-1)\n",
        "        cell = torch.cat((cell[0], cell[1]), dim=-1)\n",
        "        # hidden = torch.tanh(self.fc(torch.cat((hidden[-2,:,:], hidden[-1,:,:]), dim=1)))\n",
        "        # cell = torch.tanh(self.fc(torch.cat((cell[-2,:,:], cell[-1,:,:]), dim=1)))\n",
        "        # print(f\"final_encoder_output_hidden {hidden.shape}\")\n",
        "        # print(f\"final_encoder_output_cell {cell.shape}\")\n",
        "        return outputs, hidden, cell\n",
        "\n",
        "class Decoder(nn.Module):\n",
        "    def __init__(self, output_dim, emb_dim, enc_hid_dim, dec_hid_dim, dropout, formula_vocab,n_layers=1):\n",
        "        super().__init__()\n",
        "\n",
        "        self.output_dim = output_dim\n",
        "\n",
        "        self.embedding = nn.Embedding(output_dim, emb_dim)\n",
        "        self.rnn = nn.LSTM(emb_dim, dec_hid_dim, num_layers=n_layers,bidirectional=False, dropout=dropout)\n",
        "        self.fc_out = nn.Linear(dec_hid_dim, output_dim)\n",
        "        self.dropout = nn.Dropout(dropout)\n",
        "\n",
        "        self.formula_vocab = formula_vocab\n",
        "\n",
        "    def forward(self, input, hidden, cell):\n",
        "        input = input.unsqueeze(0)\n",
        "        # print(f'decoder input {input.shape} | decoder_hidden {hidden.shape} | decoder_cell {cell.shape}')\n",
        "        embedded = self.dropout(self.embedding(input))\n",
        "        # print(f'dec_embedded {embedded.shape}')\n",
        "        output, (hidden, cell) = self.rnn(embedded, (hidden.unsqueeze(0), cell.unsqueeze(0)))\n",
        "        prediction = self.fc_out(output.squeeze(0))\n",
        "\n",
        "        return prediction, hidden.squeeze(0), cell.squeeze(0)\n",
        "\n",
        "\n",
        "class Seq2Seq(nn.Module):\n",
        "    def __init__(self, encoder, decoder, device):\n",
        "        super().__init__()\n",
        "\n",
        "        self.encoder = encoder\n",
        "        self.decoder = decoder\n",
        "        self.device = device\n",
        "\n",
        "    def forward(self, src, trg, teacher_forcing_ratio=0.6):\n",
        "        # src shape: [src_len, batch_size]\n",
        "        # trg shape: [trg_len, batch_size]\n",
        "        # print(f'target len {trg_}')\n",
        "        src_ = src.permute(1,0)\n",
        "        trg_ = trg.permute(1,0)\n",
        "        # print(f'src {src.shape} | src_ {src_.shape}')\n",
        "        # print(f'trg {trg.shape} | trg_ {trg_.shape}')\n",
        "        batch_size = trg_.shape[1]\n",
        "        trg_len = trg_.shape[0]\n",
        "        # print(f'trg len {trg_len}')\n",
        "        # print(f'target {trg_} | trg shape {trg_.shape}')\n",
        "\n",
        "        # print(f'batch_size {batch_size} | trg_len {trg_len}')\n",
        "        trg_vocab_size = self.decoder.output_dim\n",
        "        # print(f'target_vocab_size {trg_vocab_size}')\n",
        "        # Tensor to store decoder outputs\n",
        "        outputs = torch.zeros(trg_len-1, batch_size, trg_vocab_size).to(self.device)\n",
        "        # print(f'outputs {outputs.shape}')\n",
        "        # Encoder outputs\n",
        "        encoder_outputs, hidden, cell = self.encoder(src_)\n",
        "        # print(f'hidden {hidden.shape} | cell {cell.shape}')\n",
        "\n",
        "        # First input to the decoder is the <sos> tokens\n",
        "        # print(f'trg  {trg}' )\n",
        "        input = trg_[0,:]\n",
        "        # print(f'first input {input}')\n",
        "\n",
        "        for t in range(0, trg_len-1):\n",
        "            # print(f'input inside loop {input}')\n",
        "            output, hidden, cell = self.decoder(input, hidden, cell)\n",
        "            # print(f'output_dec {output.shape} | hidden_dec {hidden.shape} | cell_dec {cell.shape}')\n",
        "            outputs[t] = output\n",
        "            # print(f'Outputs: {output}')\n",
        "            # Decide if we will use teacher forcing or not\n",
        "            teacher_force = random.random() < teacher_forcing_ratio\n",
        "            # Get the highest predicted token from our predictions\n",
        "            top1 = output.argmax(1)\n",
        "            # print(f'Top1:{top1}')\n",
        "\n",
        "\n",
        "            # If teacher forcing, use actual next token as next input. If not, use predicted token\n",
        "            input = trg_[t+1, :] if teacher_force else top1\n",
        "            # print(f't is: {t}')\n",
        "        return outputs\n",
        "\n",
        "\n",
        "import torch.optim as optim\n",
        "import random\n",
        "import os\n",
        "# os.environ['CUDA_LAUNCH_BLOCKING'] = \"1\"\n",
        "\n",
        "aries\n",
        "# Instantiate the model components\n",
        "ENC_EMB_DIM = 100  # Embedding dimension for encoder\n",
        "DEC_EMB_DIM = 100  # Embedding dimension for decoder\n",
        "ENC_HID_DIM = 512  # Hidden dimension for encoder\n",
        "DEC_HID_DIM = 1024  # Hidden dimension for decoder \n",
        "ENC_DROPOUT = 0.5  # Dropout rate for encoder\n",
        "DEC_DROPOUT = 0.5  # Dropout rate for decoder\n",
        "OUTPUT_DIM = len(formula_vocab)  # Output dimension is the size of formula vocabulary\n",
        "\n",
        "# Instantiate the model components\n",
        "encoder = Encoder(len(problem_vocab), ENC_EMB_DIM, ENC_HID_DIM, DEC_HID_DIM, ENC_DROPOUT, problem_embedding_matrix)\n",
        "decoder = Decoder(len(formula_vocab), DEC_EMB_DIM, ENC_HID_DIM, DEC_HID_DIM, DEC_DROPOUT, formula_vocab)\n",
        "\n",
        "# Device setup\n",
        "device = torch.device('cuda' if torch.cuda.is_available() else 'cpu')\n",
        "\n",
        "# Seq2Seq model\n",
        "model = Seq2Seq(encoder, decoder, device).to(device)\n",
        "\n",
        "\n",
        "# Optimizer\n",
        "# optimizer = optim.Adam(model.parameters(),lr = 0.001)\n",
        "learning_rate=0.001\n",
        "optimizer = optim.Adam(model.parameters(), lr=learning_rate, weight_decay=1e-5)  # Add L2 regularization\n",
        "\n",
        "\n",
        "PAD_IDX = formula_vocab[\"<pad>\"]\n",
        "criterion = nn.CrossEntropyLoss(ignore_index=PAD_IDX)\n",
        "\n",
        "\n",
        "def train(model, iterator, optimizer, criterion, clip):\n",
        "    model.train()\n",
        "    epoch_loss = 0\n",
        "\n",
        "    for i, batch in enumerate(tqdm(iterator)):\n",
        "        src = batch['problem'].to(device)\n",
        "        trg = batch['formula'].to(device)\n",
        "        # trg_input=trg[:,:-1]\n",
        "        # print(trg_input)\n",
        "        trg_out = trg[:, 1:]\n",
        "        # print(f'trg_out {trg_out}')\n",
        "        # print(f'src shape {src.shape} | trg shape {trg.shape}')\n",
        "        optimizer.zero_grad()\n",
        "        output = model(src, trg)\n",
        "        output=output.permute(1,2,0)\n",
        "        # print(f'output before {output.shape}')\n",
        "        output_dim = output.shape[-1]  # Get the number of output dimensions (vocab size)\n",
        "        # output = output[1:].view(-1, output_dim)  # Skip <sos> predictions and flatten output for loss calculation\n",
        "        # print(f'output after {output.shape}')\n",
        "\n",
        "        # Prepare target tensor by removing <sos> token and flattening\n",
        "        # trg_dash = trg[:, 1:].reshape(-1)\n",
        "        # print(f'trg {trg_dash} : {trg_dash.shape}')\n",
        "\n",
        "        # Calculate loss\n",
        "        loss = criterion(output, trg_out)\n",
        "\n",
        "\n",
        "\n",
        "\n",
        "        # print(f'printing before loss : output{output.shape} | target {trg_out.shape}')\n",
        "        loss = criterion(output, trg_out)\n",
        "\n",
        "        loss.backward()\n",
        "\n",
        "        # Clip the gradients to prevent them from exploding (a common issue in RNNs)\n",
        "        torch.nn.utils.clip_grad_norm_(model.parameters(), clip)\n",
        "\n",
        "        optimizer.step()\n",
        "\n",
        "        epoch_loss += loss.item()\n",
        "\n",
        "    return epoch_loss / len(iterator)\n",
        "\n",
        "def evaluate(model, iterator, criterion):\n",
        "    model.eval()\n",
        "    epoch_loss = 0\n",
        "    with torch.no_grad():\n",
        "        for i, batch in enumerate(iterator):\n",
        "            src = batch['problem'].to(device)\n",
        "            trg = batch['formula'].to(device)\n",
        "            trg_new = trg[:, 1:] \n",
        "\n",
        "            output = model(src, trg, 0)  # Turn off teacher forcing\n",
        "            # print(f'output shape {output.shape}')\n",
        "            # print(output)\n",
        "            output_dim = output.shape[-1]\n",
        "            output = output.permute(1, 2, 0)  \n",
        "\n",
        "            loss = criterion(output, trg_new)\n",
        "            epoch_loss += loss.item()\n",
        "\n",
        "    return epoch_loss / len(iterator)"
      ]
    },
    {
      "cell_type": "code",
      "execution_count": null,
      "metadata": {},
      "outputs": [],
      "source": []
    },
    {
      "cell_type": "code",
      "execution_count": 4,
      "metadata": {},
      "outputs": [],
      "source": [
        "with open(\"lstm_problem_vocab.json\", \"w\") as json_file:\n",
        "    json.dump(problem_vocab, json_file, indent=4)\n",
        "    \n",
        "with open(\"lstm_formula_vocab.json\", \"w\") as json_file:\n",
        "    json.dump(formula_vocab, json_file, indent=4)"
      ]
    },
    {
      "cell_type": "code",
      "execution_count": 5,
      "metadata": {},
      "outputs": [],
      "source": [
        "embedding_matrix_list = problem_embedding_matrix.tolist()\n",
        "with open(\"embedding_matrix.json\", \"w\") as json_file:\n",
        "    json.dump(embedding_matrix_list, json_file, indent=4)"
      ]
    },
    {
      "cell_type": "code",
      "execution_count": 8,
      "metadata": {
        "colab": {
          "base_uri": "https://localhost:8080/",
          "height": 1000
        },
        "id": "lHX2xiH5SyZG",
        "outputId": "cc4a6462-6488-49ef-d931-bf4e80a20c65"
      },
      "outputs": [
        {
          "name": "stderr",
          "output_type": "stream",
          "text": [
            "100%|██████████| 310/310 [00:45<00:00,  6.85it/s]\n"
          ]
        },
        {
          "name": "stdout",
          "output_type": "stream",
          "text": [
            "Epoch: 01 | Train Loss: 0.871 | Val Loss : 1.361\n"
          ]
        },
        {
          "name": "stderr",
          "output_type": "stream",
          "text": [
            "100%|██████████| 310/310 [00:46<00:00,  6.72it/s]\n"
          ]
        },
        {
          "name": "stdout",
          "output_type": "stream",
          "text": [
            "Epoch: 02 | Train Loss: 0.828 | Val Loss : 1.293\n"
          ]
        },
        {
          "name": "stderr",
          "output_type": "stream",
          "text": [
            "100%|██████████| 310/310 [00:47<00:00,  6.57it/s]\n"
          ]
        },
        {
          "name": "stdout",
          "output_type": "stream",
          "text": [
            "Epoch: 03 | Train Loss: 0.787 | Val Loss : 1.282\n"
          ]
        },
        {
          "name": "stderr",
          "output_type": "stream",
          "text": [
            "100%|██████████| 310/310 [00:46<00:00,  6.60it/s]\n"
          ]
        },
        {
          "name": "stdout",
          "output_type": "stream",
          "text": [
            "Epoch: 04 | Train Loss: 0.763 | Val Loss : 1.273\n"
          ]
        },
        {
          "name": "stderr",
          "output_type": "stream",
          "text": [
            "100%|██████████| 310/310 [00:47<00:00,  6.60it/s]\n"
          ]
        },
        {
          "name": "stdout",
          "output_type": "stream",
          "text": [
            "Epoch: 05 | Train Loss: 0.736 | Val Loss : 1.274\n"
          ]
        },
        {
          "name": "stderr",
          "output_type": "stream",
          "text": [
            "100%|██████████| 310/310 [00:47<00:00,  6.59it/s]\n"
          ]
        },
        {
          "name": "stdout",
          "output_type": "stream",
          "text": [
            "Epoch: 06 | Train Loss: 0.712 | Val Loss : 1.338\n"
          ]
        },
        {
          "name": "stderr",
          "output_type": "stream",
          "text": [
            "100%|██████████| 310/310 [00:46<00:00,  6.67it/s]\n"
          ]
        },
        {
          "name": "stdout",
          "output_type": "stream",
          "text": [
            "Epoch: 07 | Train Loss: 0.695 | Val Loss : 1.305\n"
          ]
        },
        {
          "name": "stderr",
          "output_type": "stream",
          "text": [
            "100%|██████████| 310/310 [00:46<00:00,  6.72it/s]\n"
          ]
        },
        {
          "name": "stdout",
          "output_type": "stream",
          "text": [
            "Epoch: 08 | Train Loss: 0.671 | Val Loss : 1.331\n"
          ]
        },
        {
          "name": "stderr",
          "output_type": "stream",
          "text": [
            "100%|██████████| 310/310 [00:46<00:00,  6.66it/s]\n"
          ]
        },
        {
          "name": "stdout",
          "output_type": "stream",
          "text": [
            "Epoch: 09 | Train Loss: 0.644 | Val Loss : 1.309\n"
          ]
        },
        {
          "name": "stderr",
          "output_type": "stream",
          "text": [
            "100%|██████████| 310/310 [00:46<00:00,  6.64it/s]\n"
          ]
        },
        {
          "name": "stdout",
          "output_type": "stream",
          "text": [
            "Epoch: 10 | Train Loss: 0.623 | Val Loss : 1.225\n"
          ]
        },
        {
          "name": "stderr",
          "output_type": "stream",
          "text": [
            "100%|██████████| 310/310 [00:46<00:00,  6.62it/s]\n"
          ]
        },
        {
          "name": "stdout",
          "output_type": "stream",
          "text": [
            "Epoch: 11 | Train Loss: 0.598 | Val Loss : 1.252\n"
          ]
        },
        {
          "name": "stderr",
          "output_type": "stream",
          "text": [
            "100%|██████████| 310/310 [00:46<00:00,  6.71it/s]\n"
          ]
        },
        {
          "name": "stdout",
          "output_type": "stream",
          "text": [
            "Epoch: 12 | Train Loss: 0.571 | Val Loss : 1.206\n"
          ]
        },
        {
          "name": "stderr",
          "output_type": "stream",
          "text": [
            "100%|██████████| 310/310 [00:46<00:00,  6.68it/s]\n"
          ]
        },
        {
          "name": "stdout",
          "output_type": "stream",
          "text": [
            "Epoch: 13 | Train Loss: 0.545 | Val Loss : 1.240\n"
          ]
        },
        {
          "name": "stderr",
          "output_type": "stream",
          "text": [
            "100%|██████████| 310/310 [00:46<00:00,  6.71it/s]\n"
          ]
        },
        {
          "name": "stdout",
          "output_type": "stream",
          "text": [
            "Epoch: 14 | Train Loss: 0.514 | Val Loss : 1.173\n"
          ]
        },
        {
          "name": "stderr",
          "output_type": "stream",
          "text": [
            "100%|██████████| 310/310 [00:46<00:00,  6.71it/s]\n"
          ]
        },
        {
          "name": "stdout",
          "output_type": "stream",
          "text": [
            "Epoch: 15 | Train Loss: 0.490 | Val Loss : 1.195\n"
          ]
        },
        {
          "name": "stderr",
          "output_type": "stream",
          "text": [
            "100%|██████████| 310/310 [00:46<00:00,  6.68it/s]\n"
          ]
        },
        {
          "name": "stdout",
          "output_type": "stream",
          "text": [
            "Epoch: 16 | Train Loss: 0.466 | Val Loss : 1.161\n"
          ]
        },
        {
          "name": "stderr",
          "output_type": "stream",
          "text": [
            "100%|██████████| 310/310 [00:47<00:00,  6.59it/s]\n"
          ]
        },
        {
          "name": "stdout",
          "output_type": "stream",
          "text": [
            "Epoch: 17 | Train Loss: 0.456 | Val Loss : 1.134\n"
          ]
        },
        {
          "name": "stderr",
          "output_type": "stream",
          "text": [
            "100%|██████████| 310/310 [00:46<00:00,  6.65it/s]\n"
          ]
        },
        {
          "name": "stdout",
          "output_type": "stream",
          "text": [
            "Epoch: 18 | Train Loss: 0.419 | Val Loss : 1.117\n"
          ]
        },
        {
          "name": "stderr",
          "output_type": "stream",
          "text": [
            "100%|██████████| 310/310 [00:45<00:00,  6.78it/s]\n"
          ]
        },
        {
          "name": "stdout",
          "output_type": "stream",
          "text": [
            "Epoch: 19 | Train Loss: 0.393 | Val Loss : 1.038\n"
          ]
        },
        {
          "name": "stderr",
          "output_type": "stream",
          "text": [
            "100%|██████████| 310/310 [00:45<00:00,  6.75it/s]\n"
          ]
        },
        {
          "name": "stdout",
          "output_type": "stream",
          "text": [
            "Epoch: 20 | Train Loss: 0.376 | Val Loss : 1.033\n"
          ]
        },
        {
          "name": "stderr",
          "output_type": "stream",
          "text": [
            "100%|██████████| 310/310 [00:45<00:00,  6.76it/s]\n"
          ]
        },
        {
          "name": "stdout",
          "output_type": "stream",
          "text": [
            "Epoch: 21 | Train Loss: 0.351 | Val Loss : 0.967\n"
          ]
        },
        {
          "name": "stderr",
          "output_type": "stream",
          "text": [
            "100%|██████████| 310/310 [00:46<00:00,  6.62it/s]\n"
          ]
        },
        {
          "name": "stdout",
          "output_type": "stream",
          "text": [
            "Epoch: 22 | Train Loss: 0.343 | Val Loss : 0.991\n"
          ]
        },
        {
          "name": "stderr",
          "output_type": "stream",
          "text": [
            "100%|██████████| 310/310 [00:47<00:00,  6.51it/s]\n"
          ]
        },
        {
          "name": "stdout",
          "output_type": "stream",
          "text": [
            "Epoch: 23 | Train Loss: 0.320 | Val Loss : 0.909\n"
          ]
        },
        {
          "name": "stderr",
          "output_type": "stream",
          "text": [
            "100%|██████████| 310/310 [00:47<00:00,  6.59it/s]\n"
          ]
        },
        {
          "name": "stdout",
          "output_type": "stream",
          "text": [
            "Epoch: 24 | Train Loss: 0.308 | Val Loss : 0.890\n"
          ]
        },
        {
          "name": "stderr",
          "output_type": "stream",
          "text": [
            "100%|██████████| 310/310 [00:46<00:00,  6.60it/s]\n"
          ]
        },
        {
          "name": "stdout",
          "output_type": "stream",
          "text": [
            "Epoch: 25 | Train Loss: 0.293 | Val Loss : 0.886\n"
          ]
        },
        {
          "name": "stderr",
          "output_type": "stream",
          "text": [
            "100%|██████████| 310/310 [00:47<00:00,  6.58it/s]\n"
          ]
        },
        {
          "name": "stdout",
          "output_type": "stream",
          "text": [
            "Epoch: 26 | Train Loss: 0.274 | Val Loss : 0.865\n"
          ]
        },
        {
          "name": "stderr",
          "output_type": "stream",
          "text": [
            "100%|██████████| 310/310 [00:46<00:00,  6.66it/s]\n"
          ]
        },
        {
          "name": "stdout",
          "output_type": "stream",
          "text": [
            "Epoch: 27 | Train Loss: 0.272 | Val Loss : 0.791\n"
          ]
        },
        {
          "name": "stderr",
          "output_type": "stream",
          "text": [
            "100%|██████████| 310/310 [00:46<00:00,  6.68it/s]\n"
          ]
        },
        {
          "name": "stdout",
          "output_type": "stream",
          "text": [
            "Epoch: 28 | Train Loss: 0.261 | Val Loss : 0.841\n"
          ]
        },
        {
          "name": "stderr",
          "output_type": "stream",
          "text": [
            "100%|██████████| 310/310 [00:47<00:00,  6.52it/s]\n"
          ]
        },
        {
          "name": "stdout",
          "output_type": "stream",
          "text": [
            "Epoch: 29 | Train Loss: 0.252 | Val Loss : 0.803\n"
          ]
        },
        {
          "name": "stderr",
          "output_type": "stream",
          "text": [
            "100%|██████████| 310/310 [00:48<00:00,  6.42it/s]\n"
          ]
        },
        {
          "name": "stdout",
          "output_type": "stream",
          "text": [
            "Epoch: 30 | Train Loss: 0.238 | Val Loss : 0.769\n"
          ]
        },
        {
          "name": "stderr",
          "output_type": "stream",
          "text": [
            "100%|██████████| 310/310 [00:47<00:00,  6.52it/s]\n"
          ]
        },
        {
          "name": "stdout",
          "output_type": "stream",
          "text": [
            "Epoch: 31 | Train Loss: 0.228 | Val Loss : 0.808\n"
          ]
        },
        {
          "name": "stderr",
          "output_type": "stream",
          "text": [
            "100%|██████████| 310/310 [00:47<00:00,  6.51it/s]\n"
          ]
        },
        {
          "name": "stdout",
          "output_type": "stream",
          "text": [
            "Epoch: 32 | Train Loss: 0.223 | Val Loss : 0.760\n"
          ]
        },
        {
          "name": "stderr",
          "output_type": "stream",
          "text": [
            "100%|██████████| 310/310 [00:47<00:00,  6.54it/s]\n"
          ]
        },
        {
          "name": "stdout",
          "output_type": "stream",
          "text": [
            "Epoch: 33 | Train Loss: 0.220 | Val Loss : 0.756\n"
          ]
        },
        {
          "name": "stderr",
          "output_type": "stream",
          "text": [
            "100%|██████████| 310/310 [00:47<00:00,  6.54it/s]\n"
          ]
        },
        {
          "name": "stdout",
          "output_type": "stream",
          "text": [
            "Epoch: 34 | Train Loss: 0.208 | Val Loss : 0.723\n"
          ]
        },
        {
          "name": "stderr",
          "output_type": "stream",
          "text": [
            "100%|██████████| 310/310 [00:47<00:00,  6.59it/s]\n"
          ]
        },
        {
          "name": "stdout",
          "output_type": "stream",
          "text": [
            "Epoch: 35 | Train Loss: 0.203 | Val Loss : 0.753\n"
          ]
        },
        {
          "name": "stderr",
          "output_type": "stream",
          "text": [
            "100%|██████████| 310/310 [00:46<00:00,  6.65it/s]\n"
          ]
        },
        {
          "name": "stdout",
          "output_type": "stream",
          "text": [
            "Epoch: 36 | Train Loss: 0.201 | Val Loss : 0.689\n"
          ]
        },
        {
          "name": "stderr",
          "output_type": "stream",
          "text": [
            "100%|██████████| 310/310 [00:46<00:00,  6.62it/s]\n"
          ]
        },
        {
          "name": "stdout",
          "output_type": "stream",
          "text": [
            "Epoch: 37 | Train Loss: 0.187 | Val Loss : 0.734\n"
          ]
        },
        {
          "name": "stderr",
          "output_type": "stream",
          "text": [
            "100%|██████████| 310/310 [00:47<00:00,  6.55it/s]\n"
          ]
        },
        {
          "name": "stdout",
          "output_type": "stream",
          "text": [
            "Epoch: 38 | Train Loss: 0.185 | Val Loss : 0.727\n"
          ]
        },
        {
          "name": "stderr",
          "output_type": "stream",
          "text": [
            "100%|██████████| 310/310 [00:46<00:00,  6.61it/s]\n"
          ]
        },
        {
          "name": "stdout",
          "output_type": "stream",
          "text": [
            "Epoch: 39 | Train Loss: 0.182 | Val Loss : 0.730\n"
          ]
        },
        {
          "name": "stderr",
          "output_type": "stream",
          "text": [
            "100%|██████████| 310/310 [00:47<00:00,  6.55it/s]\n"
          ]
        },
        {
          "name": "stdout",
          "output_type": "stream",
          "text": [
            "Epoch: 40 | Train Loss: 0.177 | Val Loss : 0.680\n"
          ]
        },
        {
          "name": "stderr",
          "output_type": "stream",
          "text": [
            "100%|██████████| 310/310 [00:46<00:00,  6.60it/s]\n"
          ]
        },
        {
          "name": "stdout",
          "output_type": "stream",
          "text": [
            "Epoch: 41 | Train Loss: 0.175 | Val Loss : 0.714\n"
          ]
        },
        {
          "name": "stderr",
          "output_type": "stream",
          "text": [
            "100%|██████████| 310/310 [00:46<00:00,  6.69it/s]\n"
          ]
        },
        {
          "name": "stdout",
          "output_type": "stream",
          "text": [
            "Epoch: 42 | Train Loss: 0.167 | Val Loss : 0.729\n"
          ]
        },
        {
          "name": "stderr",
          "output_type": "stream",
          "text": [
            "100%|██████████| 310/310 [00:45<00:00,  6.75it/s]\n"
          ]
        },
        {
          "name": "stdout",
          "output_type": "stream",
          "text": [
            "Epoch: 43 | Train Loss: 0.168 | Val Loss : 0.702\n"
          ]
        },
        {
          "name": "stderr",
          "output_type": "stream",
          "text": [
            "100%|██████████| 310/310 [00:46<00:00,  6.64it/s]\n"
          ]
        },
        {
          "name": "stdout",
          "output_type": "stream",
          "text": [
            "Epoch: 44 | Train Loss: 0.157 | Val Loss : 0.681\n"
          ]
        },
        {
          "name": "stderr",
          "output_type": "stream",
          "text": [
            "100%|██████████| 310/310 [00:47<00:00,  6.58it/s]\n"
          ]
        },
        {
          "name": "stdout",
          "output_type": "stream",
          "text": [
            "Epoch: 45 | Train Loss: 0.154 | Val Loss : 0.686\n"
          ]
        },
        {
          "name": "stderr",
          "output_type": "stream",
          "text": [
            "100%|██████████| 310/310 [00:47<00:00,  6.59it/s]\n"
          ]
        },
        {
          "name": "stdout",
          "output_type": "stream",
          "text": [
            "Epoch: 46 | Train Loss: 0.147 | Val Loss : 0.688\n"
          ]
        },
        {
          "name": "stderr",
          "output_type": "stream",
          "text": [
            "100%|██████████| 310/310 [00:46<00:00,  6.62it/s]\n"
          ]
        },
        {
          "name": "stdout",
          "output_type": "stream",
          "text": [
            "Epoch: 47 | Train Loss: 0.146 | Val Loss : 0.691\n"
          ]
        },
        {
          "name": "stderr",
          "output_type": "stream",
          "text": [
            "100%|██████████| 310/310 [00:47<00:00,  6.57it/s]\n"
          ]
        },
        {
          "name": "stdout",
          "output_type": "stream",
          "text": [
            "Epoch: 48 | Train Loss: 0.141 | Val Loss : 0.683\n"
          ]
        },
        {
          "name": "stderr",
          "output_type": "stream",
          "text": [
            "100%|██████████| 310/310 [00:47<00:00,  6.55it/s]\n"
          ]
        },
        {
          "name": "stdout",
          "output_type": "stream",
          "text": [
            "Epoch: 49 | Train Loss: 0.144 | Val Loss : 0.717\n"
          ]
        },
        {
          "name": "stderr",
          "output_type": "stream",
          "text": [
            "100%|██████████| 310/310 [00:47<00:00,  6.56it/s]\n"
          ]
        },
        {
          "name": "stdout",
          "output_type": "stream",
          "text": [
            "Epoch: 50 | Train Loss: 0.135 | Val Loss : 0.732\n"
          ]
        },
        {
          "name": "stderr",
          "output_type": "stream",
          "text": [
            "100%|██████████| 310/310 [00:47<00:00,  6.48it/s]\n"
          ]
        },
        {
          "name": "stdout",
          "output_type": "stream",
          "text": [
            "Epoch: 51 | Train Loss: 0.135 | Val Loss : 0.697\n"
          ]
        },
        {
          "name": "stderr",
          "output_type": "stream",
          "text": [
            "100%|██████████| 310/310 [00:48<00:00,  6.41it/s]\n"
          ]
        },
        {
          "name": "stdout",
          "output_type": "stream",
          "text": [
            "Epoch: 52 | Train Loss: 0.131 | Val Loss : 0.677\n"
          ]
        },
        {
          "name": "stderr",
          "output_type": "stream",
          "text": [
            "100%|██████████| 310/310 [00:48<00:00,  6.41it/s]\n"
          ]
        },
        {
          "name": "stdout",
          "output_type": "stream",
          "text": [
            "Epoch: 53 | Train Loss: 0.124 | Val Loss : 0.676\n"
          ]
        },
        {
          "name": "stderr",
          "output_type": "stream",
          "text": [
            "100%|██████████| 310/310 [00:48<00:00,  6.39it/s]\n"
          ]
        },
        {
          "name": "stdout",
          "output_type": "stream",
          "text": [
            "Epoch: 54 | Train Loss: 0.124 | Val Loss : 0.680\n"
          ]
        },
        {
          "name": "stderr",
          "output_type": "stream",
          "text": [
            "100%|██████████| 310/310 [00:48<00:00,  6.42it/s]\n"
          ]
        },
        {
          "name": "stdout",
          "output_type": "stream",
          "text": [
            "Epoch: 55 | Train Loss: 0.122 | Val Loss : 0.673\n"
          ]
        },
        {
          "name": "stderr",
          "output_type": "stream",
          "text": [
            "100%|██████████| 310/310 [00:48<00:00,  6.44it/s]\n"
          ]
        },
        {
          "name": "stdout",
          "output_type": "stream",
          "text": [
            "Epoch: 56 | Train Loss: 0.123 | Val Loss : 0.621\n"
          ]
        },
        {
          "name": "stderr",
          "output_type": "stream",
          "text": [
            "100%|██████████| 310/310 [00:48<00:00,  6.41it/s]\n"
          ]
        },
        {
          "name": "stdout",
          "output_type": "stream",
          "text": [
            "Epoch: 57 | Train Loss: 0.118 | Val Loss : 0.677\n"
          ]
        },
        {
          "name": "stderr",
          "output_type": "stream",
          "text": [
            "100%|██████████| 310/310 [00:48<00:00,  6.40it/s]\n"
          ]
        },
        {
          "name": "stdout",
          "output_type": "stream",
          "text": [
            "Epoch: 58 | Train Loss: 0.117 | Val Loss : 0.660\n"
          ]
        },
        {
          "name": "stderr",
          "output_type": "stream",
          "text": [
            "100%|██████████| 310/310 [00:47<00:00,  6.47it/s]\n"
          ]
        },
        {
          "name": "stdout",
          "output_type": "stream",
          "text": [
            "Epoch: 59 | Train Loss: 0.109 | Val Loss : 0.681\n"
          ]
        },
        {
          "name": "stderr",
          "output_type": "stream",
          "text": [
            "100%|██████████| 310/310 [00:47<00:00,  6.49it/s]\n"
          ]
        },
        {
          "name": "stdout",
          "output_type": "stream",
          "text": [
            "Epoch: 60 | Train Loss: 0.107 | Val Loss : 0.718\n"
          ]
        },
        {
          "name": "stderr",
          "output_type": "stream",
          "text": [
            "100%|██████████| 310/310 [00:47<00:00,  6.55it/s]\n"
          ]
        },
        {
          "name": "stdout",
          "output_type": "stream",
          "text": [
            "Epoch: 61 | Train Loss: 0.116 | Val Loss : 0.690\n"
          ]
        },
        {
          "name": "stderr",
          "output_type": "stream",
          "text": [
            "100%|██████████| 310/310 [00:47<00:00,  6.53it/s]\n"
          ]
        },
        {
          "name": "stdout",
          "output_type": "stream",
          "text": [
            "Epoch: 62 | Train Loss: 0.105 | Val Loss : 0.715\n"
          ]
        },
        {
          "name": "stderr",
          "output_type": "stream",
          "text": [
            "100%|██████████| 310/310 [00:47<00:00,  6.48it/s]\n"
          ]
        },
        {
          "name": "stdout",
          "output_type": "stream",
          "text": [
            "Epoch: 63 | Train Loss: 0.105 | Val Loss : 0.698\n"
          ]
        },
        {
          "name": "stderr",
          "output_type": "stream",
          "text": [
            " 86%|████████▌ | 266/310 [00:40<00:06,  6.52it/s]\n"
          ]
        },
        {
          "ename": "KeyboardInterrupt",
          "evalue": "",
          "output_type": "error",
          "traceback": [
            "\u001b[0;31m---------------------------------------------------------------------------\u001b[0m",
            "\u001b[0;31mKeyboardInterrupt\u001b[0m                         Traceback (most recent call last)",
            "\u001b[0;32m<ipython-input-8-c7357722025e>\u001b[0m in \u001b[0;36m<cell line: 20>\u001b[0;34m()\u001b[0m\n\u001b[1;32m     19\u001b[0m \u001b[0;34m\u001b[0m\u001b[0m\n\u001b[1;32m     20\u001b[0m \u001b[0;32mfor\u001b[0m \u001b[0mepoch\u001b[0m \u001b[0;32min\u001b[0m \u001b[0mrange\u001b[0m\u001b[0;34m(\u001b[0m\u001b[0mN_EPOCHS\u001b[0m\u001b[0;34m)\u001b[0m\u001b[0;34m:\u001b[0m\u001b[0;34m\u001b[0m\u001b[0;34m\u001b[0m\u001b[0m\n\u001b[0;32m---> 21\u001b[0;31m     \u001b[0mtrain_loss\u001b[0m \u001b[0;34m=\u001b[0m \u001b[0mtrain\u001b[0m\u001b[0;34m(\u001b[0m\u001b[0mmodel\u001b[0m\u001b[0;34m,\u001b[0m \u001b[0mdata_loader\u001b[0m\u001b[0;34m,\u001b[0m \u001b[0moptimizer\u001b[0m\u001b[0;34m,\u001b[0m \u001b[0mcriterion\u001b[0m\u001b[0;34m,\u001b[0m \u001b[0mCLIP\u001b[0m\u001b[0;34m)\u001b[0m\u001b[0;34m\u001b[0m\u001b[0;34m\u001b[0m\u001b[0m\n\u001b[0m\u001b[1;32m     22\u001b[0m     \u001b[0mvalid_loss\u001b[0m \u001b[0;34m=\u001b[0m \u001b[0mevaluate\u001b[0m\u001b[0;34m(\u001b[0m\u001b[0mmodel\u001b[0m\u001b[0;34m,\u001b[0m \u001b[0mval_data_loader\u001b[0m\u001b[0;34m,\u001b[0m \u001b[0mcriterion\u001b[0m\u001b[0;34m)\u001b[0m\u001b[0;34m\u001b[0m\u001b[0;34m\u001b[0m\u001b[0m\n\u001b[1;32m     23\u001b[0m \u001b[0;34m\u001b[0m\u001b[0m\n",
            "\u001b[0;32m<ipython-input-6-c28b5bbf5afa>\u001b[0m in \u001b[0;36mtrain\u001b[0;34m(model, iterator, optimizer, criterion, clip)\u001b[0m\n\u001b[1;32m    491\u001b[0m         \u001b[0moptimizer\u001b[0m\u001b[0;34m.\u001b[0m\u001b[0mstep\u001b[0m\u001b[0;34m(\u001b[0m\u001b[0;34m)\u001b[0m\u001b[0;34m\u001b[0m\u001b[0;34m\u001b[0m\u001b[0m\n\u001b[1;32m    492\u001b[0m \u001b[0;34m\u001b[0m\u001b[0m\n\u001b[0;32m--> 493\u001b[0;31m         \u001b[0mepoch_loss\u001b[0m \u001b[0;34m+=\u001b[0m \u001b[0mloss\u001b[0m\u001b[0;34m.\u001b[0m\u001b[0mitem\u001b[0m\u001b[0;34m(\u001b[0m\u001b[0;34m)\u001b[0m\u001b[0;34m\u001b[0m\u001b[0;34m\u001b[0m\u001b[0m\n\u001b[0m\u001b[1;32m    494\u001b[0m \u001b[0;34m\u001b[0m\u001b[0m\n\u001b[1;32m    495\u001b[0m     \u001b[0;32mreturn\u001b[0m \u001b[0mepoch_loss\u001b[0m \u001b[0;34m/\u001b[0m \u001b[0mlen\u001b[0m\u001b[0;34m(\u001b[0m\u001b[0miterator\u001b[0m\u001b[0;34m)\u001b[0m\u001b[0;34m\u001b[0m\u001b[0;34m\u001b[0m\u001b[0m\n",
            "\u001b[0;31mKeyboardInterrupt\u001b[0m: "
          ]
        }
      ],
      "source": [
        "import torch\n",
        "import json\n",
        "\n",
        "\n",
        "scheduler = optim.lr_scheduler.ReduceLROnPlateau(optimizer, mode='min', factor=0.8, patience=5)\n",
        "train_losses = []\n",
        "valid_losses = []\n",
        "\n",
        "loss_data = {\n",
        "    'train_losses': train_losses,\n",
        "    'valid_losses': valid_losses\n",
        "}\n",
        "\n",
        "N_EPOCHS = 150\n",
        "CLIP = 1\n",
        "\n",
        "# Initialize the variable to keep track of the best validation loss\n",
        "best_valid_loss = float('inf')\n",
        "\n",
        "for epoch in range(N_EPOCHS):\n",
        "    train_loss = train(model, data_loader, optimizer, criterion, CLIP)\n",
        "    valid_loss = evaluate(model, val_data_loader, criterion)\n",
        "\n",
        "    train_losses.append(train_loss)\n",
        "    valid_losses.append(valid_loss)\n",
        "\n",
        "    print(f'Epoch: {epoch+1:02} | Train Loss: {train_loss:.3f} | Val Loss : {valid_loss:.3f}')\n",
        "\n",
        "    \n",
        "    # scheduler.step(valid_loss)\n",
        "\n",
        "    if valid_loss < best_valid_loss:\n",
        "        best_valid_loss = valid_loss\n",
        "        \n",
        "        checkpoint = {\n",
        "            'epoch': epoch,\n",
        "            'model_state_dict': model.state_dict(),\n",
        "            'optimizer_state_dict': optimizer.state_dict(),\n",
        "            'train_losses': train_losses,\n",
        "            'valid_losses': valid_losses,\n",
        "            'best_valid_loss': best_valid_loss\n",
        "        }\n",
        "        torch.save(checkpoint, f'/content/checkpoints/model_checkpoint_epoch_{epoch}.pt')\n",
        "\n",
        "# Save final model\n",
        "torch.save(model.state_dict(), '/content/drive/MyDrive/DL_part_2/lstm_lstm_retrained.pt')\n",
        "\n",
        "# Save loss data\n",
        "with open('loss_data.json', 'w') as f:\n",
        "    json.dump(loss_data, f)\n"
      ]
    },
    {
      "cell_type": "code",
      "execution_count": 12,
      "metadata": {
        "colab": {
          "base_uri": "https://localhost:8080/",
          "height": 1000
        },
        "id": "UV0LTpqtNfgy",
        "outputId": "a3638c82-f4dc-4670-d973-234021ea4d74"
      },
      "outputs": [
        {
          "name": "stderr",
          "output_type": "stream",
          "text": [
            "100%|██████████| 310/310 [00:47<00:00,  6.51it/s]\n"
          ]
        },
        {
          "name": "stdout",
          "output_type": "stream",
          "text": [
            "Epoch: 57 | Train Loss: 0.080 | Val Loss : 0.617\n"
          ]
        },
        {
          "name": "stderr",
          "output_type": "stream",
          "text": [
            "100%|██████████| 310/310 [00:46<00:00,  6.74it/s]\n"
          ]
        },
        {
          "name": "stdout",
          "output_type": "stream",
          "text": [
            "Epoch: 58 | Train Loss: 0.065 | Val Loss : 0.610\n"
          ]
        },
        {
          "name": "stderr",
          "output_type": "stream",
          "text": [
            "100%|██████████| 310/310 [00:47<00:00,  6.56it/s]\n"
          ]
        },
        {
          "name": "stdout",
          "output_type": "stream",
          "text": [
            "Epoch: 59 | Train Loss: 0.057 | Val Loss : 0.624\n"
          ]
        },
        {
          "name": "stderr",
          "output_type": "stream",
          "text": [
            "100%|██████████| 310/310 [00:46<00:00,  6.63it/s]\n"
          ]
        },
        {
          "name": "stdout",
          "output_type": "stream",
          "text": [
            "Epoch: 60 | Train Loss: 0.056 | Val Loss : 0.602\n"
          ]
        },
        {
          "name": "stderr",
          "output_type": "stream",
          "text": [
            "100%|██████████| 310/310 [00:47<00:00,  6.58it/s]\n"
          ]
        },
        {
          "name": "stdout",
          "output_type": "stream",
          "text": [
            "Epoch: 61 | Train Loss: 0.052 | Val Loss : 0.631\n"
          ]
        },
        {
          "name": "stderr",
          "output_type": "stream",
          "text": [
            "100%|██████████| 310/310 [00:47<00:00,  6.59it/s]\n"
          ]
        },
        {
          "name": "stdout",
          "output_type": "stream",
          "text": [
            "Epoch: 62 | Train Loss: 0.049 | Val Loss : 0.613\n"
          ]
        },
        {
          "name": "stderr",
          "output_type": "stream",
          "text": [
            "100%|██████████| 310/310 [00:46<00:00,  6.67it/s]\n"
          ]
        },
        {
          "name": "stdout",
          "output_type": "stream",
          "text": [
            "Epoch: 63 | Train Loss: 0.046 | Val Loss : 0.642\n"
          ]
        },
        {
          "name": "stderr",
          "output_type": "stream",
          "text": [
            "100%|██████████| 310/310 [00:45<00:00,  6.75it/s]\n"
          ]
        },
        {
          "name": "stdout",
          "output_type": "stream",
          "text": [
            "Epoch: 64 | Train Loss: 0.047 | Val Loss : 0.642\n"
          ]
        },
        {
          "name": "stderr",
          "output_type": "stream",
          "text": [
            "100%|██████████| 310/310 [00:45<00:00,  6.79it/s]\n"
          ]
        },
        {
          "name": "stdout",
          "output_type": "stream",
          "text": [
            "Epoch: 65 | Train Loss: 0.044 | Val Loss : 0.689\n"
          ]
        },
        {
          "name": "stderr",
          "output_type": "stream",
          "text": [
            "100%|██████████| 310/310 [00:46<00:00,  6.62it/s]\n"
          ]
        },
        {
          "name": "stdout",
          "output_type": "stream",
          "text": [
            "Epoch: 66 | Train Loss: 0.043 | Val Loss : 0.656\n"
          ]
        },
        {
          "name": "stderr",
          "output_type": "stream",
          "text": [
            "100%|██████████| 310/310 [00:46<00:00,  6.67it/s]\n"
          ]
        },
        {
          "name": "stdout",
          "output_type": "stream",
          "text": [
            "Epoch: 67 | Train Loss: 0.043 | Val Loss : 0.647\n"
          ]
        },
        {
          "name": "stderr",
          "output_type": "stream",
          "text": [
            "100%|██████████| 310/310 [00:46<00:00,  6.69it/s]\n"
          ]
        },
        {
          "name": "stdout",
          "output_type": "stream",
          "text": [
            "Epoch: 68 | Train Loss: 0.041 | Val Loss : 0.649\n"
          ]
        },
        {
          "name": "stderr",
          "output_type": "stream",
          "text": [
            "100%|██████████| 310/310 [00:45<00:00,  6.74it/s]\n"
          ]
        },
        {
          "name": "stdout",
          "output_type": "stream",
          "text": [
            "Epoch: 69 | Train Loss: 0.040 | Val Loss : 0.665\n"
          ]
        },
        {
          "name": "stderr",
          "output_type": "stream",
          "text": [
            "100%|██████████| 310/310 [00:45<00:00,  6.80it/s]\n"
          ]
        },
        {
          "name": "stdout",
          "output_type": "stream",
          "text": [
            "Epoch: 70 | Train Loss: 0.039 | Val Loss : 0.678\n"
          ]
        },
        {
          "name": "stderr",
          "output_type": "stream",
          "text": [
            "100%|██████████| 310/310 [00:47<00:00,  6.54it/s]\n"
          ]
        },
        {
          "name": "stdout",
          "output_type": "stream",
          "text": [
            "Epoch: 71 | Train Loss: 0.037 | Val Loss : 0.689\n"
          ]
        },
        {
          "name": "stderr",
          "output_type": "stream",
          "text": [
            "100%|██████████| 310/310 [00:46<00:00,  6.67it/s]\n"
          ]
        },
        {
          "name": "stdout",
          "output_type": "stream",
          "text": [
            "Epoch: 72 | Train Loss: 0.036 | Val Loss : 0.681\n"
          ]
        },
        {
          "name": "stderr",
          "output_type": "stream",
          "text": [
            "100%|██████████| 310/310 [00:46<00:00,  6.67it/s]\n"
          ]
        },
        {
          "name": "stdout",
          "output_type": "stream",
          "text": [
            "Epoch: 73 | Train Loss: 0.036 | Val Loss : 0.672\n"
          ]
        },
        {
          "name": "stderr",
          "output_type": "stream",
          "text": [
            "100%|██████████| 310/310 [00:45<00:00,  6.79it/s]\n"
          ]
        },
        {
          "name": "stdout",
          "output_type": "stream",
          "text": [
            "Epoch: 74 | Train Loss: 0.037 | Val Loss : 0.665\n"
          ]
        },
        {
          "name": "stderr",
          "output_type": "stream",
          "text": [
            "100%|██████████| 310/310 [00:44<00:00,  6.90it/s]\n"
          ]
        },
        {
          "name": "stdout",
          "output_type": "stream",
          "text": [
            "Epoch: 75 | Train Loss: 0.037 | Val Loss : 0.682\n"
          ]
        },
        {
          "name": "stderr",
          "output_type": "stream",
          "text": [
            "100%|██████████| 310/310 [00:45<00:00,  6.76it/s]\n"
          ]
        },
        {
          "name": "stdout",
          "output_type": "stream",
          "text": [
            "Epoch: 76 | Train Loss: 0.033 | Val Loss : 0.686\n"
          ]
        },
        {
          "name": "stderr",
          "output_type": "stream",
          "text": [
            "100%|██████████| 310/310 [00:45<00:00,  6.74it/s]\n"
          ]
        },
        {
          "name": "stdout",
          "output_type": "stream",
          "text": [
            "Epoch: 77 | Train Loss: 0.034 | Val Loss : 0.662\n"
          ]
        },
        {
          "name": "stderr",
          "output_type": "stream",
          "text": [
            "100%|██████████| 310/310 [00:45<00:00,  6.79it/s]\n"
          ]
        },
        {
          "name": "stdout",
          "output_type": "stream",
          "text": [
            "Epoch: 78 | Train Loss: 0.034 | Val Loss : 0.664\n"
          ]
        },
        {
          "name": "stderr",
          "output_type": "stream",
          "text": [
            "100%|██████████| 310/310 [00:44<00:00,  6.91it/s]\n"
          ]
        },
        {
          "name": "stdout",
          "output_type": "stream",
          "text": [
            "Epoch: 79 | Train Loss: 0.034 | Val Loss : 0.699\n"
          ]
        },
        {
          "name": "stderr",
          "output_type": "stream",
          "text": [
            "100%|██████████| 310/310 [00:46<00:00,  6.65it/s]\n"
          ]
        },
        {
          "name": "stdout",
          "output_type": "stream",
          "text": [
            "Epoch: 80 | Train Loss: 0.034 | Val Loss : 0.698\n"
          ]
        },
        {
          "name": "stderr",
          "output_type": "stream",
          "text": [
            "100%|██████████| 310/310 [00:46<00:00,  6.63it/s]\n"
          ]
        },
        {
          "name": "stdout",
          "output_type": "stream",
          "text": [
            "Epoch: 81 | Train Loss: 0.032 | Val Loss : 0.723\n"
          ]
        },
        {
          "name": "stderr",
          "output_type": "stream",
          "text": [
            "100%|██████████| 310/310 [00:47<00:00,  6.59it/s]\n"
          ]
        },
        {
          "name": "stdout",
          "output_type": "stream",
          "text": [
            "Epoch: 82 | Train Loss: 0.032 | Val Loss : 0.704\n"
          ]
        },
        {
          "name": "stderr",
          "output_type": "stream",
          "text": [
            "100%|██████████| 310/310 [00:46<00:00,  6.65it/s]\n"
          ]
        },
        {
          "name": "stdout",
          "output_type": "stream",
          "text": [
            "Epoch: 83 | Train Loss: 0.031 | Val Loss : 0.688\n"
          ]
        },
        {
          "name": "stderr",
          "output_type": "stream",
          "text": [
            " 13%|█▎        | 41/310 [00:06<00:39,  6.78it/s]\n"
          ]
        },
        {
          "ename": "KeyboardInterrupt",
          "evalue": "",
          "output_type": "error",
          "traceback": [
            "\u001b[0;31m---------------------------------------------------------------------------\u001b[0m",
            "\u001b[0;31mKeyboardInterrupt\u001b[0m                         Traceback (most recent call last)",
            "\u001b[0;32m<ipython-input-12-6a464fc12972>\u001b[0m in \u001b[0;36m<cell line: 33>\u001b[0;34m()\u001b[0m\n\u001b[1;32m     32\u001b[0m \u001b[0;34m\u001b[0m\u001b[0m\n\u001b[1;32m     33\u001b[0m \u001b[0;32mfor\u001b[0m \u001b[0mepoch\u001b[0m \u001b[0;32min\u001b[0m \u001b[0mrange\u001b[0m\u001b[0;34m(\u001b[0m\u001b[0mstart_epoch\u001b[0m\u001b[0;34m,\u001b[0m \u001b[0mN_EPOCHS\u001b[0m\u001b[0;34m)\u001b[0m\u001b[0;34m:\u001b[0m\u001b[0;34m\u001b[0m\u001b[0;34m\u001b[0m\u001b[0m\n\u001b[0;32m---> 34\u001b[0;31m     \u001b[0mtrain_loss\u001b[0m \u001b[0;34m=\u001b[0m \u001b[0mtrain\u001b[0m\u001b[0;34m(\u001b[0m\u001b[0mmodel\u001b[0m\u001b[0;34m,\u001b[0m \u001b[0mdata_loader\u001b[0m\u001b[0;34m,\u001b[0m \u001b[0moptimizer\u001b[0m\u001b[0;34m,\u001b[0m \u001b[0mcriterion\u001b[0m\u001b[0;34m,\u001b[0m \u001b[0mCLIP\u001b[0m\u001b[0;34m)\u001b[0m\u001b[0;34m\u001b[0m\u001b[0;34m\u001b[0m\u001b[0m\n\u001b[0m\u001b[1;32m     35\u001b[0m     \u001b[0mvalid_loss\u001b[0m \u001b[0;34m=\u001b[0m \u001b[0mevaluate\u001b[0m\u001b[0;34m(\u001b[0m\u001b[0mmodel\u001b[0m\u001b[0;34m,\u001b[0m \u001b[0mval_data_loader\u001b[0m\u001b[0;34m,\u001b[0m \u001b[0mcriterion\u001b[0m\u001b[0;34m)\u001b[0m\u001b[0;34m\u001b[0m\u001b[0;34m\u001b[0m\u001b[0m\n\u001b[1;32m     36\u001b[0m \u001b[0;34m\u001b[0m\u001b[0m\n",
            "\u001b[0;32m<ipython-input-6-c28b5bbf5afa>\u001b[0m in \u001b[0;36mtrain\u001b[0;34m(model, iterator, optimizer, criterion, clip)\u001b[0m\n\u001b[1;32m    484\u001b[0m         \u001b[0mloss\u001b[0m \u001b[0;34m=\u001b[0m \u001b[0mcriterion\u001b[0m\u001b[0;34m(\u001b[0m\u001b[0moutput\u001b[0m\u001b[0;34m,\u001b[0m \u001b[0mtrg_out\u001b[0m\u001b[0;34m)\u001b[0m\u001b[0;34m\u001b[0m\u001b[0;34m\u001b[0m\u001b[0m\n\u001b[1;32m    485\u001b[0m \u001b[0;34m\u001b[0m\u001b[0m\n\u001b[0;32m--> 486\u001b[0;31m         \u001b[0mloss\u001b[0m\u001b[0;34m.\u001b[0m\u001b[0mbackward\u001b[0m\u001b[0;34m(\u001b[0m\u001b[0;34m)\u001b[0m\u001b[0;34m\u001b[0m\u001b[0;34m\u001b[0m\u001b[0m\n\u001b[0m\u001b[1;32m    487\u001b[0m \u001b[0;34m\u001b[0m\u001b[0m\n\u001b[1;32m    488\u001b[0m         \u001b[0;31m# Clip the gradients to prevent them from exploding (a common issue in RNNs)\u001b[0m\u001b[0;34m\u001b[0m\u001b[0;34m\u001b[0m\u001b[0m\n",
            "\u001b[0;32m/usr/local/lib/python3.10/dist-packages/torch/_tensor.py\u001b[0m in \u001b[0;36mbackward\u001b[0;34m(self, gradient, retain_graph, create_graph, inputs)\u001b[0m\n\u001b[1;32m    520\u001b[0m                 \u001b[0minputs\u001b[0m\u001b[0;34m=\u001b[0m\u001b[0minputs\u001b[0m\u001b[0;34m,\u001b[0m\u001b[0;34m\u001b[0m\u001b[0;34m\u001b[0m\u001b[0m\n\u001b[1;32m    521\u001b[0m             )\n\u001b[0;32m--> 522\u001b[0;31m         torch.autograd.backward(\n\u001b[0m\u001b[1;32m    523\u001b[0m             \u001b[0mself\u001b[0m\u001b[0;34m,\u001b[0m \u001b[0mgradient\u001b[0m\u001b[0;34m,\u001b[0m \u001b[0mretain_graph\u001b[0m\u001b[0;34m,\u001b[0m \u001b[0mcreate_graph\u001b[0m\u001b[0;34m,\u001b[0m \u001b[0minputs\u001b[0m\u001b[0;34m=\u001b[0m\u001b[0minputs\u001b[0m\u001b[0;34m\u001b[0m\u001b[0;34m\u001b[0m\u001b[0m\n\u001b[1;32m    524\u001b[0m         )\n",
            "\u001b[0;32m/usr/local/lib/python3.10/dist-packages/torch/autograd/__init__.py\u001b[0m in \u001b[0;36mbackward\u001b[0;34m(tensors, grad_tensors, retain_graph, create_graph, grad_variables, inputs)\u001b[0m\n\u001b[1;32m    264\u001b[0m     \u001b[0;31m# some Python versions print out the first line of a multi-line function\u001b[0m\u001b[0;34m\u001b[0m\u001b[0;34m\u001b[0m\u001b[0m\n\u001b[1;32m    265\u001b[0m     \u001b[0;31m# calls in the traceback and some print out the last line\u001b[0m\u001b[0;34m\u001b[0m\u001b[0;34m\u001b[0m\u001b[0m\n\u001b[0;32m--> 266\u001b[0;31m     Variable._execution_engine.run_backward(  # Calls into the C++ engine to run the backward pass\n\u001b[0m\u001b[1;32m    267\u001b[0m         \u001b[0mtensors\u001b[0m\u001b[0;34m,\u001b[0m\u001b[0;34m\u001b[0m\u001b[0;34m\u001b[0m\u001b[0m\n\u001b[1;32m    268\u001b[0m         \u001b[0mgrad_tensors_\u001b[0m\u001b[0;34m,\u001b[0m\u001b[0;34m\u001b[0m\u001b[0;34m\u001b[0m\u001b[0m\n",
            "\u001b[0;31mKeyboardInterrupt\u001b[0m: "
          ]
        }
      ],
      "source": [
        "import torch\n",
        "import torch.optim as optim\n",
        "import json\n",
        "\n",
        "\n",
        "\n",
        "# Load the checkpoint from epoch 55\n",
        "checkpoint_path = '/content/checkpoints/model_checkpoint_epoch_55.pt'\n",
        "checkpoint = torch.load(checkpoint_path)\n",
        "\n",
        "# Restore model and optimizer state\n",
        "model.load_state_dict(checkpoint['model_state_dict'])\n",
        "optimizer.load_state_dict(checkpoint['optimizer_state_dict'])\n",
        "\n",
        "# Update the learning rate\n",
        "for param_group in optimizer.param_groups:\n",
        "    param_group['lr'] = 0.0001\n",
        "\n",
        "# Continue from the last epoch\n",
        "start_epoch = checkpoint['epoch'] + 1  # Epoch 56\n",
        "N_EPOCHS = 100  \n",
        "\n",
        "# Reinitialize scheduler with the new optimizer if needed\n",
        "scheduler = optim.lr_scheduler.ReduceLROnPlateau(optimizer, mode='min', factor=0.8, patience=5)\n",
        "\n",
        "train_losses = checkpoint['train_losses']\n",
        "valid_losses = checkpoint['valid_losses']\n",
        "best_valid_loss = checkpoint['best_valid_loss']\n",
        "\n",
        "for epoch in range(start_epoch, N_EPOCHS):\n",
        "    train_loss = train(model, data_loader, optimizer, criterion, CLIP)\n",
        "    valid_loss = evaluate(model, val_data_loader, criterion)\n",
        "\n",
        "    train_losses.append(train_loss)\n",
        "    valid_losses.append(valid_loss)\n",
        "\n",
        "    print(f'Epoch: {epoch+1:02} | Train Loss: {train_loss:.3f} | Val Loss : {valid_loss:.3f}')\n",
        "\n",
        "   \n",
        "    if valid_loss < best_valid_loss:\n",
        "        best_valid_loss = valid_loss\n",
        "        checkpoint = {\n",
        "            'epoch': epoch,\n",
        "            'model_state_dict': model.state_dict(),\n",
        "            'optimizer_state_dict': optimizer.state_dict(),\n",
        "            'train_losses': train_losses,\n",
        "            'valid_losses': valid_losses,\n",
        "            'best_valid_loss': best_valid_loss\n",
        "        }\n",
        "        torch.save(checkpoint, f'/content/checkpoints/model_checkpoint_epoch_{epoch}.pt')\n",
        "\n",
        "# Save final model\n",
        "torch.save(model.state_dict(), '/content/drive/MyDrive/DL_part_2/lstm_lstm_retrained_final.pt')\n",
        "\n",
        "# Update and save loss data\n",
        "loss_data = {\n",
        "    'train_losses': train_losses,\n",
        "    'valid_losses': valid_losses\n",
        "}\n",
        "with open('loss_data.json', 'w') as f:\n",
        "    json.dump(loss_data, f)\n"
      ]
    },
    {
      "cell_type": "code",
      "execution_count": 13,
      "metadata": {
        "colab": {
          "base_uri": "https://localhost:8080/",
          "height": 564
        },
        "id": "Fr1M-gfg75FZ",
        "outputId": "7ef70c09-6cd9-44cc-9abe-264d32c8eb1b"
      },
      "outputs": [
        {
          "data": {
            "image/png": "[encoded data removed]",
            "text/plain": [
              "<Figure size 1000x600 with 1 Axes>"
            ]
          },
          "metadata": {},
          "output_type": "display_data"
        }
      ],
      "source": [
        "import matplotlib.pyplot as plt\n",
        "\n",
        "\n",
        "epochs = range(1, len(train_losses) + 1)\n",
        "\n",
        "plt.figure(figsize=(10, 6))\n",
        "plt.plot(epochs, train_losses, label='Training Loss')\n",
        "plt.plot(epochs, valid_losses, color='red', label='Validation Loss')\n",
        "plt.title('Training and Validation Loss')\n",
        "plt.xlabel('Epochs')\n",
        "plt.ylabel('Loss')\n",
        "plt.legend()\n",
        "plt.show()\n"
      ]
    },
    {
      "cell_type": "code",
      "execution_count": null,
      "metadata": {
        "id": "LCz9wLBB75CP"
      },
      "outputs": [],
      "source": []
    },
    {
      "cell_type": "code",
      "execution_count": null,
      "metadata": {
        "id": "MeZiV_jD748a"
      },
      "outputs": [],
      "source": []
    },
    {
      "cell_type": "code",
      "execution_count": null,
      "metadata": {
        "colab": {
          "base_uri": "https://localhost:8080/"
        },
        "id": "_vicpvYZazZK",
        "outputId": "60e90939-c21e-460b-c83b-aa640dfebc9e"
      },
      "outputs": [
        {
          "name": "stdout",
          "output_type": "stream",
          "text": [
            "add(n0,const_100\n"
          ]
        }
      ],
      "source": [
        "# import torch.nn.functional as F\n",
        "\n",
        "# class BeamSearchNode(object):\n",
        "#     def __init__(self, hidden, previousNode, wordId, logProb, length):\n",
        "#         self.hidden = hidden\n",
        "#         self.prevNode = previousNode\n",
        "#         self.wordid = wordId\n",
        "#         self.logp = logProb\n",
        "#         self.length = length\n",
        "\n",
        "#     def eval(self, alpha=1.0):\n",
        "#         reward = 0\n",
        "#         return self.logp / float(self.length - 1 + 1e-6) + alpha * reward\n",
        "\n",
        "# def beam_search(model, src, beam_width=10, max_len=50):\n",
        "#     src = src.to(device)\n",
        "#     src = src.unsqueeze(1)  # [src_len, 1] for a single example\n",
        "\n",
        "#     with torch.no_grad():\n",
        "#         encoder_outputs, hidden, cell = model.encoder(src)\n",
        "\n",
        "\n",
        "#     # Starting Node - hidden state, previous node, word id, log prob, length\n",
        "#     start_node = BeamSearchNode(hidden, None, [formula_vocab[\"<sos>\"]], 0, 1)\n",
        "#     nodes = [start_node]\n",
        "\n",
        "#     # Start beam search\n",
        "#     for _ in range(max_len):\n",
        "#         new_nodes = []\n",
        "#         for node in nodes:\n",
        "#             input = torch.LongTensor([node.wordid[-1]]).to(device)\n",
        "#             with torch.no_grad():\n",
        "#                 output, hidden, cell = model.decoder(input, node.hidden, cell)\n",
        "#                 log_probs = F.log_softmax(output, dim=1)\n",
        "\n",
        "#             top_log_probs, top_idx = log_probs.topk(beam_width)\n",
        "#             for i in range(beam_width):\n",
        "#                 word_idx = top_idx[0][i].item()\n",
        "#                 log_prob = top_log_probs[0][i].item()\n",
        "\n",
        "#                 new_node = BeamSearchNode(hidden, node, node.wordid + [word_idx], node.logp + log_prob, node.length + 1)\n",
        "#                 new_nodes.append(new_node)\n",
        "\n",
        "#         # Sort nodes by log probability\n",
        "#         nodes = sorted(new_nodes, key=lambda node: node.logp, reverse=True)[:beam_width]\n",
        "\n",
        "#     # Find the path with the highest probability\n",
        "#     end_node = nodes[0]\n",
        "#     output_sequence = end_node.wordid\n",
        "\n",
        "#     # Convert indices to tokens\n",
        "#     # output_tokens = [list(formula_vocab.keys())[list(formula_vocab.values()).index(i)] for i in output_sequence]\n",
        "#     output_tokens = []\n",
        "#     for i in output_sequence:\n",
        "#         if i == 3:  # The value at which you want to break\n",
        "#             break\n",
        "#         if i==2:\n",
        "#           continue\n",
        "#         else:\n",
        "#           output_tokens.append(list(formula_vocab.keys())[list(formula_vocab.values()).index(i)])\n",
        "\n",
        "\n",
        "#     return output_tokens\n",
        "\n",
        "\n",
        "\n",
        "# # \"Problem\": \"there are 10 girls and 20 boys in a classroom . what is the ratio of girls to boys ?\",\n",
        "# # \t\t\"linear_formula\": \"divide(n0,n1)\"\n",
        "# problem_text =\"120 is what percent of 50 ?\"\n",
        "\n",
        "# src = text_to_indices(problem_text, problem_vocab)\n",
        "# src_tensor = torch.LongTensor(src)\n",
        "# # Assuming src is your input tensor for a single example\n",
        "# # Adjust the `src_field` and `trg_field` to your problem and formula vocab dictionaries\n",
        "# output_tokens = beam_search(model, src_tensor)\n",
        "# # Convert indices to tokens\n",
        "# # output_tokens = [trg_field.vocab.itos[i] for i in result]\n",
        "# str=\"\"\n",
        "# for tok in output_tokens:\n",
        "#   str+=tok\n",
        "# print(str)\n"
      ]
    },
    {
      "cell_type": "code",
      "execution_count": 16,
      "metadata": {
        "colab": {
          "base_uri": "https://localhost:8080/"
        },
        "id": "SfpR6sKszKqb",
        "outputId": "8ae1512c-3d5a-444c-e426-1dad11efdf2f"
      },
      "outputs": [
        {
          "name": "stdout",
          "output_type": "stream",
          "text": [
            "divide(n0,const_3)|add(#0,const_60)|divide(#1,const_3)|\n"
          ]
        }
      ],
      "source": [
        "import torch\n",
        "import torch.nn.functional as F\n",
        "\n",
        "class BeamSearchNode(object):\n",
        "    def __init__(self, hidden, previousNode, wordId, logProb, length):\n",
        "        self.hidden = hidden\n",
        "        self.prevNode = previousNode\n",
        "        self.wordid = wordId\n",
        "        self.logp = logProb\n",
        "        self.length = length\n",
        "\n",
        "    def eval(self, alpha=1.0):\n",
        "        reward = 0\n",
        "        # Adjust the length penalty\n",
        "        return self.logp / float(self.length - 1+ 1e-6) + alpha * reward\n",
        "\n",
        "def beam_search(model, src, beam_width=10, max_len=50):\n",
        "    src = src.to(device)\n",
        "    src = src.unsqueeze(1)  # [src_len, 1] for a single example\n",
        "\n",
        "    with torch.no_grad():\n",
        "        encoder_outputs, hidden, cell = model.encoder(src)\n",
        "\n",
        "    # Starting Node - hidden state, previous node, word id, log prob, length\n",
        "    start_node = BeamSearchNode((hidden, cell), None, [formula_vocab[\"<sos>\"]], 0, 1)\n",
        "    nodes = [start_node]\n",
        "\n",
        "    # Start beam search\n",
        "    for _ in range(max_len):\n",
        "        new_nodes = []\n",
        "        for node in nodes:\n",
        "            input = torch.LongTensor([node.wordid[-1]]).to(device)\n",
        "            hidden, cell = node.hidden  # Unpack hidden state\n",
        "\n",
        "            with torch.no_grad():\n",
        "                # Make sure to pass encoder_outputs for attention mechanism\n",
        "                output, hidden, cell = model.decoder(input, hidden, cell)\n",
        "                log_probs = F.log_softmax(output, dim=1)\n",
        "\n",
        "            top_log_probs, top_idx = log_probs.topk(beam_width)\n",
        "            for i in range(beam_width):\n",
        "                word_idx = top_idx[0][i].item()\n",
        "                log_prob = top_log_probs[0][i].item()\n",
        "\n",
        "                new_node = BeamSearchNode((hidden, cell), node, node.wordid + [word_idx], node.logp + log_prob, node.length + 1)\n",
        "                new_nodes.append(new_node)\n",
        "\n",
        "        # Sort nodes by log probability\n",
        "        nodes = sorted(new_nodes, key=lambda node: node.logp, reverse=True)[:beam_width]\n",
        "\n",
        "    # Find the path with the highest probability\n",
        "    end_node = nodes[0]\n",
        "    output_sequence = end_node.wordid\n",
        "\n",
        "    # Convert indices to tokens\n",
        "    output_tokens = []\n",
        "    for i in output_sequence:\n",
        "        if i == formula_vocab[\"<eos>\"]: \n",
        "            break\n",
        "        elif i == formula_vocab[\"<sos>\"]:\n",
        "            continue\n",
        "        else:\n",
        "            output_tokens.append(list(formula_vocab.keys())[list(formula_vocab.values()).index(i)])\n",
        "\n",
        "    return output_tokens\n",
        "\n",
        "\n",
        "# \"Problem\": \"there are 10 girls and 20 boys in a classroom . what is the ratio of girls to boys ?\",\n",
        "# \t\t\"linear_formula\": \"divide(n0,n1)\"\n",
        "problem_text =  \"a man can swim in still water at 4.5 km / h , but takes twice as long to swim upstream than downstream . the speed of the stream is ?\"\n",
        "tokens = word_tokenize(problem_text.lower())\n",
        "\n",
        "# Updated token to index conversion considering \"<digit>\"\n",
        "# src = [problem_vocab[\"<digit>\"] if token.isdigit() else problem_vocab.get(token, problem_vocab[\"<unk>\"]) for token in tokens]\n",
        "src = text_to_indices(problem_text, problem_vocab)\n",
        "\n",
        "# Convert the list of indices to a PyTorch tensor\n",
        "src_tensor = torch.LongTensor(src)\n",
        "\n",
        "output_tokens = beam_search(model, src_tensor)\n",
        "# Convert indices to tokens\n",
        "# output_tokens = [trg_field.vocab.itos[i] for i in result]\n",
        "str=\"\"\n",
        "for tok in output_tokens:\n",
        "  str+=tok\n",
        "print(str)"
      ]
    },
    {
      "cell_type": "code",
      "execution_count": null,
      "metadata": {
        "id": "aOw18eDe1Ct1"
      },
      "outputs": [],
      "source": [
        "# Load the model\n",
        "# model= torch.load('/content/drive/MyDrive/Colab_Notebooks/final_model.pt')\n",
        "# model = model.to(device)\n",
        "# import torch\n",
        "\n",
        "model = model.to(device)  # Move the model to the appropriate device\n",
        "\n",
        "\n",
        "for entry in test_data:\n",
        "   \n",
        "    problem_text = entry[\"Problem\"]  \n",
        "\n",
        "    # tokenized_problems = [text_to_indices(item[\"Problem\"], problem_vocab) for item in data]\n",
        "\n",
        "    src = text_to_indices(problem_text, problem_vocab)\n",
        "    src_tensor = torch.LongTensor(src)\n",
        "\n",
        "    # Beam search with BERT model\n",
        "    output_tokens = beam_search(model, src_tensor)\n",
        "\n",
        "    str=\"\"\n",
        "    for tok in output_tokens:\n",
        "      str+=tok\n",
        "    entry[\"predicted\"] = str\n",
        "\n",
        "    with open('test_predictions_part_1.json', 'w') as f_out:\n",
        "        json.dump(test_data, f_out, indent=4) "
      ]
    },
    {
      "cell_type": "code",
      "execution_count": null,
      "metadata": {
        "id": "6yfVq7Wo1Cqc"
      },
      "outputs": [],
      "source": [
        "\n",
        "\n",
        "model = model.to(device)  \n",
        "\n",
        "\n",
        "for entry in val_data:\n",
        "   \n",
        "    problem_text = entry[\"Problem\"] \n",
        "\n",
        "    # tokenized_problems = [text_to_indices(item[\"Problem\"], problem_vocab) for item in data]\n",
        "\n",
        "    src = text_to_indices(problem_text, problem_vocab)\n",
        "    src_tensor = torch.LongTensor(src)\n",
        "\n",
        "    # Beam search with BERT model\n",
        "    output_tokens = beam_search(model, src_tensor)\n",
        "\n",
        "    str=\"\"\n",
        "    for tok in output_tokens:\n",
        "      str+=tok\n",
        "    entry[\"predicted\"] = str\n",
        "\n",
        "    with open('valid_predictions_part_1.json', 'w') as f_out:\n",
        "        json.dump(val_data, f_out, indent=4)  "
      ]
    },
    {
      "cell_type": "code",
      "execution_count": null,
      "metadata": {
        "id": "eLUoSeqF1Cn8"
      },
      "outputs": [],
      "source": []
    },
    {
      "cell_type": "code",
      "execution_count": null,
      "metadata": {
        "id": "USDveMh_1ClZ"
      },
      "outputs": [],
      "source": []
    },
    {
      "cell_type": "code",
      "execution_count": null,
      "metadata": {
        "id": "XVMsZuvX1CjE"
      },
      "outputs": [],
      "source": []
    },
    {
      "cell_type": "code",
      "execution_count": null,
      "metadata": {
        "colab": {
          "base_uri": "https://localhost:8080/"
        },
        "id": "iXoedG6ezZkG",
        "outputId": "1a4e8d17-fcae-406c-a1da-cb0061191fbb"
      },
      "outputs": [
        {
          "data": {
            "text/plain": [
              "0.04212323077503712"
            ]
          },
          "execution_count": 20,
          "metadata": {},
          "output_type": "execute_result"
        }
      ],
      "source": [
        "train_losses"
      ]
    },
    {
      "cell_type": "code",
      "execution_count": null,
      "metadata": {
        "colab": {
          "base_uri": "https://localhost:8080/",
          "height": 489
        },
        "id": "iK-xYLAWyEQU",
        "outputId": "0658bf85-3165-428a-f6ab-31a5d21be105"
      },
      "outputs": [
        {
          "data": {
            "text/plain": [
              "<matplotlib.legend.Legend at 0x7892018b86a0>"
            ]
          },
          "execution_count": 22,
          "metadata": {},
          "output_type": "execute_result"
        },
        {
          "data": {
            "image/png": "[encoded data removed]",
            "text/plain": [
              "<Figure size 640x480 with 1 Axes>"
            ]
          },
          "metadata": {},
          "output_type": "display_data"
        }
      ],
      "source": [
        "import matplotlib.pyplot as plt\n",
        "\n",
        "plt.plot(range(1, N_EPOCHS+1), train_losses, label='Train Loss')\n",
        "plt.plot(range(1, N_EPOCHS+1), valid_losses, label='Valid Loss')\n",
        "plt.xlabel('Epochs')\n",
        "plt.ylabel('Loss')\n",
        "plt.title('Training and Validation Loss')\n",
        "plt.legend()\n"
      ]
    },
    {
      "cell_type": "code",
      "execution_count": null,
      "metadata": {
        "id": "PaWA-KoszTtV"
      },
      "outputs": [],
      "source": []
    }
  ],
  "metadata": {
    "accelerator": "GPU",
    "colab": {
      "gpuType": "V100",
      "provenance": []
    },
    "kernelspec": {
      "display_name": "Python 3",
      "name": "python3"
    },
    "language_info": {
      "codemirror_mode": {
        "name": "ipython",
        "version": 3
      },
      "file_extension": ".py",
      "mimetype": "text/x-python",
      "name": "python",
      "nbconvert_exporter": "python",
      "pygments_lexer": "ipython3",
      "version": "3.10.6"
    }
  },
  "nbformat": 4,
  "nbformat_minor": 0
}
